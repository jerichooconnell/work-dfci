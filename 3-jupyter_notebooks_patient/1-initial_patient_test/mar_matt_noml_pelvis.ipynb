{
 "cells": [
  {
   "cell_type": "code",
   "execution_count": 1,
   "metadata": {},
   "outputs": [],
   "source": [
    "%matplotlib qt"
   ]
  },
  {
   "cell_type": "code",
   "execution_count": 2,
   "metadata": {},
   "outputs": [],
   "source": [
    "import numpy as np\n",
    "import matplotlib.pyplot as plt\n",
    "import mpl_interactions as pli\n",
    "import tigre"
   ]
  },
  {
   "cell_type": "code",
   "execution_count": 3,
   "metadata": {},
   "outputs": [],
   "source": [
    "# Load the mat files and extract the data\n",
    "import scipy.io\n",
    "import os\n",
    "\n",
    "# Specify the directory where the mat files are located\n",
    "directory = '/media/jericho/T7/Jericho_MAR_Studies/'\n",
    "\n",
    "# Get the list of all the mat files in the directory\n",
    "files = [os.path.join(directory, f) for f in os.listdir(directory) if f.endswith('.mat')]\n",
    "files.sort()\n",
    "\n",
    "# Load the mat files into a pandas dataframe\n",
    "data = []\n",
    "for file in files:\n",
    "    data.append(scipy.io.loadmat(file))\n"
   ]
  },
  {
   "cell_type": "code",
   "execution_count": 4,
   "metadata": {},
   "outputs": [],
   "source": [
    "\n",
    "# Extract the data from the mat files into a pandas dataframe\n",
    "# dict_keys(['__header__', '__version__', '__globals__', 'L', 'metadata'])\n",
    "data_all = {}\n",
    "for i in range(len(data)):\n",
    "    f_name = files[i].split('/')[-1]\n",
    "    data_all[f_name] = {}\n",
    "    data_all[f_name]['projections'] = data[i]['L']\n",
    "    data_all[f_name]['metadata'] = data[i]['metadata']\n"
   ]
  },
  {
   "cell_type": "code",
   "execution_count": 45,
   "metadata": {},
   "outputs": [],
   "source": [
    "first_layer_bilat_proj = data_all['2024_01_20 CIRS801PF Pelvis BiLat_Al kV-CBCT DLI L1 140kVp 25mAs.mat']['projections']\n",
    "first_layer_bilat_header = data_all['2024_01_20 CIRS801PF Pelvis BiLat_Al kV-CBCT DLI L1 140kVp 25mAs.mat']['metadata']\n",
    "secon_layer_bilat_proj = data_all['2024_01_20 CIRS801PF Pelvis BiLat_Al kV-CBCT DLI L2 140kVp 25mAs.mat']['projections']\n",
    "secon_layer_bilat_header = data_all['2024_01_20 CIRS801PF Pelvis BiLat_Al kV-CBCT DLI L1 140kVp 25mAs.mat']['metadata']"
   ]
  },
  {
   "cell_type": "code",
   "execution_count": 32,
   "metadata": {},
   "outputs": [],
   "source": [
    "first_layer_bilat_proj_nm = data_all['2024_01_20 CIRS801PF Pelvis NoMetal kV-CBCT DLI L1 140kVp 25mAs.mat']['projections']\n",
    "first_layer_bilat_header = data_all['2024_01_20 CIRS801PF Pelvis BiLat_Ti kV-CBCT DLI L1 140kVp 25mAs.mat']['metadata']\n",
    "secon_layer_bilat_proj_nm = data_all['2024_01_20 CIRS801PF Pelvis NoMetal kV-CBCT DLI L2 140kVp 25mAs.mat']['projections']\n",
    "secon_layer_bilat_header = data_all['2024_01_20 CIRS801PF Pelvis BiLat_Ti kV-CBCT DLI L2 140kVp 25mAs.mat']['metadata']"
   ]
  },
  {
   "cell_type": "code",
   "execution_count": 33,
   "metadata": {},
   "outputs": [],
   "source": [
    "# first_layer_bilat_proj = data_all['2024_01_20 CIRS801PF Spine Metal_DoubleScrew kV-CBCT DLI L1 140kVp 25mAs.mat']['projections']\n",
    "# first_layer_bilat_header = data_all['2024_01_20 CIRS801PF Pelvis BiLat_Ti kV-CBCT DLI L1 140kVp 25mAs.mat']['metadata']\n",
    "# secon_layer_bilat_proj = data_all['2024_01_20 CIRS801PF Spine Metal_DoubleScrew kV-CBCT DLI L2 140kVp 25mAs.mat']['projections']\n",
    "# secon_layer_bilat_header = data_all['2024_01_20 CIRS801PF Pelvis BiLat_Ti kV-CBCT DLI L2 140kVp 25mAs.mat']['metadata']"
   ]
  },
  {
   "cell_type": "code",
   "execution_count": 34,
   "metadata": {},
   "outputs": [
    {
     "name": "stderr",
     "output_type": "stream",
     "text": [
      "/tmp/ipykernel_49809/4218207276.py:19: RuntimeWarning: divide by zero encountered in divide\n",
      "  ratio0 = image_high/(image_low)\n",
      "/tmp/ipykernel_49809/4218207276.py:19: RuntimeWarning: invalid value encountered in divide\n",
      "  ratio0 = image_high/(image_low)\n"
     ]
    }
   ],
   "source": [
    "import numpy as np\n",
    "import matplotlib.pyplot as plt\n",
    "\n",
    "from skimage import data, color\n",
    "from skimage.transform import hough_circle, hough_circle_peaks\n",
    "from skimage.feature import canny\n",
    "from skimage.draw import circle_perimeter, disk\n",
    "from skimage.util import img_as_ubyte\n",
    "from skimage.restoration import inpaint\n",
    "from skimage.morphology import binary_dilation\n",
    "\n",
    "def inpaint_images_spine(images0,images1):\n",
    "    results = []\n",
    "    images2 = images0.copy()\n",
    "    images3 = images1.copy()\n",
    "    \n",
    "    for image_high, image_low in zip(images2, images3):\n",
    "\n",
    "        ratio0 = image_high/(image_low)\n",
    "\n",
    "        mask = np.zeros_like(image_high)\n",
    "        \n",
    "        mask[240:,125:145 ] = ratio0[240:,125:145 ] > 1.05\n",
    "        # mask[240:,125:145 ] += image_high[240:,125:145 ] > p_98\n",
    "        # mask[240:290,125:145 ] += ratio0[240:290,125:145 ]*image_high[240:290,125:145 ] > 6.5*1.1\n",
    "        mask[mask == 2] = 1\n",
    "        mask[mask == 3] = 1\n",
    "        image_high[mask.astype(bool)] = np.NaN\n",
    "        # image_high[image_high > p_98] = np.NaN\n",
    "        # Make the values above below and to the side of the NaNs NaN\n",
    "        # mask = np.isnan(image_high)\n",
    "        expanded_mask = binary_dilation(mask)\n",
    "        # expanded_mask = binary_dilation(expanded_mask)\n",
    "        # expanded_mask = binary_dilation(expanded_mask)\n",
    "        # expanded_mask = binary_dilation(expanded_mask)\n",
    "        expanded_mask = binary_dilation(expanded_mask)\n",
    "\n",
    "        image_high[expanded_mask] = np.NaN\n",
    "        # Inpaint image\n",
    "        mask =  np.isnan(image_high)\n",
    "        image_result = inpaint.inpaint_biharmonic(image_high, mask)\n",
    "        results.append(image_result)\n",
    "        # results.append(image_high)\n",
    "    return results\n",
    "images_LI = inpaint_images_spine(first_layer_bilat_proj.T[:],first_layer_bilat_proj_nm.T[:])"
   ]
  },
  {
   "cell_type": "code",
   "execution_count": 35,
   "metadata": {},
   "outputs": [
    {
     "name": "stderr",
     "output_type": "stream",
     "text": [
      "/tmp/ipykernel_49809/4049590518.py:19: RuntimeWarning: divide by zero encountered in divide\n",
      "  ratio0 = image_high/(image_low)\n",
      "/tmp/ipykernel_49809/4049590518.py:19: RuntimeWarning: invalid value encountered in divide\n",
      "  ratio0 = image_high/(image_low)\n"
     ]
    }
   ],
   "source": [
    "import numpy as np\n",
    "import matplotlib.pyplot as plt\n",
    "\n",
    "from skimage import data, color\n",
    "from skimage.transform import hough_circle, hough_circle_peaks\n",
    "from skimage.feature import canny\n",
    "from skimage.draw import circle_perimeter, disk\n",
    "from skimage.util import img_as_ubyte\n",
    "from skimage.restoration import inpaint\n",
    "from skimage.morphology import binary_dilation\n",
    "\n",
    "def inpaint_images_spine(images0,images1):\n",
    "    results = []\n",
    "    images2 = images0.copy()\n",
    "    images3 = images1.copy()\n",
    "    \n",
    "    for image_high, image_low in zip(images2, images3):\n",
    "\n",
    "        ratio0 = image_high/(image_low)\n",
    "\n",
    "        mask = np.zeros_like(image_high)\n",
    "        mask[240:,125:145 ] = ratio0[240:,125:145 ] > 1.05\n",
    "        # mask[240:,125:145 ] += image_high[240:,125:145 ] > p_98\n",
    "        # mask[240:290,125:145 ] += ratio0[240:290,125:145 ]*image_high[240:290,125:145 ] > 6.5*1.1\n",
    "        mask[mask == 2] = 1\n",
    "        mask[mask == 3] = 1\n",
    "        image_high[mask.astype(bool)] = np.NaN\n",
    "        # image_high[image_high > p_98] = np.NaN\n",
    "        # Make the values above below and to the side of the NaNs NaN\n",
    "        # mask = np.isnan(image_high)\n",
    "        expanded_mask = binary_dilation(mask)\n",
    "        # expanded_mask = binary_dilation(expanded_mask)\n",
    "        # expanded_mask = binary_dilation(expanded_mask)\n",
    "        # expanded_mask = binary_dilation(expanded_mask)\n",
    "        expanded_mask = binary_dilation(expanded_mask)\n",
    "\n",
    "        image_high[expanded_mask] = np.NaN\n",
    "        # Inpaint image\n",
    "        mask =  np.isnan(image_high)\n",
    "        image_result = inpaint.inpaint_biharmonic(image_high, mask)\n",
    "        results.append(image_result)\n",
    "        # results.append(image_high)\n",
    "    return results\n",
    "\n",
    "images_LI_second = inpaint_images_spine(secon_layer_bilat_proj.T[:],first_layer_bilat_proj_nm.T[:])"
   ]
  },
  {
   "cell_type": "code",
   "execution_count": 36,
   "metadata": {},
   "outputs": [
    {
     "name": "stderr",
     "output_type": "stream",
     "text": [
      "/tmp/ipykernel_49809/2089553179.py:20: RuntimeWarning: invalid value encountered in divide\n",
      "  ratio0 = image_high/(image_low)\n"
     ]
    }
   ],
   "source": [
    "import numpy as np\n",
    "import matplotlib.pyplot as plt\n",
    "\n",
    "from skimage import data, color\n",
    "from skimage.transform import hough_circle, hough_circle_peaks\n",
    "from skimage.feature import canny\n",
    "from skimage.draw import circle_perimeter, disk\n",
    "from skimage.util import img_as_ubyte\n",
    "from skimage.restoration import inpaint\n",
    "from skimage.morphology import binary_dilation\n",
    "\n",
    "def trace_replacement_spine(images0,images1,images4):\n",
    "    results = []\n",
    "    images2 = images0.copy()\n",
    "    images3 = images1.copy()\n",
    "    images4 = images4.copy()\n",
    "    \n",
    "    for image_high, image_low, image_low2 in zip(images2, images3, images4):\n",
    "\n",
    "        ratio0 = image_high/(image_low)\n",
    "\n",
    "        mask = np.zeros_like(image_high)\n",
    "        mask[240:,125:145 ] = ratio0[240:,125:145 ] > 1.05\n",
    "        # mask[240:,125:145 ] += image_high[240:,125:145 ] > p_98\n",
    "        # mask[240:290,125:145 ] += ratio0[240:290,125:145 ]*image_high[240:290,125:145 ] > 6.5*1.1\n",
    "        mask[mask == 2] = 1\n",
    "        mask[mask == 3] = 1\n",
    "        image_high[mask.astype(bool)] = np.NaN\n",
    "        # image_high[image_high > p_98] = np.NaN\n",
    "        # Make the values above below and to the side of the NaNs NaN\n",
    "        # mask = np.isnan(image_high)\n",
    "        expanded_mask = binary_dilation(mask)\n",
    "        # expanded_mask = binary_dilation(expanded_mask)\n",
    "        # expanded_mask = binary_dilation(expanded_mask)\n",
    "        # expanded_mask = binary_dilation(expanded_mask)\n",
    "        expanded_mask = binary_dilation(expanded_mask)\n",
    "\n",
    "        image_high[expanded_mask] = np.NaN\n",
    "        # Inpaint image\n",
    "        mask =  np.isnan(image_high)\n",
    "        # image_result = inpaint.inpaint_biharmonic(image_high, mask)\n",
    "        # results.append(image_result)\n",
    "        image_high[mask] = image_low2[mask]\n",
    "        results.append(image_high)\n",
    "    return results\n",
    "\n",
    "images_LI_tr = trace_replacement_spine(first_layer_bilat_proj.T[:],0.25*first_layer_bilat_proj.T,first_layer_bilat_proj_nm.T[:])"
   ]
  },
  {
   "cell_type": "markdown",
   "metadata": {},
   "source": []
  },
  {
   "cell_type": "code",
   "execution_count": 37,
   "metadata": {},
   "outputs": [],
   "source": [
    "geo = tigre.geometry_default()"
   ]
  },
  {
   "cell_type": "code",
   "execution_count": 46,
   "metadata": {},
   "outputs": [],
   "source": [
    "# plt.figure()\n",
    "# plt.plot(secon_layer_bilat_header[0][-1][2][1,:], secon_layer_bilat_header[0][-1][2][0,:], 'o')\n",
    "# plt.plot(first_layer_bilat_header[0][-1][1][1,:], first_layer_bilat_header[0][-1][1][0,:], 'o')\n",
    "\n",
    "source_pos_x = secon_layer_bilat_header[0][-1][2][1,:]\n",
    "source_pos_y = secon_layer_bilat_header[0][-1][2][0,:]\n",
    "detector_pos_x = first_layer_bilat_header[0][-1][1][1,:]\n",
    "detector_pos_y = first_layer_bilat_header[0][-1][1][0,:]\n",
    "\n",
    "# calculate the angles from the source to the detector\n",
    "angles_real = np.arctan2(detector_pos_x - source_pos_x, detector_pos_y - source_pos_y)\n",
    "\n",
    "# calculate the distance from the source to the detector\n",
    "distance = np.sqrt((detector_pos_x - source_pos_x)**2 + (detector_pos_y - source_pos_y)**2)\n"
   ]
  },
  {
   "cell_type": "code",
   "execution_count": 47,
   "metadata": {},
   "outputs": [
    {
     "name": "stdout",
     "output_type": "stream",
     "text": [
      "[1500.]\n",
      "[160.   0.]\n"
     ]
    }
   ],
   "source": [
    "import h5py\n",
    "import numpy as np\n",
    "\n",
    "class Geo:\n",
    "    pass\n",
    "\n",
    "def assign_values_to_geo(filename):\n",
    "    geo = Geo()\n",
    "    with h5py.File(filename, 'r') as f:\n",
    "        def assign_value(name, obj):\n",
    "            if isinstance(obj, h5py.Dataset):\n",
    "                # Remove 'geo/' from the name and replace any remaining '/' with '_'\n",
    "                attr_name = name.replace('geo/', '').replace('/', '_')\n",
    "                setattr(geo, attr_name, np.array(obj[0][()]))\n",
    "        f.visititems(assign_value)\n",
    "    return geo\n",
    "\n",
    "# Use the function\n",
    "geo2 = assign_values_to_geo('/home/jericho/Downloads/firefox-downloads/geo.mat')\n",
    "\n",
    "# Now you can access the values like this:\n",
    "print(geo2.DSD)\n",
    "print(geo2.offDetector)\n",
    "# print_hdf5_file_structure()"
   ]
  },
  {
   "cell_type": "code",
   "execution_count": 48,
   "metadata": {},
   "outputs": [],
   "source": [
    "geo.DSD = 1527.3\n",
    "geo.DSO = 1000\n",
    "# geo.mode = geo2.mode\n",
    "geo.nDetector = np.array([266, 354])\n",
    "geo.dDetector = np.array([1.12,1.12])\n",
    "geo.sDetector = geo.nDetector*geo.dDetector\n",
    "geo.offDetector = np.array([0,-160])# geo2.offDetector\n",
    "geo.nVoxel = np.array([120,512,512])\n",
    "geo.dVoxel = np.array([1.2,1,1])\n",
    "geo.sVoxel = geo.nVoxel*geo.dVoxel\n",
    "geo.offOrigin = geo2.offOrigin"
   ]
  },
  {
   "cell_type": "code",
   "execution_count": 49,
   "metadata": {},
   "outputs": [],
   "source": [
    "angles = angles_real \n",
    "# Shift the angles by 110 degrees \n",
    "angles = angles + np.deg2rad(-90)\n",
    "# Make sure that the angles are between 0 and 2*pi\n",
    "angles = np.mod(angles, 2*np.pi)\n"
   ]
  },
  {
   "cell_type": "code",
   "execution_count": 51,
   "metadata": {},
   "outputs": [
    {
     "name": "stdout",
     "output_type": "stream",
     "text": [
      "FDK: applying detector offset weights\n",
      "-285 639 0 -38.24000000000001\n",
      "TIGRE parameters\n",
      "-----\n",
      "Geometry parameters\n",
      "Distance from source to detector (DSD) = 1527.3 mm\n",
      "Distance from source to origin (DSO)= 1000 mm\n",
      "-----\n",
      "Detector parameters\n",
      "Number of pixels (nDetector) = [266 639]\n",
      "Size of each pixel (dDetector) = [1.12 1.12] mm\n",
      "Total size of the detector (sDetector) = [297.92 715.68] mm\n",
      "-----\n",
      "Image parameters\n",
      "Number of voxels (nVoxel) = [120 512 512]\n",
      "Total size of the image (sVoxel) = [144. 512. 512.] mm\n",
      "Size of each voxel (dVoxel) = [1.2 1.  1. ] mm\n",
      "-----\n",
      "Offset correction parameters\n",
      "Offset of image from origin (offOrigin) = [0. 0. 0.] mm\n",
      "Offset of detector (offDetector) = [0 0] mm\n",
      "-----\n",
      "Auxillary parameters\n",
      "Samples per pixel of forward projection (accuracy) = 0.5\n",
      "(895, 266, 639)\n",
      "FDK: applying detector offset weights\n",
      "-285 639 0 -38.24000000000001\n",
      "TIGRE parameters\n",
      "-----\n",
      "Geometry parameters\n",
      "Distance from source to detector (DSD) = 1527.3 mm\n",
      "Distance from source to origin (DSO)= 1000 mm\n",
      "-----\n",
      "Detector parameters\n",
      "Number of pixels (nDetector) = [266 639]\n",
      "Size of each pixel (dDetector) = [1.12 1.12] mm\n",
      "Total size of the detector (sDetector) = [297.92 715.68] mm\n",
      "-----\n",
      "Image parameters\n",
      "Number of voxels (nVoxel) = [120 512 512]\n",
      "Total size of the image (sVoxel) = [144. 512. 512.] mm\n",
      "Size of each voxel (dVoxel) = [1.2 1.  1. ] mm\n",
      "-----\n",
      "Offset correction parameters\n",
      "Offset of image from origin (offOrigin) = [0. 0. 0.] mm\n",
      "Offset of detector (offDetector) = [0 0] mm\n",
      "-----\n",
      "Auxillary parameters\n",
      "Samples per pixel of forward projection (accuracy) = 0.5\n",
      "(895, 266, 639)\n",
      "FDK: applying detector offset weights\n",
      "-285 639 0 -38.24000000000001\n",
      "TIGRE parameters\n",
      "-----\n",
      "Geometry parameters\n",
      "Distance from source to detector (DSD) = 1527.3 mm\n",
      "Distance from source to origin (DSO)= 1000 mm\n",
      "-----\n",
      "Detector parameters\n",
      "Number of pixels (nDetector) = [266 639]\n",
      "Size of each pixel (dDetector) = [1.12 1.12] mm\n",
      "Total size of the detector (sDetector) = [297.92 715.68] mm\n",
      "-----\n",
      "Image parameters\n",
      "Number of voxels (nVoxel) = [120 512 512]\n",
      "Total size of the image (sVoxel) = [144. 512. 512.] mm\n",
      "Size of each voxel (dVoxel) = [1.2 1.  1. ] mm\n",
      "-----\n",
      "Offset correction parameters\n",
      "Offset of image from origin (offOrigin) = [0. 0. 0.] mm\n",
      "Offset of detector (offDetector) = [0 0] mm\n",
      "-----\n",
      "Auxillary parameters\n",
      "Samples per pixel of forward projection (accuracy) = 0.5\n",
      "(893, 266, 639)\n"
     ]
    },
    {
     "ename": "IndexError",
     "evalue": "index 893 is out of bounds for axis 0 with size 893",
     "output_type": "error",
     "traceback": [
      "\u001b[0;31m---------------------------------------------------------------------------\u001b[0m",
      "\u001b[0;31mIndexError\u001b[0m                                Traceback (most recent call last)",
      "Cell \u001b[0;32mIn[51], line 3\u001b[0m\n\u001b[1;32m      1\u001b[0m img_first \u001b[38;5;241m=\u001b[39m tigre\u001b[38;5;241m.\u001b[39malgorithms\u001b[38;5;241m.\u001b[39mfdk(first_layer_bilat_proj\u001b[38;5;241m.\u001b[39mtranspose([\u001b[38;5;241m2\u001b[39m,\u001b[38;5;241m0\u001b[39m,\u001b[38;5;241m1\u001b[39m]),geo,angles,dowang\u001b[38;5;241m=\u001b[39m\u001b[38;5;28;01mTrue\u001b[39;00m)\n\u001b[1;32m      2\u001b[0m img_second \u001b[38;5;241m=\u001b[39m tigre\u001b[38;5;241m.\u001b[39malgorithms\u001b[38;5;241m.\u001b[39mfdk(secon_layer_bilat_proj\u001b[38;5;241m.\u001b[39mtranspose([\u001b[38;5;241m2\u001b[39m,\u001b[38;5;241m0\u001b[39m,\u001b[38;5;241m1\u001b[39m]),geo,angles,dowang\u001b[38;5;241m=\u001b[39m\u001b[38;5;28;01mTrue\u001b[39;00m)\n\u001b[0;32m----> 3\u001b[0m img_LI \u001b[38;5;241m=\u001b[39m tigre\u001b[38;5;241m.\u001b[39malgorithms\u001b[38;5;241m.\u001b[39mfdk(np\u001b[38;5;241m.\u001b[39marray(images_LI)\u001b[38;5;241m.\u001b[39mtranspose([\u001b[38;5;241m0\u001b[39m,\u001b[38;5;241m2\u001b[39m,\u001b[38;5;241m1\u001b[39m])[:\u001b[38;5;241m-\u001b[39m\u001b[38;5;241m1\u001b[39m],geo,angles,dowang\u001b[38;5;241m=\u001b[39m\u001b[38;5;28;01mTrue\u001b[39;00m)\n\u001b[1;32m      4\u001b[0m img_gt \u001b[38;5;241m=\u001b[39m tigre\u001b[38;5;241m.\u001b[39malgorithms\u001b[38;5;241m.\u001b[39mfdk(first_layer_bilat_proj_nm\u001b[38;5;241m.\u001b[39mtranspose([\u001b[38;5;241m2\u001b[39m,\u001b[38;5;241m0\u001b[39m,\u001b[38;5;241m1\u001b[39m]),geo,angles\u001b[38;5;241m.\u001b[39mappend[angles[\u001b[38;5;241m0\u001b[39m]],dowang\u001b[38;5;241m=\u001b[39m\u001b[38;5;28;01mTrue\u001b[39;00m)\n",
      "File \u001b[0;32m~/anaconda3/envs/tigre_fastcat/lib/python3.11/site-packages/pytigre-2.4.0-py3.11-linux-x86_64.egg/tigre/algorithms/single_pass_algorithms.py:176\u001b[0m, in \u001b[0;36mFDK\u001b[0;34m(proj, geo, angles, **kwargs)\u001b[0m\n\u001b[1;32m    173\u001b[0m w \u001b[38;5;241m=\u001b[39m geo\u001b[38;5;241m.\u001b[39mDSD[\u001b[38;5;241m0\u001b[39m] \u001b[38;5;241m/\u001b[39m np\u001b[38;5;241m.\u001b[39msqrt((geo\u001b[38;5;241m.\u001b[39mDSD[\u001b[38;5;241m0\u001b[39m] \u001b[38;5;241m*\u001b[39m\u001b[38;5;241m*\u001b[39m \u001b[38;5;241m2\u001b[39m \u001b[38;5;241m+\u001b[39m xx \u001b[38;5;241m*\u001b[39m\u001b[38;5;241m*\u001b[39m \u001b[38;5;241m2\u001b[39m \u001b[38;5;241m+\u001b[39m yy \u001b[38;5;241m*\u001b[39m\u001b[38;5;241m*\u001b[39m \u001b[38;5;241m2\u001b[39m))\n\u001b[1;32m    174\u001b[0m np\u001b[38;5;241m.\u001b[39mmultiply(proj, w, out\u001b[38;5;241m=\u001b[39mproj_filt)\n\u001b[0;32m--> 176\u001b[0m proj_filt \u001b[38;5;241m=\u001b[39m filtering(proj_filt, geo, angles,\n\u001b[1;32m    177\u001b[0m                       parker\u001b[38;5;241m=\u001b[39m\u001b[38;5;28;01mFalse\u001b[39;00m, verbose\u001b[38;5;241m=\u001b[39mverbose)\n\u001b[1;32m    178\u001b[0m \u001b[38;5;66;03m# geo.proj = proj_filt\u001b[39;00m\n\u001b[1;32m    180\u001b[0m \u001b[38;5;28;01mreturn\u001b[39;00m Atb(proj_filt, geo, geo\u001b[38;5;241m.\u001b[39mangles, \u001b[38;5;124m\"\u001b[39m\u001b[38;5;124mFDK\u001b[39m\u001b[38;5;124m\"\u001b[39m, gpuids\u001b[38;5;241m=\u001b[39mgpuids)\n",
      "File \u001b[0;32m~/anaconda3/envs/tigre_fastcat/lib/python3.11/site-packages/pytigre-2.4.0-py3.11-linux-x86_64.egg/tigre/utilities/filtering.py:34\u001b[0m, in \u001b[0;36mfiltering\u001b[0;34m(proj, geo, angles, parker, verbose)\u001b[0m\n\u001b[1;32m     32\u001b[0m fproj\u001b[38;5;241m.\u001b[39mfill(\u001b[38;5;241m0\u001b[39m)\n\u001b[1;32m     33\u001b[0m fproj\u001b[38;5;241m.\u001b[39mreal[:,padding:padding\u001b[38;5;241m+\u001b[39mgeo\u001b[38;5;241m.\u001b[39mnDetector[\u001b[38;5;241m1\u001b[39m]]\u001b[38;5;241m=\u001b[39mproj[i]\n\u001b[0;32m---> 34\u001b[0m fproj\u001b[38;5;241m.\u001b[39mimag[:,padding:padding\u001b[38;5;241m+\u001b[39mgeo\u001b[38;5;241m.\u001b[39mnDetector[\u001b[38;5;241m1\u001b[39m]]\u001b[38;5;241m=\u001b[39mproj[i\u001b[38;5;241m+\u001b[39m\u001b[38;5;241m1\u001b[39m]\n\u001b[1;32m     36\u001b[0m fproj\u001b[38;5;241m=\u001b[39mfft(fproj,axis\u001b[38;5;241m=\u001b[39m\u001b[38;5;241m1\u001b[39m)\n\u001b[1;32m     37\u001b[0m fproj\u001b[38;5;241m=\u001b[39mfproj\u001b[38;5;241m*\u001b[39mfilt\n",
      "\u001b[0;31mIndexError\u001b[0m: index 893 is out of bounds for axis 0 with size 893"
     ]
    }
   ],
   "source": [
    "img_first = tigre.algorithms.fdk(first_layer_bilat_proj.transpose([2,0,1]),geo,angles,dowang=True)\n",
    "img_second = tigre.algorithms.fdk(secon_layer_bilat_proj.transpose([2,0,1]),geo,angles,dowang=True)\n",
    "img_LI = tigre.algorithms.fdk(np.array(images_LI).transpose([0,2,1])[:-1],geo,angles,dowang=True)\n"
   ]
  },
  {
   "cell_type": "code",
   "execution_count": 52,
   "metadata": {},
   "outputs": [
    {
     "name": "stdout",
     "output_type": "stream",
     "text": [
      "FDK: applying detector offset weights\n",
      "-285 639 0 -38.24000000000001\n",
      "TIGRE parameters\n",
      "-----\n",
      "Geometry parameters\n",
      "Distance from source to detector (DSD) = 1527.3 mm\n",
      "Distance from source to origin (DSO)= 1000 mm\n",
      "-----\n",
      "Detector parameters\n",
      "Number of pixels (nDetector) = [266 639]\n",
      "Size of each pixel (dDetector) = [1.12 1.12] mm\n",
      "Total size of the detector (sDetector) = [297.92 715.68] mm\n",
      "-----\n",
      "Image parameters\n",
      "Number of voxels (nVoxel) = [120 512 512]\n",
      "Total size of the image (sVoxel) = [144. 512. 512.] mm\n",
      "Size of each voxel (dVoxel) = [1.2 1.  1. ] mm\n",
      "-----\n",
      "Offset correction parameters\n",
      "Offset of image from origin (offOrigin) = [0. 0. 0.] mm\n",
      "Offset of detector (offDetector) = [0 0] mm\n",
      "-----\n",
      "Auxillary parameters\n",
      "Samples per pixel of forward projection (accuracy) = 0.5\n",
      "(894, 266, 639)\n"
     ]
    }
   ],
   "source": [
    "\n",
    "img_gt = tigre.algorithms.fdk(first_layer_bilat_proj_nm.transpose([2,0,1]),geo,angles[:-1],dowang=True)\n",
    "# img_combined = tigre.algorithms.fdk(np.array(images_LI).transpose([0,2,1]),geo,angles,dowang=True)"
   ]
  },
  {
   "cell_type": "code",
   "execution_count": 65,
   "metadata": {},
   "outputs": [
    {
     "name": "stderr",
     "output_type": "stream",
     "text": [
      "/tmp/ipykernel_49809/2002481649.py:4: RuntimeWarning: divide by zero encountered in log\n",
      "  im = ii*np.log(first_layer_bilat_proj.T[100]) - np.log(secon_layer_bilat_proj.T[100])\n",
      "/tmp/ipykernel_49809/2002481649.py:4: RuntimeWarning: invalid value encountered in multiply\n",
      "  im = ii*np.log(first_layer_bilat_proj.T[100]) - np.log(secon_layer_bilat_proj.T[100])\n",
      "/tmp/ipykernel_49809/2002481649.py:4: RuntimeWarning: invalid value encountered in subtract\n",
      "  im = ii*np.log(first_layer_bilat_proj.T[100]) - np.log(secon_layer_bilat_proj.T[100])\n"
     ]
    }
   ],
   "source": [
    "images = []\n",
    "\n",
    "for ii in np.linspace(0,1.2,10):\n",
    "    im = ii*np.log(first_layer_bilat_proj.T[100]) - np.log(secon_layer_bilat_proj.T[100])\n",
    "    im[im == -np.inf] = 0\n",
    "    im[im == np.inf] = 0\n",
    "    im[np.isnan(im)] = 0\n",
    "    images.append(im)\n",
    "\n",
    "    "
   ]
  },
  {
   "cell_type": "code",
   "execution_count": 67,
   "metadata": {},
   "outputs": [
    {
     "ename": "AttributeError",
     "evalue": "'Controls' object has no attribute 'vbox'",
     "output_type": "error",
     "traceback": [
      "\u001b[0;31m---------------------------------------------------------------------------\u001b[0m",
      "\u001b[0;31mAttributeError\u001b[0m                            Traceback (most recent call last)",
      "File \u001b[0;32m~/anaconda3/envs/tigre_fastcat/lib/python3.11/site-packages/IPython/core/formatters.py:922\u001b[0m, in \u001b[0;36mIPythonDisplayFormatter.__call__\u001b[0;34m(self, obj)\u001b[0m\n\u001b[1;32m    920\u001b[0m method \u001b[38;5;241m=\u001b[39m get_real_method(obj, \u001b[38;5;28mself\u001b[39m\u001b[38;5;241m.\u001b[39mprint_method)\n\u001b[1;32m    921\u001b[0m \u001b[38;5;28;01mif\u001b[39;00m method \u001b[38;5;129;01mis\u001b[39;00m \u001b[38;5;129;01mnot\u001b[39;00m \u001b[38;5;28;01mNone\u001b[39;00m:\n\u001b[0;32m--> 922\u001b[0m     method()\n\u001b[1;32m    923\u001b[0m     \u001b[38;5;28;01mreturn\u001b[39;00m \u001b[38;5;28;01mTrue\u001b[39;00m\n",
      "File \u001b[0;32m~/anaconda3/envs/tigre_fastcat/lib/python3.11/site-packages/mpl_interactions/controller.py:349\u001b[0m, in \u001b[0;36mControls._ipython_display_\u001b[0;34m(self)\u001b[0m\n\u001b[1;32m    348\u001b[0m \u001b[38;5;28;01mdef\u001b[39;00m \u001b[38;5;21m_ipython_display_\u001b[39m(\u001b[38;5;28mself\u001b[39m):\n\u001b[0;32m--> 349\u001b[0m     ipy_display(\u001b[38;5;28mself\u001b[39m\u001b[38;5;241m.\u001b[39mvbox)\n",
      "\u001b[0;31mAttributeError\u001b[0m: 'Controls' object has no attribute 'vbox'"
     ]
    },
    {
     "data": {
      "text/plain": [
       "<mpl_interactions.controller.Controls at 0x7fa441b23110>"
      ]
     },
     "execution_count": 67,
     "metadata": {},
     "output_type": "execute_result"
    }
   ],
   "source": [
    "plt.figure()\n",
    "pli.hyperslicer(images,vmin=0.1,vmax=0.5)"
   ]
  },
  {
   "cell_type": "code",
   "execution_count": 54,
   "metadata": {},
   "outputs": [
    {
     "name": "stdout",
     "output_type": "stream",
     "text": [
      "FDK: applying detector offset weights\n",
      "-285 639 0 -38.24000000000001\n",
      "TIGRE parameters\n",
      "-----\n",
      "Geometry parameters\n",
      "Distance from source to detector (DSD) = 1527.3 mm\n",
      "Distance from source to origin (DSO)= 1000 mm\n",
      "-----\n",
      "Detector parameters\n",
      "Number of pixels (nDetector) = [266 639]\n",
      "Size of each pixel (dDetector) = [1.12 1.12] mm\n",
      "Total size of the detector (sDetector) = [297.92 715.68] mm\n",
      "-----\n",
      "Image parameters\n",
      "Number of voxels (nVoxel) = [120 512 512]\n",
      "Total size of the image (sVoxel) = [144. 512. 512.] mm\n",
      "Size of each voxel (dVoxel) = [1.2 1.  1. ] mm\n",
      "-----\n",
      "Offset correction parameters\n",
      "Offset of image from origin (offOrigin) = [0. 0. 0.] mm\n",
      "Offset of detector (offDetector) = [0 0] mm\n",
      "-----\n",
      "Auxillary parameters\n",
      "Samples per pixel of forward projection (accuracy) = 0.5\n",
      "(894, 266, 639)\n",
      "FDK: applying detector offset weights\n",
      "-285 639 0 -38.24000000000001\n",
      "TIGRE parameters\n",
      "-----\n",
      "Geometry parameters\n",
      "Distance from source to detector (DSD) = 1527.3 mm\n",
      "Distance from source to origin (DSO)= 1000 mm\n",
      "-----\n",
      "Detector parameters\n",
      "Number of pixels (nDetector) = [266 639]\n",
      "Size of each pixel (dDetector) = [1.12 1.12] mm\n",
      "Total size of the detector (sDetector) = [297.92 715.68] mm\n",
      "-----\n",
      "Image parameters\n",
      "Number of voxels (nVoxel) = [120 512 512]\n",
      "Total size of the image (sVoxel) = [144. 512. 512.] mm\n",
      "Size of each voxel (dVoxel) = [1.2 1.  1. ] mm\n",
      "-----\n",
      "Offset correction parameters\n",
      "Offset of image from origin (offOrigin) = [0. 0. 0.] mm\n",
      "Offset of detector (offDetector) = [0 0] mm\n",
      "-----\n",
      "Auxillary parameters\n",
      "Samples per pixel of forward projection (accuracy) = 0.5\n",
      "(894, 266, 639)\n"
     ]
    }
   ],
   "source": [
    "img_tr = tigre.algorithms.fdk(np.array(images_LI_tr).transpose([0,2,1]),geo,angles[:-1],dowang=True)\n",
    "# img_wtr = tigre.algorithms.fdk(np.array(images_LI_wtr).transpose([0,2,1]),geo,angles,dowang=True)\n",
    "img_LI_second = tigre.algorithms.fdk(np.array(images_LI_second).transpose([0,2,1]),geo,angles[:-1],dowang=True)"
   ]
  },
  {
   "cell_type": "code",
   "execution_count": 55,
   "metadata": {},
   "outputs": [
    {
     "data": {
      "text/plain": [
       "(-0.5, 415.5, 415.5, -0.5)"
      ]
     },
     "execution_count": 55,
     "metadata": {},
     "output_type": "execute_result"
    }
   ],
   "source": [
    "def mask_center(image, radius):\n",
    "    # Get the center of the image\n",
    "    center = np.array(image.shape) / 2\n",
    "\n",
    "    # Create an array of the same shape as the image, filled with the squared distance from the center\n",
    "    y, x = np.ogrid[:image.shape[0], :image.shape[1]]\n",
    "    dist_from_center = (x - center[1])**2 + (y - center[0])**2\n",
    "\n",
    "    # Create a mask that is True for all pixels within the specified radius of the center\n",
    "    mask = dist_from_center <= radius**2\n",
    "\n",
    "    # Use the mask to set the corresponding pixels in the original image to 0\n",
    "    image[~mask] = 0\n",
    "\n",
    "    return image\n",
    "\n",
    "# # crop the image from 512 to 416\n",
    "# img = img[:,48:464, 48:464]\n",
    "# # Test the function\n",
    "# image = np.ones((100, 100))\n",
    "radius = 416//2\n",
    "# for im in img:\n",
    "#     im = mask_center(im, radius)\n",
    "\n",
    "img_LI0 = img_LI[:,48:464, 48:464].copy()\n",
    "for im in img_LI0:\n",
    "    im = mask_center(im, radius)\n",
    "\n",
    "# img[img < 0.01] = 0\n",
    "img_LI0[img_LI0 < 0.01] = 0\n",
    "\n",
    "# do the same for the first and second layers\n",
    "\n",
    "img_first0 = img_first[:,48:464, 48:464].copy()\n",
    "for im in img_first0:\n",
    "    im = mask_center(im, radius)\n",
    "\n",
    "img_second0 = img_second[:,48:464, 48:464].copy()\n",
    "for im in img_second0:\n",
    "    im = mask_center(im, radius)\n",
    "\n",
    "img_gt0 = img_gt[:,48:464, 48:464].copy()\n",
    "for im in img_gt0:\n",
    "    im = mask_center(im, radius)\n",
    "\n",
    "img_tr0 = img_tr[:,48:464, 48:464].copy()\n",
    "for im in img_tr0:\n",
    "    im = mask_center(im, radius)\n",
    "\n",
    "# img_wtr0 = img_wtr[:,48:464, 48:464].copy()\n",
    "# for im in img_wtr0:\n",
    "#     im = mask_center(im, radius)\n",
    "\n",
    "img_LI_second0 = img_LI_second[:,48:464, 48:464].copy()\n",
    "for im in img_LI_second0:\n",
    "    im = mask_center(im, radius)\n",
    "\n",
    "img_first0[img_first0 < 0.01] = 0\n",
    "img_first0[img_first0 < 0.01] = 0\n",
    "img_second0[img_second0< 0.01] = 0\n",
    "img_gt0[img_gt0 < 0.01] = 0\n",
    "img_tr0[img_tr0 < 0.01] = 0\n",
    "# img_wtr0[img_wtr0 < 0.01] = 0\n",
    "img_LI_second0[img_LI_second0 < 0.01] = 0\n",
    "\n",
    "# convert each of the images to HU using the water and air values\n",
    "water = 0.0182\n",
    "air = 0\n",
    "img_LI0 = (img_LI0 - air)/(water - air)*1000 - 1000\n",
    "img_first0 = (img_first0 - air)/(water - air)*1000 - 1000\n",
    "img_second0 = (img_second0 - air)/(water - air)*1000    - 1000\n",
    "img_gt0 = (img_gt0 - air)/(water - air)*1000 - 1000\n",
    "img_tr0 = (img_tr0 - air)/(water - air)*1000 - 1000\n",
    "# img_wtr0 = (img_wtr0 - air)/(water - air)*1000 - 1000\n",
    "img_LI_second0 = (img_LI_second0 - air)/(water - air)*1000 - 1000\n",
    "\n",
    "plt.figure()\n",
    "plt.subplot(3,2,1)\n",
    "plt.imshow(img_first0[62],vmin=-400,vmax=400,cmap='gray')\n",
    "plt.title('First Layer')\n",
    "plt.axis('off')\n",
    "plt.subplot(3,2,2)\n",
    "plt.imshow(img_second0[62],vmin=-400,vmax=400,cmap='gray')\n",
    "plt.title('Second Layer')\n",
    "plt.axis('off')\n",
    "plt.subplot(3,2,3)\n",
    "plt.imshow(img_LI0[62],vmin=-400,vmax=400,cmap='gray')\n",
    "plt.title('Biharmonic Inpainting')\n",
    "plt.axis('off')\n",
    "plt.subplot(3,2,4)\n",
    "plt.imshow(img_gt0[62],vmin=-400,vmax=400,cmap='gray')\n",
    "plt.title('Ground Truth')\n",
    "plt.axis('off')\n",
    "plt.subplot(3,2,5)\n",
    "plt.imshow(img_tr0[62],vmin=-400,vmax=400,cmap='gray')\n",
    "plt.title('Trace Replacement')\n",
    "plt.axis('off')\n",
    "plt.subplot(3,2,6)\n",
    "plt.imshow(img_LI_second0[62],vmin=-400,vmax=400,cmap='gray')\n",
    "plt.title('Biharmonic Inpainting Second Layer')\n",
    "plt.axis('off')"
   ]
  },
  {
   "cell_type": "code",
   "execution_count": 66,
   "metadata": {},
   "outputs": [
    {
     "name": "stdout",
     "output_type": "stream",
     "text": [
      "FDK: applying detector offset weights\n",
      "-285 639 0 -38.24000000000001\n",
      "TIGRE parameters\n",
      "-----\n",
      "Geometry parameters\n",
      "Distance from source to detector (DSD) = 1527.3 mm\n",
      "Distance from source to origin (DSO)= 1000 mm\n",
      "-----\n",
      "Detector parameters\n",
      "Number of pixels (nDetector) = [266 639]\n",
      "Size of each pixel (dDetector) = [1.12 1.12] mm\n",
      "Total size of the detector (sDetector) = [297.92 715.68] mm\n",
      "-----\n",
      "Image parameters\n",
      "Number of voxels (nVoxel) = [120 512 512]\n",
      "Total size of the image (sVoxel) = [144. 512. 512.] mm\n",
      "Size of each voxel (dVoxel) = [1.2 1.  1. ] mm\n",
      "-----\n",
      "Offset correction parameters\n",
      "Offset of image from origin (offOrigin) = [0. 0. 0.] mm\n",
      "Offset of detector (offDetector) = [0 0] mm\n",
      "-----\n",
      "Auxillary parameters\n",
      "Samples per pixel of forward projection (accuracy) = 0.5\n",
      "(894, 266, 639)\n"
     ]
    }
   ],
   "source": [
    "# plt.figure()\n",
    "\n",
    "# for ii, alpha in enumerate([0.1,0.5,1.0,2.0]):\n",
    "#     img_sub = tigre.algorithms.fdk((first_layer_bilat_proj - alpha*secon_layer_bilat_proj).transpose([2,0,1]),geo,angles,dowang=True)\n",
    "#     img_sub0 = img_sub[:,48:464, 48:464].copy()\n",
    "#     # for im in img_sub0:\n",
    "#     #     im = mask_center(im, radius)\n",
    "#     # img_sub0[img_sub0 < 0.01] = 0\n",
    "#     # img_sub0 = (img_sub0 - air)/(water - air)*1000 - 1000\n",
    "#     plt.subplot(2,2,ii+1)\n",
    "#     plt.imshow(img_sub0[62],cmap='gray')\n",
    "#     plt.title('Subtraction with alpha = ' + str(alpha))\n",
    "#     plt.axis('off')\n",
    "\n",
    "img_sub = tigre.algorithms.fdk((first_layer_bilat_proj - 2*secon_layer_bilat_proj).transpose([2,0,1]),geo,angles,dowang=True)"
   ]
  },
  {
   "cell_type": "code",
   "execution_count": 68,
   "metadata": {},
   "outputs": [],
   "source": [
    "images = []\n",
    "\n",
    "for coeff in np.linspace(0,100,100):\n",
    "    images.append(img_first[62] - img_sub[62]*(coeff/5))\n",
    "\n",
    "plt.figure()\n",
    "cc = pli.hyperslicer(images)#,vmin=0,vmax=0.05)"
   ]
  },
  {
   "cell_type": "code",
   "execution_count": 62,
   "metadata": {},
   "outputs": [
    {
     "data": {
      "text/plain": [
       "<matplotlib.image.AxesImage at 0x7f48f13117d0>"
      ]
     },
     "execution_count": 62,
     "metadata": {},
     "output_type": "execute_result"
    }
   ],
   "source": [
    "plt.figure()\n",
    "plt.imshow(10*img_sub[62]-img_first[62],cmap='gray')"
   ]
  },
  {
   "cell_type": "code",
   "execution_count": 18,
   "metadata": {},
   "outputs": [
    {
     "name": "stdout",
     "output_type": "stream",
     "text": [
      "LI_CT\n",
      "LI_sinogram\n",
      "ma_CT\n",
      "ma_sinogram\n",
      "metal_trace\n"
     ]
    }
   ],
   "source": [
    "# load an h5py  file\n",
    "import h5py\n",
    "import numpy as np\n",
    "\n",
    "def print_hdf5_file_structure(file_name):\n",
    "    def print_attrs(name, obj):\n",
    "        print(name)\n",
    "        for key, val in obj.attrs.items():\n",
    "            print(\"    %s: %s\" % (key, val))\n",
    "\n",
    "    with h5py.File(file_name, 'r') as f:\n",
    "        f.visititems(print_attrs)\n",
    "\n",
    "fname = '/home/jericho/Software/dl_mar/OSCNet/data/test/test_640geo/000376_02_01/040/0.h5'\n",
    "\n",
    "print_hdf5_file_structure(fname)"
   ]
  },
  {
   "cell_type": "code",
   "execution_count": 28,
   "metadata": {},
   "outputs": [],
   "source": [
    "def test_image(data_path, imag_idx, mask_idx):\n",
    "    txtdir = os.path.join(data_path, 'test_640geo_dir.txt')\n",
    "    mat_files = open(txtdir, 'r').readlines()\n",
    "    gt_dir = mat_files[imag_idx]\n",
    "    file_dir = gt_dir[:-6]\n",
    "    data_file = file_dir + str(mask_idx) + '.h5'\n",
    "    abs_dir = os.path.join(data_path, 'test_640geo/', data_file)\n",
    "    gt_absdir = os.path.join(data_path, 'test_640geo/', gt_dir[:-1])\n",
    "    gt_file = h5py.File(gt_absdir, 'r')\n",
    "    Xgt = gt_file['image'][()]\n",
    "    gt_file.close()\n",
    "    file = h5py.File(abs_dir, 'r')\n",
    "    Xma= file['ma_CT'][()]\n",
    "    XLI =file['LI_CT'][()]\n",
    "    file.close()\n",
    "\n",
    "    return Xgt, Xma, XLI\n",
    "    # M512 = test_mask[:,:,mask_idx]\n",
    "data_path = '/home/jericho/Software/dl_mar/OSCNet/data/test'\n",
    "Xgt, Xma, XLI = test_image(data_path, 0, 0)\n"
   ]
  },
  {
   "cell_type": "code",
   "execution_count": 30,
   "metadata": {},
   "outputs": [
    {
     "ename": "AttributeError",
     "evalue": "'Controls' object has no attribute 'vbox'",
     "output_type": "error",
     "traceback": [
      "\u001b[0;31m---------------------------------------------------------------------------\u001b[0m",
      "\u001b[0;31mAttributeError\u001b[0m                            Traceback (most recent call last)",
      "File \u001b[0;32m~/anaconda3/envs/tigre_fastcat/lib/python3.11/site-packages/IPython/core/formatters.py:922\u001b[0m, in \u001b[0;36mIPythonDisplayFormatter.__call__\u001b[0;34m(self, obj)\u001b[0m\n\u001b[1;32m    920\u001b[0m method \u001b[38;5;241m=\u001b[39m get_real_method(obj, \u001b[38;5;28mself\u001b[39m\u001b[38;5;241m.\u001b[39mprint_method)\n\u001b[1;32m    921\u001b[0m \u001b[38;5;28;01mif\u001b[39;00m method \u001b[38;5;129;01mis\u001b[39;00m \u001b[38;5;129;01mnot\u001b[39;00m \u001b[38;5;28;01mNone\u001b[39;00m:\n\u001b[0;32m--> 922\u001b[0m     method()\n\u001b[1;32m    923\u001b[0m     \u001b[38;5;28;01mreturn\u001b[39;00m \u001b[38;5;28;01mTrue\u001b[39;00m\n",
      "File \u001b[0;32m~/anaconda3/envs/tigre_fastcat/lib/python3.11/site-packages/mpl_interactions/controller.py:349\u001b[0m, in \u001b[0;36mControls._ipython_display_\u001b[0;34m(self)\u001b[0m\n\u001b[1;32m    348\u001b[0m \u001b[38;5;28;01mdef\u001b[39;00m \u001b[38;5;21m_ipython_display_\u001b[39m(\u001b[38;5;28mself\u001b[39m):\n\u001b[0;32m--> 349\u001b[0m     ipy_display(\u001b[38;5;28mself\u001b[39m\u001b[38;5;241m.\u001b[39mvbox)\n",
      "\u001b[0;31mAttributeError\u001b[0m: 'Controls' object has no attribute 'vbox'"
     ]
    },
    {
     "data": {
      "text/plain": [
       "<mpl_interactions.controller.Controls at 0x7f187d269f90>"
      ]
     },
     "execution_count": 30,
     "metadata": {},
     "output_type": "execute_result"
    }
   ],
   "source": [
    "plt.figure()\n",
    "pli.hyperslicer([Xgt,Xma,XLI])"
   ]
  },
  {
   "cell_type": "code",
   "execution_count": 26,
   "metadata": {},
   "outputs": [
    {
     "data": {
      "text/plain": [
       "<matplotlib.legend.Legend at 0x7f187dbf8090>"
      ]
     },
     "execution_count": 26,
     "metadata": {},
     "output_type": "execute_result"
    }
   ],
   "source": [
    "plt.figure()\n",
    "plt.hist(Xma.flatten(), histtype='step',bins=100, alpha=0.5, label='ma_ct',log=True)\n",
    "plt.hist(XLI.flatten(), histtype='step',bins=100, alpha=0.5, label='li_ct',log=True)\n",
    "plt.hist(img[62].flatten(), histtype='step',bins=100, alpha=0.5, label='fdk_ma_ct',log=True)\n",
    "plt.hist(img_LI[62].flatten(), histtype='step',bins=100, alpha=0.5, label='fdk_li_ct',log=True)\n",
    "plt.legend()"
   ]
  },
  {
   "cell_type": "code",
   "execution_count": 27,
   "metadata": {},
   "outputs": [],
   "source": [
    "# Open 0.h5 replace Xma with the img[55] and save as h5py file 1.h5\n",
    "import h5py\n",
    "\n",
    "fname2 = '/home/jericho/Software/dl_mar/OSCNet/data/test/test_640geo/000376_02_01/040/0.h5'\n",
    "\n",
    "# Load the file\n",
    "import h5py\n",
    "import numpy as np\n",
    "\n",
    "# Open the file in 'r+' mode\n",
    "with h5py.File(fname2, 'r+') as f:\n",
    "    # Load the images \n",
    "    f['ma_CT'][()] = img[62]\n",
    "    f['LI_CT'][()] = img_LI[62]\n",
    "    # The changes are automatically saved when the file is closed"
   ]
  },
  {
   "cell_type": "code",
   "execution_count": 94,
   "metadata": {},
   "outputs": [
    {
     "name": "stdout",
     "output_type": "stream",
     "text": [
      "FDK: applying detector offset weights\n",
      "-80 200 0 -80.0\n",
      "TIGRE parameters\n",
      "-----\n",
      "Geometry parameters\n",
      "Distance from source to detector (DSD) = 1536.0 mm\n",
      "Distance from source to origin (DSO)= 1000.0 mm\n",
      "-----\n",
      "Detector parameters\n",
      "Number of pixels (nDetector) = [ 80 200]\n",
      "Size of each pixel (dDetector) = [4 4] mm\n",
      "Total size of the detector (sDetector) = [320 800] mm\n",
      "-----\n",
      "Image parameters\n",
      "Number of voxels (nVoxel) = [64 64 64]\n",
      "Total size of the image (sVoxel) = [256 256 256] mm\n",
      "Size of each voxel (dVoxel) = [4. 4. 4.] mm\n",
      "-----\n",
      "Offset correction parameters\n",
      "Offset of image from origin (offOrigin) = [0 0 0] mm\n",
      "Offset of detector (offDetector) = [0 0] mm\n",
      "-----\n",
      "Auxillary parameters\n",
      "Samples per pixel of forward projection (accuracy) = 0.5\n",
      "-----\n",
      "Rotation of the Detector (rotDetector) = [0 0 0] rad\n",
      "(100, 80, 200)\n"
     ]
    }
   ],
   "source": [
    "%matplotlib qt\n",
    "\n",
    "#%% DEMO 14:  Playing with offsets\n",
    "#\n",
    "#\n",
    "# In this demo we show how to change offsets to either the iamge or the\n",
    "# detector, and the flexibility of it.\n",
    "#\n",
    "#\n",
    "# --------------------------------------------------------------------------\n",
    "# --------------------------------------------------------------------------\n",
    "# This file is part of the TIGRE Toolbox\n",
    "#\n",
    "# Copyright (c) 2015, University of Bath and\n",
    "#                     CERN-European Organization for Nuclear Research\n",
    "#                     All rights reserved.\n",
    "#\n",
    "# License:            Open Source under BSD.\n",
    "#                     See the full license at\n",
    "#                     https://github.com/CERN/TIGRE/blob/master/LICENSE\n",
    "#\n",
    "# Contact:            tigre.toolbox@gmail.com\n",
    "# Codes:              https://github.com/CERN/TIGRE/\n",
    "# Coded by:           Ander Biguri\n",
    "# --------------------------------------------------------------------------\n",
    "## Initialize\n",
    "#%%Initialize\n",
    "import tigre\n",
    "import numpy as np\n",
    "from tigre.utilities import sample_loader\n",
    "import matplotlib.pyplot as plt\n",
    "import tigre.algorithms as algs\n",
    "\n",
    "#%% Geometry\n",
    "geo = tigre.geometry_default(high_resolution=False)\n",
    "\n",
    "\n",
    "# Offsets\n",
    "## ####################################################################################\n",
    "# Lets try simnple offset: The detector gets completelly displaced\n",
    "geo.offOrigin = np.array([0, 0, 0])  # Offset of image from origin   (mm)\n",
    "geo.offDetector = np.array([200, 200])  # Offset of Detector            (mm)\n",
    "## ####################################################################################\n",
    "# Auxiliary\n",
    "geo.accuracy = 0.5\n",
    "# Accuracy of FWD proj          (vx/sample)\n",
    "\n",
    "## Load data and generate projections\n",
    "# see previous demo for explanation\n",
    "angles = np.linspace(0, 2 * np.pi, 100)\n",
    "\n",
    "# Load thorax phatom data\n",
    "head = sample_loader.load_head_phantom(geo.nVoxel)\n",
    "projections = tigre.Ax(head, geo, angles)\n",
    "\n",
    "\n",
    "#%% lets see it\n",
    "# tigre.plotproj(projections, angles)\n",
    "\n",
    "## we will skip reconstruction of this tests because the image is outside the detector\n",
    "\n",
    "\n",
    "## #####################################################################\n",
    "\n",
    "#%% Second test: lets test variying offsets:\n",
    "geo.nDetector = np.array([80,120])  # Number of detector pixels\n",
    "geo.dDetector = np.array([4, 4])  # Detector element size (mm)\n",
    "geo.sDetector = geo.nDetector * geo.dDetector  # Detector size (mm)\n",
    "geo.offDetector = np.array(\n",
    "    [0,-160]\n",
    ")  # Offset of Detector            (mm)\n",
    "projections2 = tigre.Ax(head, geo, angles)\n",
    "## lets see it\n",
    "# tigre.plotproj(projections2, angles)\n",
    "## reconstruction\n",
    "geo.offDetector = np.array(\n",
    "    [0,-160]\n",
    ")  \n",
    "\n",
    "res = algs.fdk(projections2, geo, angles, dowang=True)\n",
    "\n",
    "\n",
    "# tigre.plotimg(res, dim=\"z\")\n",
    "\n",
    "#%% Third test: lets vary everything\n",
    "# plt.show()"
   ]
  },
  {
   "cell_type": "code",
   "execution_count": 86,
   "metadata": {},
   "outputs": [],
   "source": [
    "# load a png file and plot it using imshow\n",
    "png_file = '/home/jericho/Software/dl_mar/OSCNet/save_results/osc/1.png'\n",
    "import mpl_interactions.ipyplot as iplt\n",
    "img = plt.imread(png_file)\n",
    "plt.figure()\n",
    "cc = iplt.imshow(img.mean(axis=2),vmin_vmax=(0,1))"
   ]
  },
  {
   "cell_type": "code",
   "execution_count": 96,
   "metadata": {},
   "outputs": [
    {
     "ename": "AttributeError",
     "evalue": "'Controls' object has no attribute 'vbox'",
     "output_type": "error",
     "traceback": [
      "\u001b[0;31m---------------------------------------------------------------------------\u001b[0m",
      "\u001b[0;31mAttributeError\u001b[0m                            Traceback (most recent call last)",
      "File \u001b[0;32m~/anaconda3/envs/tigre_fastcat/lib/python3.11/site-packages/IPython/core/formatters.py:922\u001b[0m, in \u001b[0;36mIPythonDisplayFormatter.__call__\u001b[0;34m(self, obj)\u001b[0m\n\u001b[1;32m    920\u001b[0m method \u001b[38;5;241m=\u001b[39m get_real_method(obj, \u001b[38;5;28mself\u001b[39m\u001b[38;5;241m.\u001b[39mprint_method)\n\u001b[1;32m    921\u001b[0m \u001b[38;5;28;01mif\u001b[39;00m method \u001b[38;5;129;01mis\u001b[39;00m \u001b[38;5;129;01mnot\u001b[39;00m \u001b[38;5;28;01mNone\u001b[39;00m:\n\u001b[0;32m--> 922\u001b[0m     method()\n\u001b[1;32m    923\u001b[0m     \u001b[38;5;28;01mreturn\u001b[39;00m \u001b[38;5;28;01mTrue\u001b[39;00m\n",
      "File \u001b[0;32m~/anaconda3/envs/tigre_fastcat/lib/python3.11/site-packages/mpl_interactions/controller.py:349\u001b[0m, in \u001b[0;36mControls._ipython_display_\u001b[0;34m(self)\u001b[0m\n\u001b[1;32m    348\u001b[0m \u001b[38;5;28;01mdef\u001b[39;00m \u001b[38;5;21m_ipython_display_\u001b[39m(\u001b[38;5;28mself\u001b[39m):\n\u001b[0;32m--> 349\u001b[0m     ipy_display(\u001b[38;5;28mself\u001b[39m\u001b[38;5;241m.\u001b[39mvbox)\n",
      "\u001b[0;31mAttributeError\u001b[0m: 'Controls' object has no attribute 'vbox'"
     ]
    },
    {
     "data": {
      "text/plain": [
       "<mpl_interactions.controller.Controls at 0x7fe9b2230b50>"
      ]
     },
     "execution_count": 96,
     "metadata": {},
     "output_type": "execute_result"
    }
   ],
   "source": [
    "plt.figure()\n",
    "pli.hyperslicer(res)"
   ]
  },
  {
   "cell_type": "code",
   "execution_count": 2,
   "metadata": {},
   "outputs": [
    {
     "name": "stdout",
     "output_type": "stream",
     "text": [
      "The autoreload extension is already loaded. To reload it, use:\n",
      "  %reload_ext autoreload\n"
     ]
    }
   ],
   "source": [
    "%load_ext autoreload\n",
    "%autoreload 2"
   ]
  },
  {
   "cell_type": "code",
   "execution_count": 3,
   "metadata": {},
   "outputs": [],
   "source": [
    "import tigre"
   ]
  },
  {
   "cell_type": "code",
   "execution_count": 8,
   "metadata": {},
   "outputs": [
    {
     "ename": "AttributeError",
     "evalue": "'Controls' object has no attribute 'vbox'",
     "output_type": "error",
     "traceback": [
      "\u001b[0;31m---------------------------------------------------------------------------\u001b[0m",
      "\u001b[0;31mAttributeError\u001b[0m                            Traceback (most recent call last)",
      "File \u001b[0;32m~/anaconda3/envs/tigre_fastcat/lib/python3.11/site-packages/IPython/core/formatters.py:922\u001b[0m, in \u001b[0;36mIPythonDisplayFormatter.__call__\u001b[0;34m(self, obj)\u001b[0m\n\u001b[1;32m    920\u001b[0m method \u001b[38;5;241m=\u001b[39m get_real_method(obj, \u001b[38;5;28mself\u001b[39m\u001b[38;5;241m.\u001b[39mprint_method)\n\u001b[1;32m    921\u001b[0m \u001b[38;5;28;01mif\u001b[39;00m method \u001b[38;5;129;01mis\u001b[39;00m \u001b[38;5;129;01mnot\u001b[39;00m \u001b[38;5;28;01mNone\u001b[39;00m:\n\u001b[0;32m--> 922\u001b[0m     method()\n\u001b[1;32m    923\u001b[0m     \u001b[38;5;28;01mreturn\u001b[39;00m \u001b[38;5;28;01mTrue\u001b[39;00m\n",
      "File \u001b[0;32m~/anaconda3/envs/tigre_fastcat/lib/python3.11/site-packages/mpl_interactions/controller.py:349\u001b[0m, in \u001b[0;36mControls._ipython_display_\u001b[0;34m(self)\u001b[0m\n\u001b[1;32m    348\u001b[0m \u001b[38;5;28;01mdef\u001b[39;00m \u001b[38;5;21m_ipython_display_\u001b[39m(\u001b[38;5;28mself\u001b[39m):\n\u001b[0;32m--> 349\u001b[0m     ipy_display(\u001b[38;5;28mself\u001b[39m\u001b[38;5;241m.\u001b[39mvbox)\n",
      "\u001b[0;31mAttributeError\u001b[0m: 'Controls' object has no attribute 'vbox'"
     ]
    },
    {
     "data": {
      "text/plain": [
       "<mpl_interactions.controller.Controls at 0x7fe9ec4b48d0>"
      ]
     },
     "execution_count": 8,
     "metadata": {},
     "output_type": "execute_result"
    }
   ],
   "source": [
    "import mpl_interactions as pli\n",
    "\n",
    "\n",
    "plt.figure()\n",
    "# pli.hyperslicer(first_layer_bilat_proj.transpose([2,0,1]))\n",
    "pli.hyperslicer(projections2)"
   ]
  },
  {
   "cell_type": "code",
   "execution_count": null,
   "metadata": {},
   "outputs": [],
   "source": []
  }
 ],
 "metadata": {
  "kernelspec": {
   "display_name": "tigre_fastcat",
   "language": "python",
   "name": "python3"
  },
  "language_info": {
   "codemirror_mode": {
    "name": "ipython",
    "version": 3
   },
   "file_extension": ".py",
   "mimetype": "text/x-python",
   "name": "python",
   "nbconvert_exporter": "python",
   "pygments_lexer": "ipython3",
   "version": "3.11.5"
  }
 },
 "nbformat": 4,
 "nbformat_minor": 2
}
