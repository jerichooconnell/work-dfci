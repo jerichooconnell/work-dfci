{
 "cells": [
  {
   "cell_type": "code",
   "execution_count": 1,
   "metadata": {},
   "outputs": [
    {
     "name": "stdout",
     "output_type": "stream",
     "text": [
      "%pylab is deprecated, use %matplotlib inline and import the required libraries.\n",
      "Populating the interactive namespace from numpy and matplotlib\n"
     ]
    }
   ],
   "source": [
    "%pylab qt\n",
    "%load_ext autoreload\n",
    "%autoreload 2"
   ]
  },
  {
   "cell_type": "markdown",
   "metadata": {},
   "source": [
    "Load the ggems files"
   ]
  },
  {
   "cell_type": "code",
   "execution_count": 2,
   "metadata": {},
   "outputs": [
    {
     "name": "stdout",
     "output_type": "stream",
     "text": [
      "[-229.5 -195.  -195. ]\n"
     ]
    }
   ],
   "source": [
    "# Loop through the ggems mhd files and save them to an array\n",
    "import glob\n",
    "import fastcat as fc\n",
    "import numpy as np\n",
    "import matplotlib.pyplot as plt\n",
    "import mpl_interactions as pli\n",
    "from mpl_interactions import ipyplot as iplt\n",
    "# Zoom the ggems projections\n",
    "from fastcat.patient_data import patient_phantom\n",
    "\n",
    "base_directory = '/home/jericho/1-Workspace/3-jupyter_notebooks_patient/1-initial_patient_test/out_dir/'\n",
    "\n",
    "ggems_scatter_files = glob.glob(base_directory + 'fastmc_*scatter.mhd')\n",
    "ggems_primary_files = glob.glob(base_directory + 'fastmc_*[!scatter].mhd')\n",
    "flood_file = base_directory + 'fastmc_00.0_flood.mhd'\n",
    "\n",
    "ggems_scatter_files = [x for x in ggems_scatter_files if 'flood' not in x and '0_2' not in x]\n",
    "ggems_primary_files = [x for x in ggems_primary_files if 'flood' not in x and '0_2' not in x]\n",
    "\n",
    "ggems_scatter_files.sort()\n",
    "ggems_primary_files.sort()\n",
    "\n",
    "# Load the pickled phantom\n",
    "# pkl_file = '/home/jericho/1-Workspace/1-jupyter_notebooks/4-preliminary_fastmc_projections/test/fastmc_1e10_10angles.pkl'\n",
    "# phantom = np.load(pkl_file, allow_pickle=True)\n",
    "\n",
    "spectrum_file = '/home/jericho/1-Workspace/1-jupyter_notebooks/4-preliminary_fastmc_projections/spectrum_120kVp_2.75mmAl_0.89mmTi.dat'\n",
    "\n",
    "phantom = patient_phantom('brain', 1e10, is_fullfan=True)\n",
    "phantom.spectrum_file = spectrum_file\n",
    "angles = np.linspace(0, np.pi*2, 10, endpoint=False)\n",
    "phantom.sim_angles = angles\n",
    "\n",
    "# I flip the phantom because fastmc has a bit of a different coordinate system\n",
    "phantom.phantom = np.flipud(phantom.phantom)\n",
    "# flip the second axis left to right on the density phantom \n",
    "phantom.density = np.flip(phantom.density, axis=2)\n",
    "\n",
    "# for ii, dens in enumerate(phantom.density):\n",
    "#     dens = np.fliplr(dens)\n",
    "# The density array is in fortran order, so I need to reorder the axes to c order \n",
    "# phantom.density = np.transpose(phantom.density, (2, 1, 0))\n",
    "\n",
    "# phantom.simulation_parameters['angles'] = phantom.sim_angles\n",
    "\n",
    "# Convert the phantom angles to degrees\n",
    "phantom_angles = phantom.sim_angles * 180 / np.pi\n",
    "\n",
    "# Get the simulation parameters\n",
    "# simulation_parameters = phantom.simulation_parameters\n",
    "detector_material = phantom.detector_material\n",
    "\n",
    "# Load the spectrum as a fastcat spectrum object\n",
    "# s = fc.Spectrum()\n",
    "# s.load(spectrum_file=spectrum_file)\n",
    "s = fc.Spekpy(100,14)\n",
    "s.attenuate(0.089,fc.spectrum.get_mu('22'))\n",
    "s.attenuate(0.4,fc.spectrum.get_mu('13'))\n",
    "\n",
    "# s.x = np.array([59.99,60,60.01])\n",
    "# s.y = np.array([0,1,0])\n",
    "# plt.figure()\n",
    "# plt.plot(s.x, s.y)\n",
    "# phantom.geomet.nDetector = np.array([512,1024])\n",
    "# phantom.geomet.dDetector = np.array([0.784, 0.392])\n",
    "# phantom.geomet.sDetector = phantom.geomet.dDetector * phantom.geomet.nDetector\n",
    "\n",
    "det = fc.Detector(s,'CsI-784-micrometer')\n",
    "# angles = np.deg2rad([0,144,216,288,72])\n",
    "angles = np.linspace(0, np.pi *2, 360, endpoint=False)\n",
    "phantom.angles = angles\n",
    "# phantom.bowtie_file = '/home/jericho/Software/Catphan604_HeadSized/full_fan_1_deg.dat'\n"
   ]
  },
  {
   "cell_type": "markdown",
   "metadata": {},
   "source": [
    "Fastcat simulation"
   ]
  },
  {
   "cell_type": "code",
   "execution_count": 36,
   "metadata": {},
   "outputs": [
    {
     "name": "stdout",
     "output_type": "stream",
     "text": [
      "[2024-02-23 10:30:47,131] {ggems_simulate.py:228} INFO - Initializing filter /home/jericho/Software/fastcat/fastcat/data/ggems_files/full_fan_1_deg.dat\n"
     ]
    },
    {
     "name": "stdout",
     "output_type": "stream",
     "text": [
      "[2024-02-23 10:30:49,742] {ggems_simulate.py:591} INFO - Running Simulations\n",
      "[2024-02-23 10:30:49,743] {ggems_simulate.py:625} INFO -     Skipping 10 keV as it has weight 2.2227754950378724e-13\n",
      "[2024-02-23 10:30:49,744] {ggems_simulate.py:625} INFO -     Skipping 20 keV as it has weight 0.0006565983769606388\n",
      "[2024-02-23 10:30:49,744] {ggems_simulate.py:629} INFO -     Simulating 30 keV\n",
      "[2024-02-23 10:31:04,239] {ggems_simulate.py:629} INFO -     Simulating 40 keV\n",
      "[2024-02-23 10:31:18,276] {ggems_simulate.py:629} INFO -     Simulating 50 keV\n",
      "[2024-02-23 10:31:32,305] {ggems_simulate.py:629} INFO -     Simulating 60 keV\n",
      "[2024-02-23 10:31:46,727] {ggems_simulate.py:629} INFO -     Simulating 70 keV\n",
      "[2024-02-23 10:32:00,840] {ggems_simulate.py:629} INFO -     Simulating 80 keV\n",
      "[2024-02-23 10:32:15,093] {ggems_simulate.py:629} INFO -     Simulating 90 keV\n",
      "[2024-02-23 10:32:29,161] {ggems_simulate.py:625} INFO -     Skipping 100 keV as it has weight 0.006765526610445887\n",
      "[2024-02-23 10:32:29,162] {ggems_simulate.py:625} INFO -     Skipping 300 keV as it has weight 0.0\n",
      "[2024-02-23 10:32:29,162] {ggems_simulate.py:625} INFO -     Skipping 500 keV as it has weight 0.0\n",
      "[2024-02-23 10:32:29,163] {ggems_simulate.py:625} INFO -     Skipping 700 keV as it has weight 0.0\n",
      "[2024-02-23 10:32:29,163] {ggems_simulate.py:625} INFO -     Skipping 900 keV as it has weight 0.0\n",
      "[2024-02-23 10:32:29,163] {ggems_simulate.py:625} INFO -     Skipping 1000 keV as it has weight 0.0\n",
      "[2024-02-23 10:32:29,163] {ggems_simulate.py:625} INFO -     Skipping 2000 keV as it has weight 0.0\n",
      "[2024-02-23 10:32:29,164] {ggems_simulate.py:625} INFO -     Skipping 4000 keV as it has weight 0.0\n",
      "[2024-02-23 10:32:29,164] {ggems_simulate.py:854} INFO - Weighting simulations\n",
      "[2024-02-23 10:32:29,165] {ggems_simulate.py:945} INFO -     No noise was added\n"
     ]
    }
   ],
   "source": [
    "# return the projections\n",
    "# phantom.phantom = np.flipud(phantom.phantom)\n",
    "phantom.return_projs(det,s,angles,mgy=0,\n",
    "                    ASG=False, scat_on=False,\n",
    "                    det_on=False,\n",
    "                    bowtie=True,\n",
    "                    return_intensity=True)# Get primary fastcat projections"
   ]
  },
  {
   "cell_type": "code",
   "execution_count": 3,
   "metadata": {},
   "outputs": [],
   "source": [
    "# phantom.save_pickle('first_layer_915_brain_pre_recon.pkl')\n",
    "# load the pickle file using the pickle module\n",
    "import pickle\n",
    "\n",
    "with open('first_layer_915_brain_pre_recon.pkl', 'rb') as f:\n",
    "    phantom = pickle.load(f)"
   ]
  },
  {
   "cell_type": "code",
   "execution_count": 4,
   "metadata": {},
   "outputs": [],
   "source": [
    "# phantom.zoom_factor = [1,1,2]\n",
    "\n",
    "phantom.load_ggems_files(ggems_scatter_files, ggems_primary_files, flood_file,\n",
    "                         average_scatter=False)\n",
    "\n",
    "# phantom.detector_zoom = [1,2]\n",
    "# phantom.zoom_ggems_files()\n",
    "\n",
    "phantom.correct_intensity(ml=False)\n",
    "# len(phantom.ggems_primary_projections)"
   ]
  },
  {
   "cell_type": "code",
   "execution_count": 5,
   "metadata": {},
   "outputs": [],
   "source": [
    "# phantom.simulation_parameters['angles'] = np.linspace(0, np.pi *2, 2, endpoint=False)\n",
    "phantom.interpolate_ggems_scatter()\n",
    "phantom.add_poisson_noise(amplification=2)"
   ]
  },
  {
   "cell_type": "code",
   "execution_count": 6,
   "metadata": {},
   "outputs": [],
   "source": [
    "det = fc.Detector(s,'CsI-392-micrometer')\n",
    "# det.add_focal_spot(0.5)\n",
    "\n",
    "# phantom.detector_mtf_convolution(det)"
   ]
  },
  {
   "cell_type": "code",
   "execution_count": 31,
   "metadata": {},
   "outputs": [],
   "source": [
    "phantom.calc_ggems_projections(scat_on=True,scat_factor=0.5)"
   ]
  },
  {
   "cell_type": "markdown",
   "metadata": {},
   "source": []
  },
  {
   "cell_type": "code",
   "execution_count": 32,
   "metadata": {},
   "outputs": [],
   "source": [
    "# Slice thickness = 0.995 mm\n",
    "\n",
    "# Load the ct and cbct nrrd volumes using sitk \n",
    "import SimpleITK as sitk\n",
    "\n",
    "ct_file = '/home/jericho/Documents/christian_patient_data/BRAIN/2_Stereo_CNS_Scan.nrrd'\n",
    "cbct_file = '/home/jericho/Documents/christian_patient_data/BRAIN/2_Unnamed_Series.nrrd'\n",
    "\n",
    "ct = sitk.ReadImage(ct_file)\n",
    "cbct = sitk.ReadImage(cbct_file)\n",
    "\n",
    "ct = sitk.GetArrayFromImage(ct)\n",
    "cbct = sitk.GetArrayFromImage(cbct)\n",
    "\n",
    "cbct = np.flip(cbct, axis=2)\n",
    "# (0028, 0010) Rows                                US: 512\n",
    "# (0028, 0011) Columns                             US: 512\n",
    "# (0028, 0030) Pixel Spacing                       DS: [0.51119073851527, 0.51119073851527]\n",
    "phantom.geomet.nVoxel = np.array(cbct.shape)\n",
    "phantom.geomet.dVoxel = np.array([0.995,0.51119073851527,0.51119073851527])\n",
    "phantom.geomet.sVoxel = phantom.geomet.nVoxel * phantom.geomet.dVoxel\n",
    "\n",
    "phantom.reconstruct_ggems(algo='FDK',filt='ram_lak')"
   ]
  },
  {
   "cell_type": "code",
   "execution_count": 33,
   "metadata": {},
   "outputs": [],
   "source": [
    "# fig = plt.figure(figsize=(10,5))\n",
    "hi_res_bowtie_HU = phantom.img/np.mean(phantom.img[130:160,220:-220, 220:-220])\n",
    "hi_res_bowtie_HU = (hi_res_bowtie_HU-(1) + np.mean(cbct[70:80,220:-220, 220:-220])/1000)*1000\n",
    "\n",
    "# scale the values below -500 quadratically towards -1000\n",
    "hi_res_bowtie_HU[hi_res_bowtie_HU < -500] = -1000 + (hi_res_bowtie_HU[hi_res_bowtie_HU < -500] + 1000)**(2)/500\n",
    "\n",
    "# Make a circular mask about the center of the image and set all values outside a radius of 300 to -1000\n",
    "x, y, z = np.ogrid[:hi_res_bowtie_HU.shape[0], :hi_res_bowtie_HU.shape[1], :hi_res_bowtie_HU.shape[2]]\n",
    "mask = (x - hi_res_bowtie_HU.shape[0] / 2) ** 2 + (y - hi_res_bowtie_HU.shape[1] / 2) ** 2 + (z - hi_res_bowtie_HU.shape[2] / 2) ** 2 > 220 ** 2\n",
    "hi_res_bowtie_HU[mask] = -1000\n",
    "\n",
    "w = 355\n",
    "l = 0"
   ]
  },
  {
   "cell_type": "code",
   "execution_count": 38,
   "metadata": {},
   "outputs": [
    {
     "name": "stderr",
     "output_type": "stream",
     "text": [
      "/tmp/ipykernel_121233/4100745161.py:86: UserWarning: This figure includes Axes that are not compatible with tight_layout, so results might be incorrect.\n",
      "  plt.tight_layout()\n"
     ]
    },
    {
     "name": "stdout",
     "output_type": "stream",
     "text": [
      "3.3011156831618553\n",
      "4.313397493568148\n",
      "3.807256588365002\n"
     ]
    }
   ],
   "source": [
    "w, l = 1500, 200\n",
    "from mpl_toolkits.axes_grid1.inset_locator import zoomed_inset_axes, mark_inset\n",
    "\n",
    "ind_hline = 256\n",
    "ind_vline = 256 - 70\n",
    "ind_hline_rec = 256\n",
    "\n",
    "ind_vline_rec = 256 - 70 + 6\n",
    "\n",
    "crops = [40,40,40,40]\n",
    "\n",
    "plt.figure(figsize=(6,6))\n",
    "# plt.subplot(311)\n",
    "# plt.imshow(np.fliplr(ct[139,125:-90,100:-100]), cmap='gray',vmin=l-w/2, vmax=l+w/2)\n",
    "# plt.axis('off')\n",
    "# plt.title('CT')\n",
    "# Add a colorbar with a lable\n",
    "# plt.colorbar(label='Hounsfield Units')\n",
    "plt.subplot(223)\n",
    "plt.imshow(cbct[79,crops[0]:-crops[1],crops[2]:-crops[3]], cmap='gray',vmin=l-w/2, vmax=l+w/2)\n",
    "plt.axvline(ind_vline - crops[2], color='forestgreen', linestyle='--')\n",
    "plt.axhline(ind_hline - crops[0], color='coral', linestyle='-.')\n",
    "\n",
    "plt.axis('off')\n",
    "plt.title('(c) OBI')\n",
    "\n",
    "# Add an inset axis to the image of the top left corner \n",
    "# ax_inset = plt.axes([0.3, 0.6, 0.1, 0.1])\n",
    "# ax_inset.imshow(cbct[79,70:150,220:-220], cmap='gray',vmin=l-w/2, vmax=l+w/2)\n",
    "# ax_inset.axis('off')\n",
    "ax = plt.gca()\n",
    "# Do the same thing but using zoomed_inset_axes \n",
    "ax_inset = zoomed_inset_axes(ax, 2, loc='lower right')\n",
    "ax_inset.imshow(cbct[79,crops[0]:-crops[1],crops[2]:-crops[3]], cmap='gray',vmin=l-w/2, vmax=l+w/2)\n",
    "ax_inset.set_ylim(150-40,70-40)\n",
    "ax_inset.set_xlim(220-40,512-220-40)\n",
    "ax_inset.axis('off')\n",
    "# Mark the region of the inset axis on the main image\n",
    "mark_inset(ax, ax_inset, loc1=1, loc2=3, fc=\"none\", ec=\"0.5\")\n",
    "\n",
    "# Indicate the region of the inset axis on the main image \n",
    "# plt.plot([70,150,150,70,70],[220,220,512-220,512-220,220], color='r')\n",
    "\n",
    "plt.subplot(221)\n",
    "plt.imshow(hi_res_bowtie_HU[82,crops[0]:-crops[1],crops[2]:-crops[3]], cmap='gray',vmin=l-w/2, vmax=l+w/2)\n",
    "plt.axvline(ind_vline_rec - crops[2], color='cornflowerblue', linestyle='--')\n",
    "plt.axhline(ind_hline_rec - crops[0], color='indianred', linestyle='-.')\n",
    "plt.axis('off')\n",
    "plt.title('(a) DFCIsim')\n",
    "ax = plt.gca()\n",
    "# Do the same thing but using zoomed_inset_axes \n",
    "ax_inset = zoomed_inset_axes(ax, 2, loc='lower right')\n",
    "ax_inset.imshow(hi_res_bowtie_HU[82,crops[0]:-crops[1],crops[2]:-crops[3]], cmap='gray',vmin=l-w/2, vmax=l+w/2)\n",
    "ax_inset.set_ylim(150-40,70-40)\n",
    "ax_inset.set_xlim(220-40,512-220-40)\n",
    "ax_inset.axis('off')\n",
    "# Mark the region of the inset axis on the main image\n",
    "mark_inset(ax, ax_inset, loc1=1, loc2=3, fc=\"none\", ec=\"0.5\")\n",
    "plt.subplot(222)\n",
    "plt.title('(b) Horizontal profile')\n",
    "# plot a profile through the center of the images\n",
    "# plt.plot(ct[139,ind_hline,100:-100], label='CT', color='black')\n",
    "# xx = np.linspace()\n",
    "\n",
    "nm=9\n",
    "plt.plot(cbct[79,ind_hline-nm:ind_hline+nm,20:-6-20].mean(axis=0), label='CBCT', color='coral',lw=1)\n",
    "plt.plot(hi_res_bowtie_HU[82,ind_hline_rec - nm:ind_hline_rec+nm,20+6:-20].mean(axis=0), label='DFCIsim', color='indianred',lw=1)\n",
    "# Plot a red dotted line at the center of the image\n",
    "plt.xlabel('Pixel number')\n",
    "plt.ylabel('HU')\n",
    "plt.grid('on')\n",
    "plt.legend()\n",
    "\n",
    "plt.subplot(224)\n",
    "plt.title('(d) Vertical profile')\n",
    "# plot a profile through the center of the images\n",
    "# plt.plot(ct[139,125+30:-30-90,ind_vline], label='CT', color='black')\n",
    "plt.plot(cbct[79,30:-30,ind_vline-nm:ind_vline+nm].mean(axis=1), label='CBCT', color='forestgreen',lw=1)\n",
    "plt.plot(hi_res_bowtie_HU[82,30:-30,ind_vline_rec - nm:ind_vline_rec+nm].mean(axis=1), label='DFCIsim', color='cornflowerblue',lw=1)\n",
    "# plt.axvline(256, color='r', linestyle='--')\n",
    "plt.legend()\n",
    "# plt.title('(d) Horizontal profile')\n",
    "plt.xlabel('Pixel number')\n",
    "plt.ylabel('HU')\n",
    "plt.grid('on')\n",
    "plt.tight_layout()\n",
    "\n",
    "# print the difference between the cbct and the fastcat reconstructions along the horizontal and vertical profiles\n",
    "print(100*np.mean(np.abs(cbct[79,30:-30,ind_vline-nm:ind_vline+nm].mean(axis=1) \n",
    "                     - hi_res_bowtie_HU[82,30:-30,ind_vline_rec - \n",
    "                                        nm:ind_vline_rec+nm].mean(axis=1))/\n",
    "                                        np.max(cbct[79,30:-30,ind_vline-nm:ind_vline+nm].mean(axis=1))))\n",
    "print(100*np.mean(np.abs(cbct[79,ind_hline-nm:ind_hline+nm,20:-6-20].mean(axis=0)\n",
    "                        - hi_res_bowtie_HU[82,ind_hline_rec - nm:ind_hline_rec+nm,20+6:-20].mean(axis=0))/\n",
    "                                            np.max(cbct[79,ind_hline-nm:ind_hline+nm,20:-6-20].mean(axis=0))))\n",
    "# define these as variables\n",
    "mean_diff_hor = 100*np.mean(np.abs(cbct[79,30:-30,ind_vline-nm:ind_vline+nm].mean(axis=1)\n",
    "                        - hi_res_bowtie_HU[82,30:-30,ind_vline_rec - \n",
    "                                            nm:ind_vline_rec+nm].mean(axis=1))/\n",
    "                                            np.max(cbct[79,30:-30,ind_vline-nm:ind_vline+nm].mean(axis=1)))\n",
    "mean_diff_ver = 100*np.mean(np.abs(cbct[79,ind_hline-nm:ind_hline+nm,20:-6-20].mean(axis=0)\n",
    "                        - hi_res_bowtie_HU[82,ind_hline_rec - nm:ind_hline_rec+nm,20+6:-20].mean(axis=0))/\n",
    "                                            np.max(cbct[79,ind_hline-nm:ind_hline+nm,20:-6-20].mean(axis=0)))\n",
    "\n",
    "print(np.mean([mean_diff_hor, mean_diff_ver]))\n",
    "plt.savefig('cbct_fastmc_comparison.png', dpi=300)"
   ]
  },
  {
   "cell_type": "code",
   "execution_count": 33,
   "metadata": {},
   "outputs": [
    {
     "name": "stdout",
     "output_type": "stream",
     "text": [
      "3.945517514396437\n"
     ]
    }
   ],
   "source": [
    "print(np.mean([3.7789958727887303,\n",
    "4.112039156004144]))"
   ]
  },
  {
   "cell_type": "code",
   "execution_count": 47,
   "metadata": {},
   "outputs": [
    {
     "data": {
      "text/plain": [
       "(-0.5, 511.5, 466.5, -0.5)"
      ]
     },
     "execution_count": 47,
     "metadata": {},
     "output_type": "execute_result"
    }
   ],
   "source": [
    "fig = plt.figure(dpi=300)\n",
    "# plt.subplot(131)\n",
    "# cc = pli.hyperslicer(phantom.img,vmin=0,vmax=0.059)\n",
    "plt.subplot(121)\n",
    "c2 = pli.hyperslicer(phantom.density[40:-40],autoscale_cmap=False,cmap='gray')\n",
    "plt.colorbar(label='Density (g/cm$^3$)',orientation='horizontal')\n",
    "plt.axis('off')\n",
    "plt.subplot(122)\n",
    "c3 = pli.hyperslicer(phantom.phantom[40:-40],autoscale_cmap=False,cmap='turbo',controls=c2)\n",
    "plt.colorbar(label='Material Number',orientation='horizontal')\n",
    "plt.axis('off')"
   ]
  },
  {
   "cell_type": "code",
   "execution_count": 50,
   "metadata": {},
   "outputs": [
    {
     "name": "stdout",
     "output_type": "stream",
     "text": [
      "[2024-02-20 17:18:21,481] {animation.py:1060} INFO - Animation.save using <class 'matplotlib.animation.FFMpegWriter'>\n",
      "[2024-02-20 17:18:21,482] {animation.py:338} INFO - MovieWriter._run: running command: ffmpeg -f rawvideo -vcodec rawvideo -s 1920x998 -pix_fmt rgba -framerate 20.0 -loglevel error -i pipe: -filter_complex 'split [a][b];[a] palettegen [p];[b][p] paletteuse' -y brain_material_decomposition.gif\n"
     ]
    },
    {
     "data": {
      "text/plain": [
       "<matplotlib.animation.FuncAnimation at 0x7fb33dec6650>"
      ]
     },
     "execution_count": 50,
     "metadata": {},
     "output_type": "execute_result"
    }
   ],
   "source": [
    "c2.save_animation('brain_material_decomposition.gif',fig = fig,param='axis0',interval=50)"
   ]
  },
  {
   "cell_type": "code",
   "execution_count": 24,
   "metadata": {},
   "outputs": [],
   "source": [
    "phantom.save_pickle('first_layer_360_brain.pkl')"
   ]
  },
  {
   "cell_type": "markdown",
   "metadata": {},
   "source": [
    "## Now the second layer"
   ]
  },
  {
   "cell_type": "code",
   "execution_count": 146,
   "metadata": {},
   "outputs": [
    {
     "data": {
      "text/plain": [
       "[<matplotlib.lines.Line2D at 0x7f869092e250>]"
      ]
     },
     "execution_count": 146,
     "metadata": {},
     "output_type": "execute_result"
    }
   ],
   "source": [
    "spectrum_file = phantom.spectrum_file\n",
    "\n",
    "s.load(spectrum_file=spectrum_file)\n",
    "plt.figure()\n",
    "plt.plot(s.x, s.y)\n",
    "# s.attenuate(0.08,fc.spectrum.get_mu('CsI'))\n",
    "s.attenuate(0.08,fc.spectrum.get_mu('CsI'))\n",
    "s.attenuate(0.1,fc.spectrum.get_mu('14'))\n",
    "plt.plot(s.x, s.y)"
   ]
  },
  {
   "cell_type": "code",
   "execution_count": 147,
   "metadata": {},
   "outputs": [],
   "source": [
    "ggems_scatter_files = glob.glob(\n",
    "    '/home/jericho/1-Workspace/1-jupyter_notebooks/4-preliminary_fastmc_projections/out_dir/fastmc_*scatter.mhd'\n",
    ")\n",
    "ggems_primary_files = glob.glob(\n",
    "    '/home/jericho/1-Workspace/1-jupyter_notebooks/4-preliminary_fastmc_projections/out_dir/fastmc_*[!scatter].mhd'\n",
    ")\n",
    "\n",
    "ggems_scatter_files2 = [x for x in ggems_scatter_files if 'flood' not in x and '0_2' in x]\n",
    "ggems_primary_files2 = [x for x in ggems_primary_files if 'flood' not in x and '0_2' in x]\n",
    "\n",
    "ggems_scatter_files2.sort()\n",
    "ggems_primary_files2.sort()"
   ]
  },
  {
   "cell_type": "code",
   "execution_count": 150,
   "metadata": {},
   "outputs": [],
   "source": [
    "phantom2 = np.load(pkl_file, allow_pickle=True)\n",
    "phantom2.DSD = 1515\n",
    "\n",
    "# I flip the phantom because fastmc has a bit of a different coordinate system\n",
    "phantom2.phantom = np.flipud(phantom2.phantom)\n",
    "\n",
    "# phantom2.simulation_parameters['angles'] = phantom2.simangles\n",
    "\n",
    "# Convert the phantom angles to degrees\n",
    "phantom_angles = phantom2.sim_angles * 180 / np.pi\n",
    "\n",
    "angles = np.linspace(0, np.pi *2, 360, endpoint=False)\n",
    "phantom2.angles = angles\n",
    "phantom2.bowtie_file = '/home/jericho/Software/Catphan604_HeadSized/full_fan_1_deg.dat'\n",
    "phantom2.bowtie_interp = 'cubic'"
   ]
  },
  {
   "cell_type": "code",
   "execution_count": null,
   "metadata": {},
   "outputs": [],
   "source": [
    "# plt.figure()\n",
    "# cc =pli.hyperslicer(phantom.phantom)\n",
    "\n",
    "# crop_min = [0,45,0]\n",
    "# crop_max = [None, None, None]\n",
    "# phantom2 = phantom.phantom[crop_min[0]:crop_max[0],crop_min[1]:crop_max[1],crop_min[2]:crop_max[2]]\n",
    "\n",
    "# plt.figure()\n",
    "# # Plot the three views of the phantom\n",
    "# plt.subplot(131)\n",
    "# plt.imshow(phantom2[phantom2.shape[0]//2], cmap='gray')\n",
    "# # plot a star at the center of the slice\n",
    "# plt.axis('off')\n",
    "# plt.plot(phantom2.shape[2]//2, phantom2.shape[1]//2, 'r*')\n",
    "# plt.subplot(132)\n",
    "# plt.imshow(phantom2[:,phantom2.shape[1]//2], cmap='gray')\n",
    "# # plot a star at the center of the slice\n",
    "# plt.plot(phantom2.shape[2]//2, phantom2.shape[0]//2, 'r*')\n",
    "# plt.axis('off')\n",
    "\n",
    "# plt.subplot(133)\n",
    "# plt.imshow(phantom2[:,:,phantom2.shape[2]//2], cmap='gray')\n",
    "# # plot a star at the center of the slice\n",
    "# plt.plot(phantom2.shape[1]//2, phantom2.shape[0]//2, 'r*')\n",
    "# plt.axis('off')\n",
    "# plt.tight_layout()"
   ]
  },
  {
   "cell_type": "code",
   "execution_count": 151,
   "metadata": {},
   "outputs": [
    {
     "name": "stdout",
     "output_type": "stream",
     "text": [
      "[2024-02-08 09:52:39,228] {ggems_simulate.py:227} INFO - Initializing filter /home/jericho/Software/Catphan604_HeadSized/full_fan_1_deg.dat\n"
     ]
    },
    {
     "name": "stdout",
     "output_type": "stream",
     "text": [
      "[2024-02-08 09:52:40,122] {ggems_simulate.py:618} INFO - Running Simulations\n",
      "[2024-02-08 09:52:40,122] {ggems_simulate.py:621} INFO -     1.0 mm focal spot added\n",
      "[2024-02-08 09:52:40,123] {ggems_simulate.py:646} INFO -     Simulating 20 keV\n",
      "[2024-02-08 09:52:52,132] {ggems_simulate.py:646} INFO -     Simulating 30 keV\n",
      "[2024-02-08 09:53:03,800] {ggems_simulate.py:646} INFO -     Simulating 40 keV\n",
      "[2024-02-08 09:53:15,325] {ggems_simulate.py:646} INFO -     Simulating 50 keV\n",
      "[2024-02-08 09:53:26,728] {ggems_simulate.py:646} INFO -     Simulating 60 keV\n",
      "[2024-02-08 09:53:38,153] {ggems_simulate.py:646} INFO -     Simulating 70 keV\n",
      "[2024-02-08 09:53:49,633] {ggems_simulate.py:646} INFO -     Simulating 80 keV\n",
      "[2024-02-08 09:54:01,264] {ggems_simulate.py:646} INFO -     Simulating 90 keV\n",
      "[2024-02-08 09:54:12,958] {ggems_simulate.py:646} INFO -     Simulating 100 keV\n",
      "[2024-02-08 09:54:24,454] {ggems_simulate.py:876} INFO - Weighting simulations\n",
      "[2024-02-08 09:54:24,457] {ggems_simulate.py:965} INFO -     No noise was added\n"
     ]
    }
   ],
   "source": [
    "# return the projections\n",
    "# phantom.phantom = np.flipud(phantom.phantom)\n",
    "phantom2.return_projs(det,s,angles,mgy=0,\n",
    "                    ASG=False, scat_on=False,\n",
    "                    det_on=False,\n",
    "                    bowtie=True,\n",
    "                    return_intensity=True)# Get primary fastcat projections"
   ]
  },
  {
   "cell_type": "code",
   "execution_count": 152,
   "metadata": {},
   "outputs": [],
   "source": [
    "flood_file2 = '/home/jericho/1-Workspace/1-jupyter_notebooks/4-preliminary_fastmc_projections/out_dir/fastmc_00.0_flood_2.mhd'\n",
    "\n",
    "phantom2.load_ggems_files(ggems_scatter_files2, ggems_primary_files2, flood_file2,\n",
    "                         average_scatter=True)\n",
    "phantom2.correct_intensity(ml=False)"
   ]
  },
  {
   "cell_type": "code",
   "execution_count": 155,
   "metadata": {},
   "outputs": [
    {
     "name": "stderr",
     "output_type": "stream",
     "text": [
      "/tmp/ipykernel_6155/2390269776.py:9: RuntimeWarning: divide by zero encountered in divide\n",
      "  proj1 = -np.log(int1/np.rot90(phantom.ggems_flood))\n",
      "/tmp/ipykernel_6155/2390269776.py:10: RuntimeWarning: divide by zero encountered in divide\n",
      "  proj2 = -np.log(int2/np.rot90(phantom2.ggems_flood))\n"
     ]
    },
    {
     "data": {
      "text/plain": [
       "[<matplotlib.lines.Line2D at 0x7f86900982d0>]"
      ]
     },
     "execution_count": 155,
     "metadata": {},
     "output_type": "execute_result"
    }
   ],
   "source": [
    "plt.figure()\n",
    "plt.subplot(131)\n",
    "\n",
    "from scipy.ndimage import gaussian_filter\n",
    "filt_sigma = 1\n",
    "int1 = gaussian_filter(phantom.ggems_primary_projections[0],filt_sigma)\n",
    "int2 = gaussian_filter(phantom2.ggems_primary_projections[0],filt_sigma)\n",
    "\n",
    "proj1 = -np.log(int1/np.rot90(phantom.ggems_flood))\n",
    "proj2 = -np.log(int2/np.rot90(phantom2.ggems_flood))\n",
    "# gaussian blur the projections using scipy ndimage \n",
    "\n",
    "crop = 20\n",
    "\n",
    "plt.imshow(proj1[crop:-crop,crop:-crop],cmap='turbo',vmin=0,vmax=4)\n",
    "plt.axis('off')\n",
    "plt.title(f'GGEMS $\\sigma$={filt_sigma}')\n",
    "plt.subplot(132)\n",
    "plt.imshow(proj2[crop:-crop,crop:-crop],cmap='turbo',vmin=0,vmax=4)\n",
    "plt.axis('off')\n",
    "plt.title(f'Fastcat $\\sigma$={filt_sigma}')\n",
    "# Plot the difference \n",
    "plt.subplot(133)\n",
    "diff_1 = 100*(proj1[crop:-crop,crop:-crop]-proj2[crop:-crop,crop:-crop])/4\n",
    "plt.axis('off')\n",
    "plt.title('Difference')\n",
    "plt.imshow(diff_1,cmap='bwr',vmin=-5,vmax=5)\n",
    "plt.colorbar(orientation='horizontal')\n",
    "\n",
    "# plot the mean of the difference along the x and y axes\n",
    "plt.figure()\n",
    "plt.plot(np.mean(diff_1,axis=0))\n",
    "plt.plot(np.mean(diff_1,axis=1))"
   ]
  },
  {
   "cell_type": "code",
   "execution_count": 171,
   "metadata": {},
   "outputs": [
    {
     "data": {
      "text/plain": [
       "[<matplotlib.lines.Line2D at 0x7f8698602490>]"
      ]
     },
     "execution_count": 171,
     "metadata": {},
     "output_type": "execute_result"
    }
   ],
   "source": [
    "plt.figure()\n",
    "plt.subplot(131)\n",
    "\n",
    "from scipy.ndimage import gaussian_filter\n",
    "filt_sigma = 1\n",
    "int1 = gaussian_filter(phantom.intensity[0],filt_sigma)\n",
    "int2 = gaussian_filter(phantom2.intensity[0],filt_sigma)\n",
    "\n",
    "proj1 = -np.log(int1/phantom.flood_field)\n",
    "proj2 = -np.log(int2/phantom2.flood_field)\n",
    "# gaussian blur the projections using scipy ndimage \n",
    "\n",
    "crop = 20\n",
    "\n",
    "plt.imshow(proj1[crop:-crop,crop:-crop],cmap='turbo',vmin=0,vmax=4)\n",
    "plt.axis('off')\n",
    "plt.title(f'Layer 1 norm. filt. $\\sigma$={filt_sigma}')\n",
    "plt.subplot(132)\n",
    "plt.imshow(proj2[crop:-crop,crop:-crop],cmap='turbo',vmin=0,vmax=4)\n",
    "plt.axis('off')\n",
    "plt.title(f'Layer 2 norm. filt. $\\sigma$={filt_sigma}')\n",
    "# Plot the difference \n",
    "plt.subplot(133)\n",
    "diff_1 = 100*(proj1[crop:-crop,crop:-crop]-proj2[crop:-crop,crop:-crop])/4\n",
    "plt.axis('off')\n",
    "plt.title('Difference')\n",
    "plt.imshow(diff_1,cmap='bwr',vmin=-10,vmax=10)\n",
    "plt.colorbar(orientation='horizontal')\n",
    "\n",
    "# plot the mean of the difference along the x and y axes\n",
    "plt.figure()\n",
    "plt.plot(np.mean(diff_1,axis=0))\n",
    "plt.plot(np.mean(diff_1,axis=1))"
   ]
  },
  {
   "cell_type": "code",
   "execution_count": 156,
   "metadata": {},
   "outputs": [
    {
     "name": "stderr",
     "output_type": "stream",
     "text": [
      "/tmp/ipykernel_6155/1860078263.py:9: RuntimeWarning: divide by zero encountered in divide\n",
      "  proj1 = -np.log(int1/np.rot90(phantom2.ggems_flood))\n"
     ]
    },
    {
     "data": {
      "text/plain": [
       "[<matplotlib.lines.Line2D at 0x7f86905efc90>]"
      ]
     },
     "execution_count": 156,
     "metadata": {},
     "output_type": "execute_result"
    }
   ],
   "source": [
    "plt.figure()\n",
    "plt.subplot(131)\n",
    "\n",
    "from scipy.ndimage import gaussian_filter\n",
    "filt_sigma = 1\n",
    "int1 = gaussian_filter(phantom2.ggems_primary_projections[0],filt_sigma)\n",
    "int2 = gaussian_filter(phantom2.intensity[0],filt_sigma)\n",
    "\n",
    "proj1 = -np.log(int1/np.rot90(phantom2.ggems_flood))\n",
    "proj2 = -np.log(int2/phantom2.flood_field)\n",
    "# gaussian blur the projections using scipy ndimage \n",
    "\n",
    "crop = 20\n",
    "\n",
    "plt.imshow(proj1[crop:-crop,crop:-crop],cmap='turbo',vmin=0,vmax=4)\n",
    "plt.axis('off')\n",
    "plt.title(f'GGEMS $\\sigma$={filt_sigma}')\n",
    "plt.subplot(132)\n",
    "plt.imshow(proj2[crop:-crop,crop:-crop],cmap='turbo',vmin=0,vmax=4)\n",
    "plt.axis('off')\n",
    "plt.title(f'Fastcat $\\sigma$={filt_sigma}')\n",
    "# Plot the difference \n",
    "plt.subplot(133)\n",
    "diff_1 = 100*(proj1[crop:-crop,crop:-crop]-proj2[crop:-crop,crop:-crop])/4\n",
    "plt.axis('off')\n",
    "plt.title('Difference')\n",
    "plt.imshow(diff_1,cmap='bwr',vmin=-5,vmax=5)\n",
    "plt.colorbar(orientation='horizontal')\n",
    "\n",
    "# plot the mean of the difference along the x and y axes\n",
    "plt.figure()\n",
    "plt.plot(np.mean(diff_1,axis=0))\n",
    "plt.plot(np.mean(diff_1,axis=1))"
   ]
  },
  {
   "cell_type": "code",
   "execution_count": 157,
   "metadata": {},
   "outputs": [
    {
     "data": {
      "text/plain": [
       "[<matplotlib.lines.Line2D at 0x7f8693ec6ed0>]"
      ]
     },
     "execution_count": 157,
     "metadata": {},
     "output_type": "execute_result"
    }
   ],
   "source": [
    "plt.figure(figsize=(10,5))\n",
    "# plt.subplot(121)\n",
    "plt.plot(np.mean(phantom2.ggems_primary_projections[0],axis=0))\n",
    "plt.plot(np.mean(phantom2.ggems_flood,axis=1))\n",
    "# plt.subplot(122)\n",
    "plt.plot(np.mean(phantom2.intensity[0],axis=0))\n",
    "plt.plot(np.mean(phantom2.flood_field,axis=0))"
   ]
  },
  {
   "cell_type": "code",
   "execution_count": 158,
   "metadata": {},
   "outputs": [],
   "source": [
    "# phantom2.simulation_parameters['angles'] = np.linspace(0, np.pi *2, 2, endpoint=False)\n",
    "phantom2.interpolate_ggems_scatter()\n",
    "phantom2.add_poisson_noise()"
   ]
  },
  {
   "cell_type": "code",
   "execution_count": 159,
   "metadata": {},
   "outputs": [
    {
     "data": {
      "text/plain": [
       "<matplotlib.legend.Legend at 0x7f8693e139d0>"
      ]
     },
     "execution_count": 159,
     "metadata": {},
     "output_type": "execute_result"
    }
   ],
   "source": [
    "plt.figure()\n",
    "plt.hist(phantom2.ggems_primary_projections[1].flatten(), bins=100,histtype='step',label='ggems')\n",
    "plt.hist(phantom2.intensity[0].flatten(), bins=100,histtype='step',label='fastcat')\n",
    "plt.hist(phantom.ggems_primary_projections[1].flatten(), bins=100,histtype='step',label='ggems_1')\n",
    "plt.hist(phantom.intensity[0].flatten(), bins=100,histtype='step',label='fastcat_1')\n",
    "plt.legend()\n",
    "\n",
    "# Plot the same thing but normalized\n",
    "plt.figure()\n",
    "plt.hist(phantom2.ggems_primary_projections[1].flatten()/phantom2.ggems_primary_projections[1].max(), bins=100,histtype='step',label='ggems')\n",
    "plt.hist(phantom2.intensity[0].flatten()/phantom2.intensity[0].max(), bins=100,histtype='step',label='fastcat')\n",
    "plt.hist(phantom.ggems_primary_projections[1].flatten()/phantom.ggems_primary_projections[1].max(), bins=100,histtype='step',label='ggems_1')\n",
    "plt.hist(phantom.intensity[0].flatten()/phantom.intensity[0].max(), bins=100,histtype='step',label='fastcat_1')\n",
    "plt.legend()\n"
   ]
  },
  {
   "cell_type": "code",
   "execution_count": 365,
   "metadata": {},
   "outputs": [
    {
     "data": {
      "text/plain": [
       "(array([93135.,  2662.,  2453.,   407.,  1183.,   336.,   343.,   373.,\n",
       "          823.,   673.,  2308.,   407.,   325.,  1160.,   282.,   403.,\n",
       "         1047.,   370.,   308.,  1115.,   343.,  1076.,   349.,   921.,\n",
       "          489.,   999.,   389.,  1029.,   618.,   769.,   933.,   794.,\n",
       "          653.,  1105.,   990.,   463.,   904.,   993.,  1103.,   962.,\n",
       "         1054.,   959.,   862.,  1070.,  1034.,  1159.,  1000.,  1067.,\n",
       "         1204.,  1147.,  1197.,  1097.,  1131.,  1361.,  1161.,  1315.,\n",
       "         1190.,  1362.,  1461.,  1532.,  1470.,  1347.,  1510.,  1586.,\n",
       "         1570.,  1452.,  1680.,  1357.,  1500.,  1680.,  1551.,  1842.,\n",
       "         1980.,  1804.,  1941.,  1965.,  1869.,  1868.,  1811.,  2157.,\n",
       "         2258.,  2070.,  1750.,  1851.,  3150.,  4800.,  3324.,  3911.,\n",
       "         4416.,  5734.,  4236.,  5188.,  3527.,  3567.,  4934., 11401.,\n",
       "         8570.,  1264.,  1195.,  1700.]),\n",
       " array([ 0.16441574,  0.51807065,  0.87172556,  1.22538047,  1.57903538,\n",
       "         1.93269029,  2.2863452 ,  2.64000011,  2.99365502,  3.34730994,\n",
       "         3.70096485,  4.05461976,  4.40827467,  4.76192958,  5.11558449,\n",
       "         5.4692394 ,  5.82289431,  6.17654922,  6.53020413,  6.88385904,\n",
       "         7.23751395,  7.59116886,  7.94482377,  8.29847868,  8.65213359,\n",
       "         9.0057885 ,  9.35944341,  9.71309832, 10.06675324, 10.42040815,\n",
       "        10.77406306, 11.12771797, 11.48137288, 11.83502779, 12.1886827 ,\n",
       "        12.54233761, 12.89599252, 13.24964743, 13.60330234, 13.95695725,\n",
       "        14.31061216, 14.66426707, 15.01792198, 15.37157689, 15.7252318 ,\n",
       "        16.07888671, 16.43254162, 16.78619654, 17.13985145, 17.49350636,\n",
       "        17.84716127, 18.20081618, 18.55447109, 18.908126  , 19.26178091,\n",
       "        19.61543582, 19.96909073, 20.32274564, 20.67640055, 21.03005546,\n",
       "        21.38371037, 21.73736528, 22.09102019, 22.4446751 , 22.79833001,\n",
       "        23.15198493, 23.50563984, 23.85929475, 24.21294966, 24.56660457,\n",
       "        24.92025948, 25.27391439, 25.6275693 , 25.98122421, 26.33487912,\n",
       "        26.68853403, 27.04218894, 27.39584385, 27.74949876, 28.10315367,\n",
       "        28.45680858, 28.81046349, 29.1641184 , 29.51777331, 29.87142823,\n",
       "        30.22508314, 30.57873805, 30.93239296, 31.28604787, 31.63970278,\n",
       "        31.99335769, 32.3470126 , 32.70066751, 33.05432242, 33.40797733,\n",
       "        33.76163224, 34.11528715, 34.46894206, 34.82259697, 35.17625188,\n",
       "        35.52990679]),\n",
       " [<matplotlib.patches.Polygon at 0x7f6919ba6c90>])"
      ]
     },
     "execution_count": 365,
     "metadata": {},
     "output_type": "execute_result"
    }
   ],
   "source": [
    "plt.figure()\n",
    "plt.hist(phantom.proj[0].flatten(), bins=100,histtype='step',label='fastcat')\n",
    "plt.hist(phantom2.proj[0].flatten(), bins=100,histtype='step',label='fastcat_2')"
   ]
  },
  {
   "cell_type": "code",
   "execution_count": 160,
   "metadata": {},
   "outputs": [],
   "source": [
    "det = fc.Detector(s,'CsI-784-micrometer')\n",
    "det.add_focal_spot(1.0)\n",
    "\n",
    "phantom2.detector_mtf_convolution(det)"
   ]
  },
  {
   "cell_type": "code",
   "execution_count": 161,
   "metadata": {},
   "outputs": [],
   "source": [
    "phantom2.calc_ggems_projections(scat_on=True)\n",
    "phantom2.reconstruct_ggems(algo='FDK')"
   ]
  },
  {
   "cell_type": "code",
   "execution_count": 162,
   "metadata": {},
   "outputs": [
    {
     "data": {
      "text/plain": [
       "(-0.5, 525.5, 525.5, -0.5)"
      ]
     },
     "execution_count": 162,
     "metadata": {},
     "output_type": "execute_result"
    }
   ],
   "source": [
    "fig = plt.figure(figsize=(10,5))\n",
    "hi_res_bowtie_HU = phantom2.img/np.mean(phantom2.img[20:-20,200:-200, 200:-200])\n",
    "hi_res_bowtie_HU = (hi_res_bowtie_HU-1)*1000\n",
    "cont = pli.hyperslicer(hi_res_bowtie_HU, autoscale_cmap=False,cmap='bone', vmin=-400, vmax=400)#,controls=cc)\n",
    "plt.colorbar()\n",
    "plt.title('High res bowtie [HU]')\n",
    "plt.axis('off')"
   ]
  },
  {
   "cell_type": "code",
   "execution_count": 166,
   "metadata": {},
   "outputs": [
    {
     "data": {
      "text/plain": [
       "(-0.5, 525.5, 525.5, -0.5)"
      ]
     },
     "execution_count": 166,
     "metadata": {},
     "output_type": "execute_result"
    }
   ],
   "source": [
    "fig = plt.figure(figsize=(10,5))\n",
    "plt.subplot(132)\n",
    "\n",
    "hi_res_bowtie_HU = phantom2.img/np.mean(phantom.img[20:-20,200:-200, 200:-200])\n",
    "hi_res_bowtie_HU = (hi_res_bowtie_HU-1)*1000\n",
    "cont = pli.hyperslicer(hi_res_bowtie_HU, autoscale_cmap=False,cmap='bone', vmin=-400, vmax=400,play_buttons=True)#,controls=cc)\n",
    "# plt.colorbar()\n",
    "plt.title('Second Layer')\n",
    "plt.axis('off')\n",
    "plt.subplot(131)\n",
    "first_layer_HU = phantom.img/np.mean(phantom.img[20:-20,200:-200, 200:-200])\n",
    "first_layer_HU = (first_layer_HU-1)*1000\n",
    "cc = pli.hyperslicer(first_layer_HU, autoscale_cmap=False,cmap='bone', vmin=-400, vmax=400,controls=cont)\n",
    "# plt.colorbar()\n",
    "plt.title('First Layer')\n",
    "plt.axis('off')\n",
    "plt.subplot(133)\n",
    "# Plot the difference\n",
    "diff = hi_res_bowtie_HU - first_layer_HU\n",
    "cc = pli.hyperslicer(diff, autoscale_cmap=False,cmap='bwr', vmin=-400, vmax=400,controls=cont)\n",
    "plt.colorbar()\n",
    "plt.title('Difference')\n",
    "plt.tight_layout()\n",
    "plt.axis('off')\n"
   ]
  },
  {
   "cell_type": "code",
   "execution_count": 43,
   "metadata": {},
   "outputs": [
    {
     "ename": "NameError",
     "evalue": "name 'cont' is not defined",
     "output_type": "error",
     "traceback": [
      "\u001b[0;31m---------------------------------------------------------------------------\u001b[0m",
      "\u001b[0;31mNameError\u001b[0m                                 Traceback (most recent call last)",
      "Cell \u001b[0;32mIn[43], line 1\u001b[0m\n\u001b[0;32m----> 1\u001b[0m cont\u001b[38;5;241m.\u001b[39msave_animation(\u001b[38;5;124m'\u001b[39m\u001b[38;5;124mcatphan_correct_spectrum.gif\u001b[39m\u001b[38;5;124m'\u001b[39m,fig \u001b[38;5;241m=\u001b[39m fig,param\u001b[38;5;241m=\u001b[39m\u001b[38;5;124m'\u001b[39m\u001b[38;5;124maxis0\u001b[39m\u001b[38;5;124m'\u001b[39m)\n",
      "\u001b[0;31mNameError\u001b[0m: name 'cont' is not defined"
     ]
    }
   ],
   "source": [
    "cont.save_animation('catphan_correct_spectrum.gif',fig = fig,param='axis0')"
   ]
  },
  {
   "cell_type": "code",
   "execution_count": 163,
   "metadata": {},
   "outputs": [
    {
     "data": {
      "text/plain": [
       "[<matplotlib.lines.Line2D at 0x7f869424bf50>]"
      ]
     },
     "execution_count": 163,
     "metadata": {},
     "output_type": "execute_result"
    }
   ],
   "source": [
    "plt.figure()\n",
    "plt.plot(phantom.weights_fluence)\n",
    "plt.plot(phantom2.weights_fluence)"
   ]
  },
  {
   "cell_type": "code",
   "execution_count": 164,
   "metadata": {},
   "outputs": [],
   "source": [
    "# Save the flood fields, the raw projections, and the scatter all to matlab files \n",
    "\n",
    "# Save the flood fields\n",
    "import scipy.io as sio\n",
    "\n",
    "sio.savemat('flood_field_first_layer.mat', {'flood_fields': phantom.flood_field})\n",
    "sio.savemat('flood_field_second_layer.mat', {'flood_fields': phantom2.flood_field})\n",
    "\n",
    "# Save the intensity\n",
    "sio.savemat('detector_intensity_first_layer.mat', {'intensity': phantom.intensity})\n",
    "sio.savemat('detector_intensity_second_layer.mat', {'intensity': phantom2.intensity})\n",
    "\n",
    "# Save the scatter\n",
    "sio.savemat('detector_scatter_intensity_first_layer.mat', {'scatter': phantom.interpolated_ggems_scatter})\n",
    "sio.savemat('detector_scatter_intensity_second_layer.mat', {'scatter': phantom2.interpolated_ggems_scatter})\n"
   ]
  },
  {
   "cell_type": "code",
   "execution_count": 165,
   "metadata": {},
   "outputs": [],
   "source": [
    "phantom2.save_pickle('second_layer_360.pkl')\n",
    "phantom.save_pickle('first_layer_360.pkl')"
   ]
  },
  {
   "cell_type": "code",
   "execution_count": null,
   "metadata": {},
   "outputs": [],
   "source": []
  },
  {
   "cell_type": "code",
   "execution_count": null,
   "metadata": {},
   "outputs": [
    {
     "name": "stderr",
     "output_type": "stream",
     "text": [
      "/tmp/ipykernel_373177/4284414012.py:9: RuntimeWarning: divide by zero encountered in divide\n",
      "  proj1 = -np.log(int1/np.rot90(phantom.ggems_flood))\n",
      "/tmp/ipykernel_373177/4284414012.py:9: RuntimeWarning: invalid value encountered in divide\n",
      "  proj1 = -np.log(int1/np.rot90(phantom.ggems_flood))\n",
      "/tmp/ipykernel_373177/4284414012.py:9: RuntimeWarning: divide by zero encountered in log\n",
      "  proj1 = -np.log(int1/np.rot90(phantom.ggems_flood))\n"
     ]
    },
    {
     "data": {
      "text/plain": [
       "[<matplotlib.lines.Line2D at 0x7fb2f3602610>]"
      ]
     },
     "metadata": {},
     "output_type": "display_data"
    }
   ],
   "source": [
    "plt.figure()\n",
    "plt.subplot(131)\n",
    "\n",
    "from scipy.ndimage import gaussian_filter\n",
    "filt_sigma = 0.1\n",
    "int1 = gaussian_filter(phantom.ggems_primary_projections[0],filt_sigma)\n",
    "int2 = gaussian_filter(phantom.intensity[0],filt_sigma)\n",
    "\n",
    "proj1 = -np.log(int1/np.rot90(phantom.ggems_flood))\n",
    "proj2 = -np.log(int2/np.rot90(phantom.flood_field))\n",
    "# gaussian blur the projections using scipy ndimage \n",
    "\n",
    "crop = 20\n",
    "\n",
    "plt.imshow(proj1[crop:-crop,crop:-crop],cmap='turbo',vmin=0,vmax=4)\n",
    "plt.axis('off')\n",
    "plt.title(f'GGEMS $\\sigma$={filt_sigma}')\n",
    "plt.subplot(132)\n",
    "plt.imshow(proj2[crop:-crop,crop:-crop],cmap='turbo',vmin=0,vmax=4)\n",
    "plt.axis('off')\n",
    "plt.title(f'Fastcat $\\sigma$={filt_sigma}')\n",
    "# Plot the difference \n",
    "plt.subplot(133)\n",
    "diff_1 = 100*(proj1[crop:-crop,crop:-crop]-proj2[crop:-crop,crop:-crop])/4\n",
    "plt.axis('off')\n",
    "plt.title('Difference')\n",
    "plt.imshow(diff_1,cmap='bwr',vmin=-5,vmax=5)\n",
    "plt.colorbar(orientation='horizontal')\n",
    "\n",
    "# plot the mean of the difference image along both axes\n",
    "plt.figure()\n",
    "plt.plot(np.mean(diff_1,axis=0))\n",
    "plt.plot(np.mean(diff_1,axis=1))"
   ]
  }
 ],
 "metadata": {
  "kernelspec": {
   "display_name": "tigre_fastcat",
   "language": "python",
   "name": "python3"
  },
  "language_info": {
   "codemirror_mode": {
    "name": "ipython",
    "version": 3
   },
   "file_extension": ".py",
   "mimetype": "text/x-python",
   "name": "python",
   "nbconvert_exporter": "python",
   "pygments_lexer": "ipython3",
   "version": "3.11.5"
  }
 },
 "nbformat": 4,
 "nbformat_minor": 2
}
