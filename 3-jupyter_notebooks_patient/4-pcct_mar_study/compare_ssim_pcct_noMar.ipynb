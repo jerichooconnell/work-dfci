{
 "cells": [
  {
   "cell_type": "code",
   "execution_count": 2,
   "metadata": {},
   "outputs": [],
   "source": [
    "%matplotlib widget"
   ]
  },
  {
   "cell_type": "code",
   "execution_count": 3,
   "metadata": {},
   "outputs": [],
   "source": [
    "import nrrd\n",
    "import numpy as np\n",
    "from skimage.metrics import structural_similarity as compare_ssim\n",
    "\n",
    "# Load the NRRD volumes\n",
    "volume1, _ = nrrd.read(r'/home/jericho/Documents/54 Pelvic #4 0.2mm Qr40.nrrd')\n",
    "volume2, _ = nrrd.read(r'/home/jericho/Documents/44 Pelvic #2 0.2mm Qr40.nrrd')\n",
    "volume3, _ = nrrd.read(r'/home/jericho/Documents/51 Pelvic #3 0.2mm Qr40_1.nrrd')\n",
    "volume4, _ = nrrd.read(r'/home/jericho/Documents/30 0.2mm Pelvic Br40.nrrd')"
   ]
  },
  {
   "cell_type": "code",
   "execution_count": 6,
   "metadata": {},
   "outputs": [],
   "source": [
    "\n",
    "# average all the volumes over the 2 nd axis\n",
    "volume1 = (volume1[:,:,::2] + volume1[:,:,1::2])/2\n",
    "volume2 = (volume2[:,:,::2] + volume2[:,:,1::2])/2\n",
    "volume3 = (volume3[:,:,::2] + volume3[:,:,1::2])/2\n",
    "volume4 = (volume4[:,:,::2] + volume4[:,:,1::2])/2"
   ]
  },
  {
   "cell_type": "code",
   "execution_count": 7,
   "metadata": {},
   "outputs": [
    {
     "data": {
      "text/plain": [
       "((512, 512, 931), (512, 512, 931), (512, 512, 931), (512, 512, 931))"
      ]
     },
     "execution_count": 7,
     "metadata": {},
     "output_type": "execute_result"
    }
   ],
   "source": [
    "volume1.shape, volume2.shape, volume3.shape, volume4.shape\n"
   ]
  },
  {
   "cell_type": "code",
   "execution_count": 5,
   "metadata": {},
   "outputs": [],
   "source": [
    "import matplotlib.pyplot as plt\n",
    "import mpl_interactions as pli\n",
    "\n"
   ]
  },
  {
   "cell_type": "code",
   "execution_count": 8,
   "metadata": {},
   "outputs": [
    {
     "name": "stdout",
     "output_type": "stream",
     "text": [
      "SSIM for volume1: 0.606919815052304\n",
      "SSIM for volume2: 0.2961393817545964\n",
      "SSIM for volume3: 0.7058811160209938\n",
      "55.40511450362655\n",
      "222.61086492581202\n",
      "54.96337803698392\n"
     ]
    }
   ],
   "source": [
    "CT_1 = volume1.T[300:441, 170:290, 210:310] + 1000\n",
    "CT_1 = (CT_1[::3] + CT_1[1::3]  + CT_1[2::3]) /3\n",
    "CT_1 = (CT_1[:,::2] + CT_1[:,1::2]) /2\n",
    "\n",
    "CT_2 = volume2.T[300:441, 170:290, 210:310] + 1000\n",
    "CT_2 = (CT_2[::3] + CT_2[1::3]  + CT_2[2::3]) /3\n",
    "CT_2 = (CT_2[:,::2] + CT_2[:,1::2]) /2\n",
    "\n",
    "CT_3 = volume3.T[300:441, 170:290, 210:310] + 1000\n",
    "CT_3 = (CT_3[::3] + CT_3[1::3]  + CT_3[2::3]) /3\n",
    "CT_3 = (CT_3[:,::2] + CT_3[:,1::2]) /2\n",
    "\n",
    "CT_4 = volume4.T[300:441, 170:290, 210:310] + 1000\n",
    "CT_4 = (CT_4[::3] + CT_4[1::3]  + CT_4[2::3]) /3\n",
    "CT_4 = (CT_4[:,::2] + CT_4[:,1::2]) /2\n",
    "\n",
    "CT_1[:,28:33] = 1000\n",
    "CT_2[:,28:33] = 1000\n",
    "CT_3[:,28:33] = 1000\n",
    "CT_4[:,28:33] = 1000\n",
    "\n",
    "# Clip the values to the range 0-2000\n",
    "thresh = 1500\n",
    "thresh_low = 0\n",
    "\n",
    "CT_1[CT_1 < thresh_low] = thresh_low\n",
    "CT_1[CT_1 > thresh] = thresh\n",
    "\n",
    "CT_2[CT_2 < thresh_low] = thresh_low\n",
    "CT_2[CT_2 > thresh] = thresh\n",
    "\n",
    "CT_3[CT_3 < thresh_low] = thresh_low\n",
    "CT_3[CT_3 > thresh] = thresh\n",
    "\n",
    "CT_4[CT_4 < thresh_low] = thresh_low\n",
    "CT_4[CT_4 > thresh] = thresh\n",
    "\n",
    "# Compute the SSIM for the segmentation structure in the images\n",
    "ssim1 = compare_ssim(CT_4, CT_2,gaussian_weights=True, sigma=1.5, use_sample_covariance=False, data_range=thresh)\n",
    "ssim2 = compare_ssim(CT_4, CT_3,gaussian_weights=True, sigma=1.5, use_sample_covariance=False, data_range=thresh)\n",
    "ssim3 = compare_ssim(CT_4, CT_1,gaussian_weights=True, sigma=1.5, use_sample_covariance=False, data_range=thresh)\n",
    "\n",
    "print(f'SSIM for volume1: {ssim1}')\n",
    "print(f'SSIM for volume2: {ssim2}')\n",
    "print(f'SSIM for volume3: {ssim3}')\n",
    "\n",
    "# print the rmse of the images\n",
    "print(np.sqrt(np.mean((CT_4 - CT_2)**2)))\n",
    "print(np.sqrt(np.mean((CT_4 - CT_3)**2)))\n",
    "print(np.sqrt(np.mean((CT_4 - CT_1)**2)))"
   ]
  },
  {
   "cell_type": "code",
   "execution_count": null,
   "metadata": {},
   "outputs": [],
   "source": []
  }
 ],
 "metadata": {
  "kernelspec": {
   "display_name": "tigre_fastcat",
   "language": "python",
   "name": "python3"
  },
  "language_info": {
   "codemirror_mode": {
    "name": "ipython",
    "version": 3
   },
   "file_extension": ".py",
   "mimetype": "text/x-python",
   "name": "python",
   "nbconvert_exporter": "python",
   "pygments_lexer": "ipython3",
   "version": "3.10.13"
  }
 },
 "nbformat": 4,
 "nbformat_minor": 2
}
