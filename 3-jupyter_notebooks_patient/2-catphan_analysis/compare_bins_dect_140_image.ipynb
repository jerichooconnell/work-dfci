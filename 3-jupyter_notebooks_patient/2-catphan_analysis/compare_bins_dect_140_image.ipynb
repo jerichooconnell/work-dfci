{
 "cells": [
  {
   "cell_type": "code",
   "execution_count": 1,
   "metadata": {},
   "outputs": [],
   "source": [
    "%matplotlib qt"
   ]
  },
  {
   "cell_type": "code",
   "execution_count": 2,
   "metadata": {},
   "outputs": [],
   "source": [
    "import numpy as np\n",
    "import matplotlib.pyplot as plt\n",
    "import mpl_interactions as pli\n",
    "import glob\n",
    "import pylinac as pl"
   ]
  },
  {
   "cell_type": "code",
   "execution_count": 4,
   "metadata": {},
   "outputs": [],
   "source": [
    "# Find all the dicom images using glob \n",
    "# Load the images into a list\n",
    "# Create a 3D array of the images\n",
    "\n",
    "import os\n",
    "\n",
    "# 0.4mm_L\n",
    "# 0.4_Qr40_L\n",
    "# 0.4_Qr76_L\n",
    "# Pelvic_2_0.4_Qr40_L\n",
    "# Pelvic_2_0.4_Qr76_L\n",
    "# Pelvic_3_0.4_Qr76_L\n",
    "# Pelvic_32_0.4_Qr40_L\n",
    "\n",
    "\n",
    "images = np.load('/media/jericho/T7/sysiphus_drive/MV_CBCT/recon_kV_full.npy')\n",
    "\n",
    "# load the fastmc pickle file \n",
    "import pickle\n",
    "with open('first_layer_360.pkl','rb') as f:\n",
    "    data = pickle.load(f)\n",
    "\n",
    "images2 = data.img"
   ]
  },
  {
   "cell_type": "code",
   "execution_count": 41,
   "metadata": {},
   "outputs": [
    {
     "name": "stdout",
     "output_type": "stream",
     "text": [
      "1\n",
      "1\n"
     ]
    }
   ],
   "source": [
    "import matplotlib.pyplot as plt\n",
    "import numpy as np\n",
    "\n",
    "roi_names = ['Seniometry Module']\n",
    "\n",
    "def select_regions(image, num_clicks=4):\n",
    "    fig, ax = plt.subplots(figsize=(10, 5))\n",
    "    ax.imshow(image, cmap='bone')#,vmin=-100,vmax=100)\n",
    "    ax.set_aspect(0.25)\n",
    "    ax.axis('off')\n",
    "\n",
    "    x_coords = []\n",
    "    def onclick(event):\n",
    "        if len(x_coords) >= num_clicks:\n",
    "            return\n",
    "        ix = int(event.xdata)\n",
    "        x_coords.append(ix)\n",
    "        print(len(x_coords))\n",
    "        plt.axvline(x=ix, color='r', linestyle='--')\n",
    "        plt.text(ix, 0, roi_names[len(x_coords)-1], color='red', fontsize=12, va='bottom', ha='center')\n",
    "        fig.canvas.draw()\n",
    "\n",
    "    # Add a colorbar\n",
    "    cbar = plt.colorbar(ax.imshow(image, aspect=1, cmap='bone'),orientation='horizontal')\n",
    "    cbar.set_label('Pixel Value HU')\n",
    "\n",
    "    cid = fig.canvas.mpl_connect('button_press_event', onclick)\n",
    "\n",
    "    plt.show()\n",
    "    return x_coords\n",
    "\n",
    "# Use the function\n",
    "x_coords = select_regions(images2.T[256])\n",
    "x_coords2 = select_regions(images.T[256])"
   ]
  },
  {
   "cell_type": "code",
   "execution_count": 43,
   "metadata": {},
   "outputs": [],
   "source": [
    "def select_regions(image, radius=10, num_regions=6,LC=False):\n",
    "    fig, ax = plt.subplots(figsize=[5,5],dpi=300)\n",
    "    ax.imshow(image, cmap='gray')\n",
    "    # Make the plot long and skinny\n",
    "    # ax.set_aspect(0.5)\n",
    "    ax.axis('off')\n",
    "    mask = np.zeros_like(image)\n",
    "\n",
    "    conc = ['PMP', 'LDPE','Poly','Acrylic','Teflon'][-1::-1]\n",
    "    if LC:\n",
    "        ROI_names = [str(x) for x in conc[:num_regions]]\n",
    "    else:\n",
    "        ROI_names = [str(x) for x in conc[num_regions:]]\n",
    "\n",
    "    coords = []\n",
    "\n",
    "    def circular_mask(x, y, radius, shape):\n",
    "        xx, yy = np.ogrid[:shape[0], :shape[1]]\n",
    "        circle = (xx - x) ** 2 + (yy - y) ** 2\n",
    "        mask = circle < radius ** 2\n",
    "        return mask\n",
    "\n",
    "    def onclick(event):\n",
    "        if len(coords) >= num_regions:\n",
    "            return\n",
    "        ix, iy = int(event.xdata), int(event.ydata)\n",
    "        coords.append((ix, iy))\n",
    "\n",
    "        circle = plt.Circle((ix, iy), radius, color='cornflowerblue', fill=False)\n",
    "        \n",
    "        ax.add_artist(circle)\n",
    "        # Add text to label the circles\n",
    "        plt.text(ix, iy, ROI_names[len(coords)-1], color='indianred', fontsize=12, va='bottom', ha='center',fontdict={'family':'serif'})\n",
    "\n",
    "        mask[circular_mask(iy, ix, radius, image.shape)] = len(coords)\n",
    "        # mask[iy-radius:iy+radius, ix-radius:ix+radius] = len(coords)\n",
    "        fig.canvas.draw()\n",
    "\n",
    "    # cbar = plt.colorbar(ax.imshow(image, aspect=1, cmap='gray'),orientation='horizontal')\n",
    "    # cbar.set_label('Pixel Value HU')\n",
    "    cid = fig.canvas.mpl_connect('button_press_event', onclick)\n",
    "    # plt.tight_layout()\n",
    "    plt.show()\n",
    "\n",
    "    return mask\n",
    "\n",
    "masks= []\n",
    "\n",
    "for ii, x_coord in enumerate(x_coords2):\n",
    "\n",
    "    if ii in [0,2]:\n",
    "        LC = True\n",
    "    else:\n",
    "        LC = False\n",
    "    # Use the function\n",
    "    masks.append(select_regions(images[x_coord-10:x_coord+10].mean(axis=0),LC=LC))\n",
    "    # pause until the figure is closed\n",
    "\n",
    "masks2= []\n",
    "\n",
    "for ii, x_coord in enumerate(x_coords):\n",
    "\n",
    "    if ii in [0,2]:\n",
    "        LC = True\n",
    "    else:\n",
    "        LC = False\n",
    "    # Use the function\n",
    "    crop=60\n",
    "    masks2.append(select_regions(images2[x_coord-10:x_coord+10].mean(axis=0)[crop:-crop,crop:-crop],LC=LC))\n",
    "    # pause until the figure is closed\n"
   ]
  },
  {
   "cell_type": "code",
   "execution_count": null,
   "metadata": {},
   "outputs": [],
   "source": [
    "\n",
    "# plot the regions of interest on the images as two subplots side by side \n",
    "fig, ax = plt.subplots(1,2,figsize=(10,5))\n",
    "ax[0].imshow(images2.T[256], cmap='bone')\n",
    "\n",
    "for ii, mask in enumerate(masks2):\n",
    "    ax[0].imshow(mask,alpha=0.5)\n",
    "    # label the regions in the center of the mask values\n",
    "    for i in range(1,mask.max()+1):\n",
    "        y,x = np.where(mask==i)\n",
    "        ax[0].text(x.mean(),y.mean(),roi_names[ii],color='red',fontsize=12,va='center',ha='center')\n",
    "    "
   ]
  },
  {
   "cell_type": "code",
   "execution_count": 36,
   "metadata": {},
   "outputs": [
    {
     "data": {
      "text/plain": [
       "<matplotlib.image.AxesImage at 0x7f3b1244b350>"
      ]
     },
     "execution_count": 36,
     "metadata": {},
     "output_type": "execute_result"
    }
   ],
   "source": [
    "plt.figure()\n",
    "plt.imshow(mask)"
   ]
  },
  {
   "cell_type": "code",
   "execution_count": 34,
   "metadata": {},
   "outputs": [
    {
     "data": {
      "text/plain": [
       "<matplotlib.image.AxesImage at 0x7f3b1a2ce850>"
      ]
     },
     "execution_count": 34,
     "metadata": {},
     "output_type": "execute_result"
    }
   ],
   "source": [
    "ax1.imshow(images[0])"
   ]
  },
  {
   "cell_type": "code",
   "execution_count": 11,
   "metadata": {},
   "outputs": [],
   "source": [
    "# Generate 4 subplots showing the four masks overlayed on the image using nans for zero in the masks\n",
    "fig, ax = plt.subplots(2,2, figsize=[8,8])\n",
    "ax = ax.ravel()\n",
    "titles = ['Ag low conc.', 'Ag high conc.', 'Ag-Bi low conc.', 'Ag-Bi high conc.']\n",
    "for i, (mask,x_coord) in enumerate(zip(masks,x_coords)):\n",
    "    image = images2[x_coord-40:x_coord+40].mean(axis=0)\n",
    "    mask_temp = mask.copy()\n",
    "    mask_temp[mask==0] = np.nan\n",
    "    ax[i].imshow(image, aspect='auto', cmap='turbo',vmin=5,vmax=25)\n",
    "    ax[i].imshow(mask_temp, aspect='auto', cmap='tab20',vmin=0,vmax=5)\n",
    "    ax[i].axis('off')\n",
    "    ax[i].set_title(titles[i])\n",
    "\n",
    "for i, (mask,x_coord) in enumerate(zip(masks,x_coords2)):\n",
    "    image = images[x_coord-40:x_coord+40].mean(axis=0)\n",
    "    mask_temp = mask.copy()\n",
    "    mask_temp[mask==0] = np.nan\n",
    "    ax[i].imshow(image, aspect='auto', cmap='turbo',vmin=5,vmax=25)\n",
    "    ax[i].imshow(mask_temp, aspect='auto', cmap='tab20',vmin=0,vmax=5)\n",
    "    ax[i].axis('off')\n",
    "    ax[i].set_title(titles[i])"
   ]
  },
  {
   "cell_type": "code",
   "execution_count": 66,
   "metadata": {},
   "outputs": [
    {
     "ename": "IndexError",
     "evalue": "list index out of range",
     "output_type": "error",
     "traceback": [
      "\u001b[0;31m---------------------------------------------------------------------------\u001b[0m",
      "\u001b[0;31mIndexError\u001b[0m                                Traceback (most recent call last)",
      "Cell \u001b[0;32mIn[66], line 35\u001b[0m\n\u001b[1;32m     33\u001b[0m titles \u001b[38;5;241m=\u001b[39m [\u001b[38;5;124m'\u001b[39m\u001b[38;5;124mAg-Bi\u001b[39m\u001b[38;5;124m'\u001b[39m,\u001b[38;5;124m'\u001b[39m\u001b[38;5;124mAg\u001b[39m\u001b[38;5;124m'\u001b[39m]\n\u001b[1;32m     34\u001b[0m \u001b[38;5;28;01mfor\u001b[39;00m ii, (mean, std) \u001b[38;5;129;01min\u001b[39;00m \u001b[38;5;28menumerate\u001b[39m(\u001b[38;5;28mzip\u001b[39m(mean_values, std_values)):\n\u001b[0;32m---> 35\u001b[0m     mean_both \u001b[38;5;241m=\u001b[39m mean_values[ii\u001b[38;5;241m*\u001b[39m\u001b[38;5;241m2\u001b[39m] \u001b[38;5;241m+\u001b[39m mean_values[ii\u001b[38;5;241m*\u001b[39m\u001b[38;5;241m2\u001b[39m\u001b[38;5;241m+\u001b[39m \u001b[38;5;241m1\u001b[39m]\n\u001b[1;32m     36\u001b[0m     std_both \u001b[38;5;241m=\u001b[39m std_values[ii\u001b[38;5;241m*\u001b[39m\u001b[38;5;241m2\u001b[39m] \u001b[38;5;241m+\u001b[39m std_values[ii\u001b[38;5;241m*\u001b[39m\u001b[38;5;241m2\u001b[39m\u001b[38;5;241m+\u001b[39m \u001b[38;5;241m1\u001b[39m]\n\u001b[1;32m     37\u001b[0m     darker_color \u001b[38;5;241m=\u001b[39m adjust_color_lightness(colors[ii], \u001b[38;5;241m0.75\u001b[39m)  \u001b[38;5;66;03m# Darker red\u001b[39;00m\n",
      "\u001b[0;31mIndexError\u001b[0m: list index out of range"
     ]
    }
   ],
   "source": [
    "# Calculate the mean pixel value for each mask\n",
    "mean_values = []\n",
    "std_values = []\n",
    "\n",
    "for x_coord, mask in zip(x_coords, masks):\n",
    "    mean_values.append([])\n",
    "    for integer in np.unique(mask):\n",
    "        if integer == 0:\n",
    "            continue\n",
    "        temp_mean = []\n",
    "        for index in range(x_coord-10, x_coord+10):\n",
    "            temp_mean.append(images2[index][mask == integer].mean())\n",
    "        mean_values[-1].append(np.mean(temp_mean))\n",
    "        std_values.append(np.std(temp_mean))\n",
    "\n",
    "# Plot the mean values with error bars\n",
    "fig, ax = plt.subplots(dpi=300,figsize=[6,4])\n",
    "colors = ['cornflowerblue', 'coral', 'k', 'coral']\n",
    "conc = np.array([0,0.01,0.05,0.1,0.15,0.2,0.25,0.3,0.6,1,1.6,1.8])\n",
    "\n",
    "import colorsys\n",
    "import matplotlib\n",
    "\n",
    "def adjust_color_lightness(color, amount=0.5):\n",
    "    try:\n",
    "        c = matplotlib.colors.cnames[color]\n",
    "    except:\n",
    "        c = color\n",
    "    c = colorsys.rgb_to_hls(*matplotlib.colors.to_rgb(c))\n",
    "    return colorsys.hls_to_rgb(c[0], max(0, min(1, amount * c[1])), c[2])\n",
    "\n",
    "# Use the function\n",
    "titles = ['Ag-Bi','Ag']\n",
    "for ii, (mean, std) in enumerate(zip(mean_values, std_values)):\n",
    "    mean_both = mean_values[ii*2] + mean_values[ii*2+ 1]\n",
    "    std_both = std_values[ii*2] + std_values[ii*2+ 1]\n",
    "    darker_color = adjust_color_lightness(colors[ii], 0.75)  # Darker red\n",
    "    lighter_color = adjust_color_lightness(colors[ii], 1.25)  # Lighter red\n",
    "    ax.errorbar(conc+0.01*(ii-1), mean_both, yerr=std_both, fmt='*', color=darker_color, ecolor=lighter_color,capsize=5, capthick=2)\n",
    "    # Add a trend line\n",
    "    z = np.polyfit(conc+0.01*(ii-1), mean_both, 1)\n",
    "    p = np.poly1d(z)\n",
    "    ax.plot(conc+0.01*(ii-1), p(conc+0.01*(ii-1)), \"--\", color=colors[ii],label=titles[ii])\n",
    "\n",
    "# plt.colorbar()\n",
    "plt.xlabel('Concentration (mg/mL)')\n",
    "plt.ylabel('Mean Pixel Value (HU)')\n",
    "plt.legend()\n",
    "plt.title('Mean HU vs Conc. 20 slices 120kVp')\n",
    "plt.tight_layout()\n",
    "\n",
    "# Save the figure\n",
    "# plt.savefig('20_slices_120keV_dect.png',dpi=300)"
   ]
  },
  {
   "cell_type": "code",
   "execution_count": 67,
   "metadata": {},
   "outputs": [
    {
     "data": {
      "text/plain": [
       "([[0.031455345,\n",
       "   0.02277588,\n",
       "   0.019604241,\n",
       "   0.017235717,\n",
       "   0.016481167,\n",
       "   0.015238429],\n",
       "  [0.03153068,\n",
       "   0.022864198,\n",
       "   0.01959204,\n",
       "   0.017233554,\n",
       "   0.016496198,\n",
       "   0.015189643]],\n",
       " [1.9044328e-05,\n",
       "  2.904503e-05,\n",
       "  2.4358447e-05,\n",
       "  1.9826515e-05,\n",
       "  1.9765648e-05,\n",
       "  2.0635567e-05,\n",
       "  2.7947734e-05,\n",
       "  1.7612454e-05,\n",
       "  2.8339178e-05,\n",
       "  2.2621747e-05,\n",
       "  2.7190661e-05,\n",
       "  1.9389565e-05])"
      ]
     },
     "execution_count": 67,
     "metadata": {},
     "output_type": "execute_result"
    }
   ],
   "source": [
    "mean_values, std_values"
   ]
  },
  {
   "cell_type": "code",
   "execution_count": 3,
   "metadata": {},
   "outputs": [],
   "source": [
    "import numpy as np\n",
    "\n",
    "mean_values_exp = np.array([[0.034148104, 0.021402083, 0.01891603, 0.018038664, 0.01657083],\n",
    "  [0.034020983, 0.021427434, 0.018878074, 0.018025642, 0.016601142]])\n",
    "\n",
    "std_values_exp = np.array([6.340513e-05, 6.512419e-05, 7.264979e-05, 6.3021194e-05, 7.8659315e-05, 6.0385766e-05, 0.00013820331, 0.00010213418, 5.5717774e-05, 6.996347e-05, 5.6306344e-05, 3.848605e-05])"
   ]
  },
  {
   "cell_type": "code",
   "execution_count": 4,
   "metadata": {},
   "outputs": [],
   "source": [
    "\n",
    "\n",
    "mean_values_fastmc = np.array([[0.031447463, 0.019604241, 0.017236225, 0.016477404, 0.015212287],\n",
    "  [0.031498723, 0.01959204, 0.017233554, 0.016472554, 0.015189643]])\n",
    "\n",
    "std_values_fastmc = np.array([1.7849869e-05, 2.7534854e-05, 2.4358447e-05, 2.1794356e-05, 2.035973e-05, 2.0311245e-05, 2.5390094e-05, 2.1565795e-05, 2.8339178e-05, 2.2621747e-05, 2.1836842e-05, 1.9389565e-05])"
   ]
  },
  {
   "cell_type": "code",
   "execution_count": 5,
   "metadata": {},
   "outputs": [
    {
     "name": "stderr",
     "output_type": "stream",
     "text": [
      "libGL error: MESA-LOADER: failed to open radeonsi: /usr/lib/dri/radeonsi_dri.so: cannot open shared object file: No such file or directory (search paths /usr/lib/x86_64-linux-gnu/dri:\\$${ORIGIN}/dri:/usr/lib/dri, suffix _dri)\n",
      "libGL error: failed to load driver: radeonsi\n",
      "libGL error: MESA-LOADER: failed to open radeonsi: /usr/lib/dri/radeonsi_dri.so: cannot open shared object file: No such file or directory (search paths /usr/lib/x86_64-linux-gnu/dri:\\$${ORIGIN}/dri:/usr/lib/dri, suffix _dri)\n",
      "libGL error: failed to load driver: radeonsi\n",
      "libGL error: MESA-LOADER: failed to open swrast: /usr/lib/dri/swrast_dri.so: cannot open shared object file: No such file or directory (search paths /usr/lib/x86_64-linux-gnu/dri:\\$${ORIGIN}/dri:/usr/lib/dri, suffix _dri)\n",
      "libGL error: failed to load driver: swrast\n"
     ]
    },
    {
     "data": {
      "text/plain": [
       "<matplotlib.legend.Legend at 0x7fc2c04a28d0>"
      ]
     },
     "execution_count": 5,
     "metadata": {},
     "output_type": "execute_result"
    }
   ],
   "source": [
    "# compare the mean values\n",
    "fig, ax = plt.subplots(dpi=300,figsize=[6,4])\n",
    "colors = ['cornflowerblue', 'coral', 'k', 'coral']\n",
    "# plt.plot(mean_values_exp,mean_values_fastmc,'*',label='Experiments')\n",
    "# plot the mean with the error bar being the standard deviation \n",
    "point_labels = ['PMP','LDPE','Polystyrene','Acrylic','Teflon'][-1::-1]\n",
    "# label each point with the material\n",
    "for i in range(mean_values_exp.shape[1]):\n",
    "    ax.errorbar(mean_values_exp.mean(axis=0)[i], mean_values_fastmc.mean(axis=0)[i], yerr=mean_values_fastmc.std(axis=0)[i], xerr=mean_values_exp.std(axis=0)[i], fmt='*', color='darkgray', ecolor='coral',capsize=2, capthick=2)\n",
    "    plt.text(mean_values_exp.mean(axis=0)[i], mean_values_fastmc.mean(axis=0)[i], point_labels[i], fontsize=10, fontdict={'color':'indianred','family':'serif'})\n",
    "# plt.errorbar(mean_values_exp.mean(axis=0), mean_values_fastmc.mean(axis=0), yerr=mean_values_fastmc.std(axis=0), xerr=mean_values_exp.std(axis=0), fmt='*', color='forestgreen', ecolor='coral',capsize=2, capthick=2)\n",
    "\n",
    "# plot a linear fit to the data\n",
    "z = np.polyfit(mean_values_exp.mean(axis=0), mean_values_fastmc.mean(axis=0), 1)\n",
    "p = np.poly1d(z)\n",
    "plt.plot(mean_values_exp.mean(axis=0), p(mean_values_exp.mean(axis=0)), \"--\", color='cornflowerblue',label='Trend line')\n",
    "# plot the fit values on the plot\n",
    "# plt.text(0.017, 0.0165, f'y = {z[0]:.3f}x + {z[1]:.3f}', fontsize=12)\n",
    "plt.xlabel('Mean HU Experiments')\n",
    "plt.ylabel('Mean HU FastMC')\n",
    "plt.legend()"
   ]
  },
  {
   "cell_type": "code",
   "execution_count": 13,
   "metadata": {},
   "outputs": [
    {
     "name": "stdout",
     "output_type": "stream",
     "text": [
      "-185.65740967659394 -187.31037976219932\n"
     ]
    },
    {
     "data": {
      "text/plain": [
       "5.714565611478929"
      ]
     },
     "execution_count": 13,
     "metadata": {},
     "output_type": "execute_result"
    }
   ],
   "source": [
    "print(mean_values_fastmc_HU, mean_values_exp_HU)\n",
    "np.mean(np.abs(np.array(mean_values_exp_all) - mean_values_fastmc_all))"
   ]
  },
  {
   "cell_type": "code",
   "execution_count": 8,
   "metadata": {},
   "outputs": [],
   "source": [
    "# compare the mean values\n",
    "fig, ax = plt.subplots(dpi=300,figsize=[6,4])\n",
    "colors = ['cornflowerblue', 'coral', 'k', 'coral']\n",
    "# plt.plot(mean_values_exp,mean_values_fastmc,'*',label='Experiments')\n",
    "# plot the mean with the error bar being the standard deviation \n",
    "point_labels = ['PMP','LDPE','Polystyrene','Acrylic','Teflon'][-1::-1]\n",
    "# label each point with the material\n",
    "mean_values_exp_all = []\n",
    "mean_values_fastmc_all = []\n",
    "\n",
    "attenuation_coefficient_water = 0.018878074+0.0005\n",
    "attenuation_coefficient_water_fmc = 0.017233554 + 0.0005\n",
    "for i in range(len(mean_values_exp[0])):\n",
    "    mean_values_exp_HU = (mean_values_exp.mean(axis=0)[i] / attenuation_coefficient_water) * 1300 -1300\n",
    "    mean_values_fastmc_HU = (mean_values_fastmc.mean(axis=0)[i] / attenuation_coefficient_water_fmc) * 1300 - 1300\n",
    "    ax.errorbar(mean_values_exp_HU, mean_values_fastmc_HU, yerr=mean_values_fastmc.std(axis=0)[i], xerr=mean_values_exp.std(axis=0)[i], fmt='*', color='darkgray', ecolor='coral',capsize=2, capthick=2)\n",
    "    plt.text(mean_values_exp_HU, mean_values_fastmc_HU, point_labels[i], fontsize=10, fontdict={'color':'indianred','family':'serif'})\n",
    "\n",
    "    mean_values_exp_all.append(mean_values_exp_HU)\n",
    "    mean_values_fastmc_all.append(mean_values_fastmc_HU)\n",
    "\n",
    "# plot a linear fit to the data\n",
    "z = np.polyfit(mean_values_exp_all, mean_values_fastmc_all, 1)\n",
    "p = np.poly1d(z)\n",
    "plt.plot(mean_values_exp_all, p(mean_values_exp_all), \"--\", color='cornflowerblue',label='Linear fit')\n",
    "# plot the fit values on the plot\n",
    "plt.grid('on')\n",
    "# plot the r squared value on the plot using the equation from wikipedia\n",
    "# https://en.wikipedia.org/wiki/Coefficient_of_determination\n",
    "y = mean_values_fastmc_all\n",
    "y_hat = p(mean_values_exp_all)\n",
    "y_bar = np.mean(y)\n",
    "ss_tot = np.sum((y - y_bar)**2)\n",
    "ss_res = np.sum((y - y_hat)**2)\n",
    "r_squared = 1 - (ss_res/ss_tot)\n",
    "\n",
    "plt.text(500,0, f'R$^2$ = {r_squared:.3f}', fontsize=12)\n",
    "plt.xlabel('Mean HU Experiments')\n",
    "plt.ylabel('Mean HU DFCIsim')\n",
    "plt.legend()\n",
    "\n",
    "plt.tight_layout()\n",
    "# Save the figure\n",
    "plt.savefig('HU_comparison_dfci_Sim.png',dpi=300)"
   ]
  },
  {
   "cell_type": "code",
   "execution_count": 97,
   "metadata": {},
   "outputs": [
    {
     "data": {
      "text/plain": [
       "6"
      ]
     },
     "execution_count": 97,
     "metadata": {},
     "output_type": "execute_result"
    }
   ],
   "source": [
    "len(mean_values_exp[0])"
   ]
  },
  {
   "cell_type": "code",
   "execution_count": 45,
   "metadata": {},
   "outputs": [],
   "source": [
    "# Calculate the mean pixel value for each mask\n",
    "mean_values = []\n",
    "std_values = []\n",
    "\n",
    "for x_coord, mask in zip(x_coords, masks):\n",
    "    mean_values.append([])\n",
    "    for integer in np.unique(mask):\n",
    "        if integer == 0:\n",
    "            continue\n",
    "        temp_mean = []\n",
    "        for index in range(x_coord-10, x_coord+10):\n",
    "            temp_mean.append(images[index][mask == integer].mean())\n",
    "        mean_values[-1].append(np.mean(temp_mean))\n",
    "        std_values.append(np.std(temp_mean))\n",
    "\n",
    "# Plot the mean values with error bars\n",
    "fig, ax = plt.subplots(dpi=300,figsize=[6,4])\n",
    "colors = [ 'darkorange', 'gray']\n",
    "conc = np.array([0,0.01,0.05,0.1,0.15,0.2,0.25,0.3,0.6,1])\n",
    "\n",
    "import colorsys\n",
    "import matplotlib\n",
    "\n",
    "def adjust_color_lightness(color, amount=0.5):\n",
    "    try:\n",
    "        c = matplotlib.colors.cnames[color]\n",
    "    except:\n",
    "        c = color\n",
    "    c = colorsys.rgb_to_hls(*matplotlib.colors.to_rgb(c))\n",
    "    return colorsys.hls_to_rgb(c[0], max(0, min(1, amount * c[1])), c[2])\n",
    "\n",
    "# Use the function\n",
    "titles = ['Ag', 'Ag-Bi']\n",
    "for ii, (mean, std) in enumerate(zip(mean_values[::2], std_values[::2])):\n",
    "    mean_both = mean_values[ii*2] + mean_values[ii*2+ 1]\n",
    "    std_both = std_values[ii*2] + std_values[ii*2+ 1]\n",
    "    darker_color = adjust_color_lightness(colors[ii], 0.75)  # Darker red\n",
    "    lighter_color = adjust_color_lightness(colors[ii], 1.25)  # Lighter red\n",
    "    ax.errorbar(conc+0.01*(ii-1), mean_both, yerr=std_both, fmt='*', color=darker_color, ecolor=lighter_color,capsize=5, capthick=2)\n",
    "    # Add a trend line\n",
    "    z = np.polyfit(conc+0.01*(ii-1), mean_both, 1)\n",
    "    p = np.poly1d(z)\n",
    "    ax.plot(conc+0.01*(ii-1), p(conc+0.01*(ii-1)), \"--\", color=colors[ii],label=titles[ii])\n",
    "\n",
    "# plt.colorbar()\n",
    "plt.xlabel('Concentration (mg/mL)')\n",
    "plt.ylabel('Mean Pixel Value (HU)')\n",
    "plt.legend()\n",
    "plt.title('Mean HU vs Conc. 20 slices 80kVp')\n",
    "plt.tight_layout()\n",
    "\n",
    "# Save the figure\n",
    "plt.savefig('20_slices_80kVp_dect.png', dpi=300)"
   ]
  },
  {
   "cell_type": "code",
   "execution_count": 48,
   "metadata": {},
   "outputs": [],
   "source": [
    "import pickle\n",
    "\n",
    "with open('plot_data_120keV.pkl', 'wb') as f:\n",
    "    pickle.dump((mean_values, std_values, conc, colors, titles), f)"
   ]
  },
  {
   "cell_type": "code",
   "execution_count": 91,
   "metadata": {},
   "outputs": [],
   "source": [
    "plt.rcParams['text.usetex'] = False\n"
   ]
  },
  {
   "cell_type": "code",
   "execution_count": 49,
   "metadata": {},
   "outputs": [],
   "source": [
    "W = 100\n",
    "L = 25\n",
    "\n",
    "fig = plt.figure(figsize=(13, 7))\n",
    "plt.subplot(131)\n",
    "cc= pli.hyperslicer(images,autoscale_cmap=False,cmap='bone',vmin=L-W/2,vmax=L+W/2)\n",
    "plt.axis('off')\n",
    "plt.title(f'20-70 keV W/L {W}/{L}')\n",
    "plt.colorbar(orientation='horizontal')\n",
    "plt.subplot(132)\n",
    "c2 = pli.hyperslicer(images2,autoscale_cmap=False,cmap='bone',controls=cc,vmin=L-W/2,vmax=L+W/2)\n",
    "plt.axis('off')\n",
    "plt.title(f'70-140 keV W/L {W}/{L}')\n",
    "plt.colorbar(orientation='horizontal')\n",
    "plt.subplot(133)\n",
    "c3 = pli.hyperslicer(images - images2,autoscale_cmap=False,cmap='bwr',controls=cc,vmin=-W/4,vmax=W/4)\n",
    "plt.axis('off')\n",
    "plt.title('Difference [HU]')\n",
    "plt.colorbar(orientation='horizontal')\n",
    "plt.tight_layout()"
   ]
  },
  {
   "cell_type": "code",
   "execution_count": 55,
   "metadata": {},
   "outputs": [
    {
     "data": {
      "text/plain": [
       "<matplotlib.animation.FuncAnimation at 0x7fdec3f95e10>"
      ]
     },
     "execution_count": 55,
     "metadata": {},
     "output_type": "execute_result"
    }
   ],
   "source": [
    "controls.save_animation('low_high_dect_bi_difference.gif',fig,'param1',interval=20)"
   ]
  },
  {
   "cell_type": "code",
   "execution_count": 31,
   "metadata": {},
   "outputs": [
    {
     "ename": "AttributeError",
     "evalue": "'Controls' object has no attribute 'vbox'",
     "output_type": "error",
     "traceback": [
      "\u001b[0;31m---------------------------------------------------------------------------\u001b[0m",
      "\u001b[0;31mAttributeError\u001b[0m                            Traceback (most recent call last)",
      "File \u001b[0;32m~/anaconda3/envs/tigre_fastcat/lib/python3.11/site-packages/IPython/core/formatters.py:922\u001b[0m, in \u001b[0;36mIPythonDisplayFormatter.__call__\u001b[0;34m(self, obj)\u001b[0m\n\u001b[1;32m    920\u001b[0m method \u001b[38;5;241m=\u001b[39m get_real_method(obj, \u001b[38;5;28mself\u001b[39m\u001b[38;5;241m.\u001b[39mprint_method)\n\u001b[1;32m    921\u001b[0m \u001b[38;5;28;01mif\u001b[39;00m method \u001b[38;5;129;01mis\u001b[39;00m \u001b[38;5;129;01mnot\u001b[39;00m \u001b[38;5;28;01mNone\u001b[39;00m:\n\u001b[0;32m--> 922\u001b[0m     method()\n\u001b[1;32m    923\u001b[0m     \u001b[38;5;28;01mreturn\u001b[39;00m \u001b[38;5;28;01mTrue\u001b[39;00m\n",
      "File \u001b[0;32m~/anaconda3/envs/tigre_fastcat/lib/python3.11/site-packages/mpl_interactions/controller.py:349\u001b[0m, in \u001b[0;36mControls._ipython_display_\u001b[0;34m(self)\u001b[0m\n\u001b[1;32m    348\u001b[0m \u001b[38;5;28;01mdef\u001b[39;00m \u001b[38;5;21m_ipython_display_\u001b[39m(\u001b[38;5;28mself\u001b[39m):\n\u001b[0;32m--> 349\u001b[0m     ipy_display(\u001b[38;5;28mself\u001b[39m\u001b[38;5;241m.\u001b[39mvbox)\n",
      "\u001b[0;31mAttributeError\u001b[0m: 'Controls' object has no attribute 'vbox'"
     ]
    },
    {
     "data": {
      "text/plain": [
       "<mpl_interactions.controller.Controls at 0x7f3435b03750>"
      ]
     },
     "execution_count": 31,
     "metadata": {},
     "output_type": "execute_result"
    }
   ],
   "source": [
    "# plt.figure()\n",
    "# pli.hyperslicer(images,autoscale_cmap=False,cmap='turbo')"
   ]
  },
  {
   "cell_type": "code",
   "execution_count": 53,
   "metadata": {},
   "outputs": [],
   "source": [
    "import mpl_interactions.ipyplot as iplt\n",
    "\n",
    "slice = x_coords[1] #1080 #253 #787 #342 #1000\n",
    "\n",
    "nslice = 10\n",
    "\n",
    "x = np.linspace(0, np.pi, 200)\n",
    "y = np.linspace(0, 10, 200)\n",
    "X, Y = np.meshgrid(x, y)\n",
    "\n",
    "im1 = np.array(images1[slice-nslice:slice+nslice]).mean(axis=0)\n",
    "im2 = np.array(images[slice-nslice:slice+nslice]).mean(axis=0)\n",
    "\n",
    "# im1 = im1 - im1.min()\n",
    "# im1 = im1 / im1.max()\n",
    "\n",
    "# im2 = im2 - im2.min()\n",
    "# im2 = im2 / im2.max()\n",
    "\n",
    "def f(param1):\n",
    "    return im1* param1 - im2\n",
    "\n",
    "fig, ax = plt.subplots(figsize=(8,8))\n",
    "controls = iplt.imshow(f, param1=(0, 2),vmin_vmax=(\"r\", -200, 200),cmap='turbo')\n",
    "plt.axis('off')\n",
    "plt.colorbar(orientation='horizontal')\n",
    "\n",
    "with controls:\n",
    "    # directly using string formatting\n",
    "    # the formatting is performed in the update\n",
    "    iplt.title(title=\"120keV *{param1:.2f} - 80keV\")\n"
   ]
  },
  {
   "cell_type": "code",
   "execution_count": 76,
   "metadata": {},
   "outputs": [
    {
     "data": {
      "text/plain": [
       "<matplotlib.backends.backend_qtagg.FigureCanvasQTAgg at 0x7f49e00bb5b0>"
      ]
     },
     "metadata": {},
     "output_type": "display_data"
    }
   ],
   "source": [
    "from mpl_interactions import image_segmenter\n",
    "segmenter = image_segmenter(im2, mask_colors=\"red\", mask_alpha=0.76, figsize=(7, 7))\n",
    "display(segmenter)\n",
    "plt.show()"
   ]
  },
  {
   "cell_type": "code",
   "execution_count": 79,
   "metadata": {},
   "outputs": [],
   "source": [
    "diffs = []\n",
    "\n",
    "for param1 in np.linspace(0, 2, 100):\n",
    "    im_temp = f(param1)\n",
    "    mean_low = im_temp[mask_water==1]\n",
    "    mean_high = im_temp[mask_high_conc_ag==1]\n",
    "    diffs.append(np.abs(mean_high.mean() - mean_low.mean())/np.sqrt(mean_high.var() + mean_low.var()))"
   ]
  },
  {
   "cell_type": "code",
   "execution_count": 81,
   "metadata": {},
   "outputs": [
    {
     "data": {
      "text/plain": [
       "Text(0.5, 1.0, 'CNR 1.0 mg/ml AG (70-140keV*weight - 20-70keV)')"
      ]
     },
     "execution_count": 81,
     "metadata": {},
     "output_type": "execute_result"
    }
   ],
   "source": [
    "plt.figure()\n",
    "plt.plot(np.linspace(0, 2, 100), diffs)\n",
    "plt.xlabel('weighting of 70-140keV')\n",
    "plt.ylabel('CNR')\n",
    "plt.title('CNR 1.0 mg/ml AG (70-140keV*weight - 20-70keV)')"
   ]
  },
  {
   "cell_type": "code",
   "execution_count": 78,
   "metadata": {},
   "outputs": [],
   "source": [
    "# np.save('mask_low_conc.npy', mask_low_conc)\n",
    "# np.save('mask_high_conc.npy', mask_high_conc)\n",
    "# np.save('mask_water.npy', mask_water)\n",
    "# np.save('mask_high_conc_ag.npy', mask_high_conc_ag)"
   ]
  },
  {
   "cell_type": "code",
   "execution_count": 77,
   "metadata": {},
   "outputs": [],
   "source": [
    "mask_high_conc_ag = segmenter.mask"
   ]
  },
  {
   "cell_type": "code",
   "execution_count": 75,
   "metadata": {},
   "outputs": [
    {
     "data": {
      "text/plain": [
       "Text(0.5, 1.0, 'Image Segments')"
      ]
     },
     "execution_count": 75,
     "metadata": {},
     "output_type": "execute_result"
    }
   ],
   "source": [
    "total_mask = mask_water + 2*mask_low_conc + 3 *mask_high_conc\n",
    "total_mask[total_mask==0] = np.NaN\n",
    "\n",
    "plt.figure(dpi=400)\n",
    "plt.imshow(im2,cmap='bone',vmin = np.mean(im2[mask_water==1]) - 2*np.std(im2[mask_water==1]), vmax = np.mean(im2[mask_high_conc==1]) + 2*np.std(im2[mask_water==1]))\n",
    "plt.imshow(total_mask, cmap='flag',alpha=0.5)\n",
    "plt.axis('off')\n",
    "plt.title('Image Segments')"
   ]
  },
  {
   "cell_type": "code",
   "execution_count": null,
   "metadata": {},
   "outputs": [],
   "source": []
  }
 ],
 "metadata": {
  "kernelspec": {
   "display_name": "tigre_fastcat",
   "language": "python",
   "name": "python3"
  },
  "language_info": {
   "codemirror_mode": {
    "name": "ipython",
    "version": 3
   },
   "file_extension": ".py",
   "mimetype": "text/x-python",
   "name": "python",
   "nbconvert_exporter": "python",
   "pygments_lexer": "ipython3",
   "version": "3.11.5"
  }
 },
 "nbformat": 4,
 "nbformat_minor": 2
}
