{
 "cells": [
  {
   "cell_type": "code",
   "execution_count": 6,
   "metadata": {},
   "outputs": [
    {
     "name": "stdout",
     "output_type": "stream",
     "text": [
      "[2024-01-26 15:37:16,079] {pyplot.py:414} DEBUG - Loaded backend module://matplotlib_inline.backend_inline version unknown.\n",
      "[2024-01-26 15:37:16,175] {pyplot.py:414} DEBUG - Loaded backend QtAgg version 5.15.7.\n"
     ]
    }
   ],
   "source": [
    "%matplotlib qt"
   ]
  },
  {
   "cell_type": "code",
   "execution_count": 7,
   "metadata": {},
   "outputs": [],
   "source": [
    "import numpy as np\n",
    "import matplotlib.pyplot as plt\n",
    "import mpl_interactions as pli"
   ]
  },
  {
   "cell_type": "code",
   "execution_count": 30,
   "metadata": {},
   "outputs": [],
   "source": [
    "# Load the mhd files with fastcat \n",
    "import fastcat as fc\n",
    "\n",
    "flood_1 = fc.utils.read_mhd2('./out_fastmc/fastmc_00.0_flood.mhd').astype(np.float32)\n",
    "flood_2 = fc.utils.read_mhd2('./out_fastmc/fastmc_00.0_flood_2.mhd').astype(np.float32)\n",
    "image_1 = fc.utils.read_mhd2('./out_fastmc/fastmc_0.00.mhd').astype(np.float32)\n",
    "image_2 = fc.utils.read_mhd2('./out_fastmc/fastmc_0.00_2.mhd').astype(np.float32)\n",
    "scatter_1 = fc.utils.read_mhd2('./out_fastmc/fastmc_0.00-scatter.mhd')\n",
    "scatter_2 = fc.utils.read_mhd2('./out_fastmc/fastmc_0.00_2-scatter.mhd')\n",
    "\n",
    "# crop the projections by 16 pixels to remove the padding\n",
    "flood_1 = flood_1[16:-16,16:-16]\n",
    "flood_2 = flood_2[16:-16,16:-16]\n",
    "image_1 = image_1[16:-16,16:-16]\n",
    "image_2 = image_2[16:-16,16:-16]\n",
    "scatter_1 = scatter_1[16:-16,16:-16]\n",
    "scatter_2 = scatter_2[16:-16,16:-16]\n"
   ]
  },
  {
   "cell_type": "code",
   "execution_count": 31,
   "metadata": {},
   "outputs": [],
   "source": [
    "projection_1 = -np.log((image_1/(flood_1+1))+1)\n",
    "projection_2 = -np.log(image_2/(flood_2+1)+1)"
   ]
  },
  {
   "cell_type": "code",
   "execution_count": 32,
   "metadata": {},
   "outputs": [
    {
     "data": {
      "text/plain": [
       "<matplotlib.image.AxesImage at 0x7fa4e7abfed0>"
      ]
     },
     "execution_count": 32,
     "metadata": {},
     "output_type": "execute_result"
    }
   ],
   "source": [
    "# plot the two projections using imshow\n",
    "fig, ax = plt.subplots(1,2, figsize=(10,5))\n",
    "ax[0].imshow(projection_1, cmap='gray')\n",
    "ax[1].imshow(projection_2, cmap='gray')\n"
   ]
  },
  {
   "cell_type": "code",
   "execution_count": 33,
   "metadata": {},
   "outputs": [
    {
     "data": {
      "text/plain": [
       "<matplotlib.image.AxesImage at 0x7fa4e77820d0>"
      ]
     },
     "execution_count": 33,
     "metadata": {},
     "output_type": "execute_result"
    }
   ],
   "source": [
    "# Plot the floods and the images using imshow in 4 plots \n",
    "fig, ax = plt.subplots(2,2, figsize=(10,10))\n",
    "ax[0,0].imshow(flood_1, cmap='gray')\n",
    "ax[0,1].imshow(flood_2, cmap='gray')\n",
    "ax[1,0].imshow(image_1, cmap='gray')\n",
    "ax[1,1].imshow(image_2, cmap='gray')"
   ]
  },
  {
   "cell_type": "code",
   "execution_count": 46,
   "metadata": {},
   "outputs": [],
   "source": [
    "# Load the data from the scan \n",
    "real_images_1 = np.load('../5-Analysis_no_bowtie_hopefully/projections/2024-01-20_16h-42m-25s_080kVp_30mAs_0915_images_Bin2x8LowGain_1st_Layer.npy')\n",
    "real_floods_1 = np.load('../5-Analysis_no_bowtie_hopefully/projections/2024-01-20_16h-55m-58s_080kVp_30mAs_0915_images_Bin2x8LowGain_1st_Layer.npy')\n",
    "real_images_2 = np.load('../5-Analysis_no_bowtie_hopefully/projections/2024-01-20_16h-42m-25s_080kVp_30mAs_0915_images_Bin2x8LowGain_2nd_Layer.npy')\n",
    "real_floods_2 = np.load('../5-Analysis_no_bowtie_hopefully/projections/2024-01-20_16h-55m-58s_080kVp_30mAs_0915_images_Bin2x8LowGain_2nd_Layer.npy')\n"
   ]
  },
  {
   "cell_type": "code",
   "execution_count": 41,
   "metadata": {},
   "outputs": [],
   "source": [
    "plt.figure()\n",
    "plt.subplot(1,2,1)\n",
    "cont = pli.hyperslicer(real_floods, axis=0)\n",
    "plt.subplot(1,2,2)\n",
    "cc =pli.hyperslicer(real_images, axis=0,controls=cont)"
   ]
  },
  {
   "cell_type": "code",
   "execution_count": 49,
   "metadata": {},
   "outputs": [],
   "source": [
    "plt.figure()\n",
    "plt.subplot(2,1,1)\n",
    "cc = pli.hyperslicer(-np.log(real_images_1/(real_floods_1+1))[:,45:100], axis=0)\n",
    "plt.subplot(2,1,2)\n",
    "cc = pli.hyperslicer(-np.log(real_images_2/(real_floods_2+1))[:,45:100], axis=0, controls=cc)"
   ]
  },
  {
   "cell_type": "code",
   "execution_count": 53,
   "metadata": {},
   "outputs": [
    {
     "data": {
      "text/plain": [
       "[<matplotlib.lines.Line2D at 0x7fa46ad45150>]"
      ]
     },
     "execution_count": 53,
     "metadata": {},
     "output_type": "execute_result"
    }
   ],
   "source": [
    "plt.figure()\n",
    "plt.subplot(2,1,1)\n",
    "plt.plot(np.mean(-np.log(real_images_1[0]/(real_floods_1[0]+1))[45:100], axis=0))\n",
    "plt.subplot(2,1,2)\n",
    "plt.plot(np.mean(-np.log(real_images_2[0]/(real_floods_2[0]+1))[45:100], axis=0))"
   ]
  },
  {
   "cell_type": "code",
   "execution_count": 144,
   "metadata": {},
   "outputs": [
    {
     "data": {
      "text/plain": [
       "[<matplotlib.lines.Line2D at 0x7fa4609ed790>]"
      ]
     },
     "execution_count": 144,
     "metadata": {},
     "output_type": "execute_result"
    }
   ],
   "source": [
    "# plot the ratio of the two projections above \n",
    "plt.figure()\n",
    "\n",
    "mean_1 = np.mean(-np.log(real_images_1[0]/(real_floods_1[0]+1))[45:100], axis=0)\n",
    "mean_2 = np.mean(-np.log(real_images_2[0]/(real_floods_2[0]+1))[45:100], axis=0)\n",
    "\n",
    "plt.plot(mean_1/mean_2)"
   ]
  },
  {
   "cell_type": "code",
   "execution_count": 196,
   "metadata": {},
   "outputs": [
    {
     "name": "stdout",
     "output_type": "stream",
     "text": [
      "1.0015733333333332\n"
     ]
    }
   ],
   "source": [
    "offset = [0.063,0.023,2.236,-0.021]\n",
    "\n",
    "magnification = 1/((1/1.50)/(1/1.50236))\n",
    "\n",
    "print(1/magnification)"
   ]
  },
  {
   "cell_type": "code",
   "execution_count": 197,
   "metadata": {},
   "outputs": [],
   "source": [
    "from scipy.ndimage import zoom\n",
    "\n",
    "log_image_2 = -np.log(real_images_2[0]/(real_floods_2[0]+1))[45:100]\n",
    "log_image_1 = -np.log(real_images_1[0]/(real_floods_1[0]+1))[45:100]\n",
    "\n",
    "def zoom_and_crop(image, zoom_factor):\n",
    "    # Zoom the image\n",
    "    zoomed_image = zoom(image, zoom_factor)\n",
    "\n",
    "    # Calculate the cropping dimensions\n",
    "    crop_x = (zoomed_image.shape[0] - image.shape[0]) // 2\n",
    "    crop_y = (zoomed_image.shape[1] - image.shape[1]) // 2\n",
    "\n",
    "    # Crop the zoomed image to the original size\n",
    "    cropped_image = zoomed_image[crop_x:crop_x + image.shape[0], crop_y:crop_y + image.shape[1]]\n",
    "\n",
    "    return cropped_image\n",
    "\n",
    "# Use the function\n",
    "log_image_1_zoomed = zoom_and_crop(log_image_2,1/magnification)"
   ]
  },
  {
   "cell_type": "code",
   "execution_count": 198,
   "metadata": {},
   "outputs": [
    {
     "data": {
      "text/plain": [
       "[<matplotlib.lines.Line2D at 0x7fa45cd769d0>]"
      ]
     },
     "execution_count": 198,
     "metadata": {},
     "output_type": "execute_result"
    }
   ],
   "source": [
    "plt.figure()\n",
    "plt.plot(mean_1/np.mean(log_image_1_zoomed,axis=0))"
   ]
  },
  {
   "cell_type": "code",
   "execution_count": 199,
   "metadata": {},
   "outputs": [
    {
     "data": {
      "text/plain": [
       "[<matplotlib.lines.Line2D at 0x7fa45ccb35d0>]"
      ]
     },
     "execution_count": 199,
     "metadata": {},
     "output_type": "execute_result"
    }
   ],
   "source": [
    "plt.figure()\n",
    "plt.plot(np.mean(log_image_1_zoomed,axis=0))\n",
    "plt.plot(mean_1)"
   ]
  },
  {
   "cell_type": "code",
   "execution_count": null,
   "metadata": {},
   "outputs": [],
   "source": []
  }
 ],
 "metadata": {
  "kernelspec": {
   "display_name": "tigre_fastcat",
   "language": "python",
   "name": "python3"
  },
  "language_info": {
   "codemirror_mode": {
    "name": "ipython",
    "version": 3
   },
   "file_extension": ".py",
   "mimetype": "text/x-python",
   "name": "python",
   "nbconvert_exporter": "python",
   "pygments_lexer": "ipython3",
   "version": "3.11.5"
  }
 },
 "nbformat": 4,
 "nbformat_minor": 2
}
