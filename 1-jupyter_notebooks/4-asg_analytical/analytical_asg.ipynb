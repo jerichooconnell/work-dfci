{
 "cells": [
  {
   "cell_type": "code",
   "execution_count": 1,
   "id": "20040cbb",
   "metadata": {},
   "outputs": [],
   "source": [
    "%matplotlib qt"
   ]
  },
  {
   "cell_type": "markdown",
   "id": "816613eb",
   "metadata": {},
   "source": [
    "There is a 60 lines/cm, 10:1 grid on top of the carbon fibre cover plate, which is focused to 150\n",
    "cm. The grid transmission is 72% using IEC60627 and is rated to be 3.2 mm Al equivalent. In\n",
    "addition, to the lead lamella (36 microns thick each and the fibre – paper - interspace) the grid\n",
    "has two carbon fibre covers that are each 0.25 mm thick. At 60 lines/cm the lamella period is\n",
    "167 microns and so the interspace distance is (167-36) 131 microns. This yields a lamella height\n",
    "of 1.3 mm (1310 microns). The exact composition of the fibre is unknown, so assume typical\n",
    "paper properties – with a density of 0.7 g/cm3 and a composition of C6H10O5 (cellulose). The\n",
    "grid lamella runs in a single direction – parallel to the long (40 cm) dimension of the grid."
   ]
  },
  {
   "cell_type": "code",
   "execution_count": 8,
   "id": "1779bacc",
   "metadata": {},
   "outputs": [],
   "source": [
    "# Make lines with the spacing of the ASG lamella\n",
    "\n",
    "import numpy as np\n",
    "import matplotlib.pyplot as plt\n",
    "\n",
    "# Define the detector parameters\n",
    "detector_height = 300\n",
    "detector_width = 400\n",
    "\n",
    "# Define the lamella parameters\n",
    "lamella_width = detector_width\n",
    "lamella_height = 1.3\n",
    "lamella_spacing = 0.167\n",
    "lamella_thickness = 0.036\n",
    "\n",
    "number_of_lamellas = detector_height / lamella_spacing\n",
    "\n",
    "# Plot the lamella of the ASG\n",
    "plt.figure()\n",
    "plt.title('Lamella of the ASG')\n",
    "plt.xlabel('x (mm)')\n",
    "plt.ylabel('y (mm)')\n",
    "plt.xlim(0, detector_width)\n",
    "plt.ylim(0, detector_height)\n",
    "# plt.grid(True)\n",
    "\n",
    "# Plot the lamella\n",
    "for i in range(int(number_of_lamellas)):\n",
    "    plt.plot([0, lamella_width], [i*lamella_spacing, i*lamella_spacing], color='black', linewidth=lamella_thickness)\n"
   ]
  },
  {
   "cell_type": "code",
   "execution_count": null,
   "id": "776ca1ae",
   "metadata": {},
   "outputs": [],
   "source": []
  }
 ],
 "metadata": {
  "kernelspec": {
   "display_name": "Python 3 (ipykernel)",
   "language": "python",
   "name": "python3"
  },
  "language_info": {
   "codemirror_mode": {
    "name": "ipython",
    "version": 3
   },
   "file_extension": ".py",
   "mimetype": "text/x-python",
   "name": "python",
   "nbconvert_exporter": "python",
   "pygments_lexer": "ipython3",
   "version": "3.11.5"
  }
 },
 "nbformat": 4,
 "nbformat_minor": 5
}
