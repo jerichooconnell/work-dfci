{
 "cells": [
  {
   "cell_type": "code",
   "execution_count": 2,
   "metadata": {},
   "outputs": [
    {
     "name": "stdout",
     "output_type": "stream",
     "text": [
      "%pylab is deprecated, use %matplotlib inline and import the required libraries.\n",
      "Populating the interactive namespace from numpy and matplotlib\n",
      "The autoreload extension is already loaded. To reload it, use:\n",
      "  %reload_ext autoreload\n"
     ]
    }
   ],
   "source": [
    "%pylab qt\n",
    "%load_ext autoreload\n",
    "%autoreload 2\n",
    "\n",
    "# Loop through the ggems mhd files and save them to an array\n",
    "import glob\n",
    "import fastcat as fc\n",
    "import numpy as np\n",
    "import matplotlib.pyplot as plt\n",
    "import mpl_interactions as pli\n",
    "# Zoom the ggems projections"
   ]
  },
  {
   "cell_type": "markdown",
   "metadata": {},
   "source": [
    "Load the ggems files"
   ]
  },
  {
   "cell_type": "code",
   "execution_count": 131,
   "metadata": {},
   "outputs": [],
   "source": [
    "import re\n",
    "\n",
    "\n",
    "ggems_scatter_files_all = glob.glob(\n",
    "    './out_fastmc/fastmc*scatter.mhd'\n",
    ")\n",
    "ggems_primary_files_all = glob.glob(\n",
    "    './out_fastmc/fastmc_*[!scatter].mhd'\n",
    ")\n",
    "\n",
    "ggems_scatter_files = [x for x in ggems_scatter_files_all if 'flood' not in x and '0_2' not in x]\n",
    "ggems_primary_files = [x for x in ggems_primary_files_all if 'flood' not in x and '0_2' not in x]\n",
    "\n",
    "def extract_number(s):\n",
    "    return int(re.search(r'\\d+', s).group())\n",
    "\n",
    "ggems_scatter_files = sorted(ggems_scatter_files, key=extract_number)\n",
    "ggems_primary_files = sorted(ggems_primary_files, key=extract_number)\n"
   ]
  },
  {
   "cell_type": "code",
   "execution_count": null,
   "metadata": {},
   "outputs": [],
   "source": [
    "\n",
    "# ggems_scatter_files.sort()\n",
    "# ggems_primary_files.sort()\n",
    "\n",
    "# Load the pickled phantom\n",
    "pkl_file = './test/fastmc_1e10_40angles.pkl'\n",
    "phantom = np.load(pkl_file, allow_pickle=True)\n",
    "\n",
    "# I flip the phantom because fastmc has a bit of a different coordinate system\n",
    "phantom.phantom = np.flipud(phantom.phantom)\n",
    "\n",
    "# phantom.simulation_parameters['angles'] = phantom.angles\n",
    "\n",
    "# Convert the phantom angles to degrees\n",
    "phantom_angles = phantom.angles * 180 / np.pi\n",
    "\n",
    "# Get the simulation parameters\n",
    "# simulation_parameters = phantom.simulation_parameters\n",
    "detector_material = phantom.detector_material\n",
    "\n",
    "# spectrum_file = '/home/jericho/1-Workspace/opengate_ggems_comparison/water_cylinder/data/spectrum_120kVp_2mmAl.dat'\n",
    "flood_file = './out_fastmc/fastmc_00.0_flood.mhd'\n",
    "\n",
    "# mhd_file = '/home/jericho/1-Workspace/fastcat_gate/Catphan604.mhd'\n",
    "# material_file = '/home/jericho/1-Workspace/fastcat_gate/Materials.txt'\n",
    "# spectrum_file = '/home/jericho/1-Workspace/1-jupyter_notebooks/4-preliminary_fastmc_projections/spectrum_120kVp_2.75mmAl_0.89mmTi.dat'\n",
    "spectrum_file = '/home/jericho/Downloads/FastMC_Jan_05/FastMC_install/bin/data/120kV_2.5mmAl.dat'\n",
    "\n",
    "# Load the spectrum as a fastcat spectrum object\n",
    "s = fc.Spectrum()\n",
    "s.load(spectrum_file=spectrum_file)\n",
    "\n",
    "det = fc.Detector(s,'CsI-784-micrometer')\n",
    "# angles = np.deg2rad([0,144,216,288,72])\n",
    "angles = np.linspace(0, np.pi*2, 360, endpoint=False)\n",
    "\n",
    "phantom.bowtie_file = '/home/jericho/Software/Catphan604_HeadSized/full_fan_1_deg.dat'\n",
    "phantom.bowtie_interp = 'cubic'"
   ]
  },
  {
   "cell_type": "markdown",
   "metadata": {},
   "source": [
    "Fastcat simulation"
   ]
  },
  {
   "cell_type": "code",
   "execution_count": 105,
   "metadata": {},
   "outputs": [
    {
     "name": "stdout",
     "output_type": "stream",
     "text": [
      "[2024-01-30 11:06:10,010] {ggems_simulate.py:227} INFO - Initializing filter /home/jericho/Software/Catphan604_HeadSized/full_fan_1_deg.dat\n"
     ]
    },
    {
     "name": "stdout",
     "output_type": "stream",
     "text": [
      "[2024-01-30 11:06:10,249] {ggems_simulate.py:618} INFO - Running Simulations\n",
      "[2024-01-30 11:06:10,250] {ggems_simulate.py:646} INFO -     Simulating 20 keV\n",
      "[2024-01-30 11:06:21,859] {ggems_simulate.py:646} INFO -     Simulating 30 keV\n",
      "[2024-01-30 11:06:32,993] {ggems_simulate.py:646} INFO -     Simulating 40 keV\n",
      "[2024-01-30 11:06:44,317] {ggems_simulate.py:646} INFO -     Simulating 50 keV\n",
      "[2024-01-30 11:06:55,489] {ggems_simulate.py:646} INFO -     Simulating 60 keV\n",
      "[2024-01-30 11:07:06,555] {ggems_simulate.py:646} INFO -     Simulating 70 keV\n",
      "[2024-01-30 11:07:17,573] {ggems_simulate.py:646} INFO -     Simulating 80 keV\n",
      "[2024-01-30 11:07:28,907] {ggems_simulate.py:646} INFO -     Simulating 90 keV\n",
      "[2024-01-30 11:07:40,140] {ggems_simulate.py:646} INFO -     Simulating 100 keV\n",
      "[2024-01-30 11:07:51,330] {ggems_simulate.py:876} INFO - Weighting simulations\n",
      "[2024-01-30 11:07:51,332] {ggems_simulate.py:965} INFO -     No noise was added\n"
     ]
    }
   ],
   "source": [
    "# return the projections\n",
    "# phantom.phantom = np.flipud(phantom.phantom)\n",
    "phantom.return_projs(det,s,angles,mgy=0,\n",
    "                    ASG=False, scat_on=False,\n",
    "                    det_on=False,\n",
    "                    bowtie=True,\n",
    "                    return_intensity=True) # Get primary fastcat projections"
   ]
  },
  {
   "cell_type": "code",
   "execution_count": 130,
   "metadata": {},
   "outputs": [],
   "source": [
    "flood_file = './out_fastmc/fastmc_00.0_flood.mhd'\n",
    "flood_file2 = './out_fastmc/fastmc_00.0_flood_2.mhd'\n"
   ]
  },
  {
   "cell_type": "code",
   "execution_count": null,
   "metadata": {},
   "outputs": [],
   "source": [
    "\n",
    "phantom.load_ggems_files(ggems_scatter_files, ggems_primary_files, flood_file,\n",
    "                         average_scatter=True)\n",
    "phantom.correct_intensity(ml=False)"
   ]
  },
  {
   "cell_type": "code",
   "execution_count": 107,
   "metadata": {},
   "outputs": [],
   "source": [
    "# phantom.simulation_parameters['angles'] = np.linspace(0, np.pi *2, 2, endpoint=False)\n",
    "phantom.sim_angles = phantom_angles\n",
    "phantom.interpolate_ggems_scatter()\n",
    "phantom.add_poisson_noise()"
   ]
  },
  {
   "cell_type": "code",
   "execution_count": 108,
   "metadata": {},
   "outputs": [
    {
     "name": "stdout",
     "output_type": "stream",
     "text": [
      "[2024-01-30 11:08:56,352] {legend.py:1363} WARNING - No artists with labels found to put in legend.  Note that artists whose label start with an underscore are ignored when legend() is called with no argument.\n"
     ]
    },
    {
     "data": {
      "text/plain": [
       "<matplotlib.legend.Legend at 0x7ff42d0ccc50>"
      ]
     },
     "execution_count": 108,
     "metadata": {},
     "output_type": "execute_result"
    }
   ],
   "source": [
    "plt.figure()\n",
    "plt.hist(phantom.ggems_primary_projections[1].flatten(), bins=100,histtype='step')\n",
    "plt.hist(phantom.intensity[0].flatten(), bins=100,histtype='step')\n",
    "plt.legend()"
   ]
  },
  {
   "cell_type": "code",
   "execution_count": 109,
   "metadata": {},
   "outputs": [],
   "source": [
    "det = fc.Detector(s,'CsI-784-micrometer')\n",
    "det.add_focal_spot(1.0)\n",
    "\n",
    "phantom.detector_mtf_convolution(det)"
   ]
  },
  {
   "cell_type": "code",
   "execution_count": 110,
   "metadata": {},
   "outputs": [],
   "source": [
    "phantom.calc_ggems_projections(scat_on=True)\n",
    "phantom.reconstruct_ggems(algo='FDK')"
   ]
  },
  {
   "cell_type": "code",
   "execution_count": 120,
   "metadata": {},
   "outputs": [
    {
     "name": "stdout",
     "output_type": "stream",
     "text": [
      "[2024-01-30 11:16:49,201] {colorbar.py:859} DEBUG - locator: <matplotlib.ticker.AutoLocator object at 0x7ff415721850>\n"
     ]
    },
    {
     "data": {
      "text/plain": [
       "(-0.5, 511.5, 511.5, -0.5)"
      ]
     },
     "execution_count": 120,
     "metadata": {},
     "output_type": "execute_result"
    }
   ],
   "source": [
    "fig = plt.figure(figsize=(8,8),dpi=300)\n",
    "hi_res_bowtie_HU = phantom.img/np.mean(phantom.img[20:-20,200:-200, 200:-200])\n",
    "hi_res_bowtie_HU = (hi_res_bowtie_HU-1)*1000\n",
    "cont = pli.hyperslicer(hi_res_bowtie_HU, autoscale_cmap=False,cmap='bone', vmin=-400, vmax=400)#,controls=cc)\n",
    "plt.colorbar()\n",
    "plt.title('XCAT phantom [HUish]')\n",
    "plt.axis('off')"
   ]
  },
  {
   "cell_type": "code",
   "execution_count": 122,
   "metadata": {},
   "outputs": [
    {
     "name": "stdout",
     "output_type": "stream",
     "text": [
      "[2024-01-30 11:17:39,503] {animation.py:1060} INFO - Animation.save using <class 'matplotlib.animation.FFMpegWriter'>\n",
      "[2024-01-30 11:17:39,504] {animation.py:322} DEBUG - frame size in pixels is 1194 x 956\n",
      "[2024-01-30 11:17:39,504] {animation.py:338} INFO - MovieWriter._run: running command: ffmpeg -f rawvideo -vcodec rawvideo -s 1194x956 -pix_fmt rgba -framerate 12.5 -i pipe: -filter_complex 'split [a][b];[a] palettegen [p];[b][p] paletteuse' -y xcat_recon.gif\n",
      "[2024-01-30 11:17:39,506] {animation.py:366} DEBUG - MovieWriter.grab_frame: Grabbing frame.\n",
      "[2024-01-30 11:17:39,554] {animation.py:366} DEBUG - MovieWriter.grab_frame: Grabbing frame.\n",
      "[2024-01-30 11:17:39,601] {animation.py:366} DEBUG - MovieWriter.grab_frame: Grabbing frame.\n",
      "[2024-01-30 11:17:39,643] {animation.py:366} DEBUG - MovieWriter.grab_frame: Grabbing frame.\n",
      "[2024-01-30 11:17:39,683] {animation.py:366} DEBUG - MovieWriter.grab_frame: Grabbing frame.\n",
      "[2024-01-30 11:17:39,725] {animation.py:366} DEBUG - MovieWriter.grab_frame: Grabbing frame.\n",
      "[2024-01-30 11:17:39,766] {animation.py:366} DEBUG - MovieWriter.grab_frame: Grabbing frame.\n",
      "[2024-01-30 11:17:39,809] {animation.py:366} DEBUG - MovieWriter.grab_frame: Grabbing frame.\n",
      "[2024-01-30 11:17:39,851] {animation.py:366} DEBUG - MovieWriter.grab_frame: Grabbing frame.\n",
      "[2024-01-30 11:17:39,882] {animation.py:366} DEBUG - MovieWriter.grab_frame: Grabbing frame.\n",
      "[2024-01-30 11:17:39,912] {animation.py:366} DEBUG - MovieWriter.grab_frame: Grabbing frame.\n",
      "[2024-01-30 11:17:39,942] {animation.py:366} DEBUG - MovieWriter.grab_frame: Grabbing frame.\n",
      "[2024-01-30 11:17:39,972] {animation.py:366} DEBUG - MovieWriter.grab_frame: Grabbing frame.\n",
      "[2024-01-30 11:17:40,004] {animation.py:366} DEBUG - MovieWriter.grab_frame: Grabbing frame.\n",
      "[2024-01-30 11:17:40,032] {animation.py:366} DEBUG - MovieWriter.grab_frame: Grabbing frame.\n",
      "[2024-01-30 11:17:40,062] {animation.py:366} DEBUG - MovieWriter.grab_frame: Grabbing frame.\n",
      "[2024-01-30 11:17:40,092] {animation.py:366} DEBUG - MovieWriter.grab_frame: Grabbing frame.\n",
      "[2024-01-30 11:17:40,122] {animation.py:366} DEBUG - MovieWriter.grab_frame: Grabbing frame.\n",
      "[2024-01-30 11:17:40,151] {animation.py:366} DEBUG - MovieWriter.grab_frame: Grabbing frame.\n",
      "[2024-01-30 11:17:40,180] {animation.py:366} DEBUG - MovieWriter.grab_frame: Grabbing frame.\n",
      "[2024-01-30 11:17:40,210] {animation.py:366} DEBUG - MovieWriter.grab_frame: Grabbing frame.\n",
      "[2024-01-30 11:17:40,240] {animation.py:366} DEBUG - MovieWriter.grab_frame: Grabbing frame.\n",
      "[2024-01-30 11:17:40,270] {animation.py:366} DEBUG - MovieWriter.grab_frame: Grabbing frame.\n",
      "[2024-01-30 11:17:40,299] {animation.py:366} DEBUG - MovieWriter.grab_frame: Grabbing frame.\n",
      "[2024-01-30 11:17:40,329] {animation.py:366} DEBUG - MovieWriter.grab_frame: Grabbing frame.\n",
      "[2024-01-30 11:17:40,359] {animation.py:366} DEBUG - MovieWriter.grab_frame: Grabbing frame.\n",
      "[2024-01-30 11:17:40,389] {animation.py:366} DEBUG - MovieWriter.grab_frame: Grabbing frame.\n",
      "[2024-01-30 11:17:40,418] {animation.py:366} DEBUG - MovieWriter.grab_frame: Grabbing frame.\n",
      "[2024-01-30 11:17:40,449] {animation.py:366} DEBUG - MovieWriter.grab_frame: Grabbing frame.\n",
      "[2024-01-30 11:17:40,480] {animation.py:366} DEBUG - MovieWriter.grab_frame: Grabbing frame.\n",
      "[2024-01-30 11:17:40,512] {animation.py:366} DEBUG - MovieWriter.grab_frame: Grabbing frame.\n",
      "[2024-01-30 11:17:40,541] {animation.py:366} DEBUG - MovieWriter.grab_frame: Grabbing frame.\n",
      "[2024-01-30 11:17:40,570] {animation.py:366} DEBUG - MovieWriter.grab_frame: Grabbing frame.\n",
      "[2024-01-30 11:17:40,599] {animation.py:366} DEBUG - MovieWriter.grab_frame: Grabbing frame.\n",
      "[2024-01-30 11:17:40,629] {animation.py:366} DEBUG - MovieWriter.grab_frame: Grabbing frame.\n",
      "[2024-01-30 11:17:40,659] {animation.py:366} DEBUG - MovieWriter.grab_frame: Grabbing frame.\n",
      "[2024-01-30 11:17:40,689] {animation.py:366} DEBUG - MovieWriter.grab_frame: Grabbing frame.\n",
      "[2024-01-30 11:17:40,720] {animation.py:366} DEBUG - MovieWriter.grab_frame: Grabbing frame.\n",
      "[2024-01-30 11:17:40,750] {animation.py:366} DEBUG - MovieWriter.grab_frame: Grabbing frame.\n",
      "[2024-01-30 11:17:40,780] {animation.py:366} DEBUG - MovieWriter.grab_frame: Grabbing frame.\n",
      "[2024-01-30 11:17:40,809] {animation.py:366} DEBUG - MovieWriter.grab_frame: Grabbing frame.\n",
      "[2024-01-30 11:17:40,839] {animation.py:366} DEBUG - MovieWriter.grab_frame: Grabbing frame.\n",
      "[2024-01-30 11:17:40,868] {animation.py:366} DEBUG - MovieWriter.grab_frame: Grabbing frame.\n",
      "[2024-01-30 11:17:40,900] {animation.py:366} DEBUG - MovieWriter.grab_frame: Grabbing frame.\n",
      "[2024-01-30 11:17:40,929] {animation.py:366} DEBUG - MovieWriter.grab_frame: Grabbing frame.\n",
      "[2024-01-30 11:17:40,959] {animation.py:366} DEBUG - MovieWriter.grab_frame: Grabbing frame.\n",
      "[2024-01-30 11:17:40,988] {animation.py:366} DEBUG - MovieWriter.grab_frame: Grabbing frame.\n",
      "[2024-01-30 11:17:41,017] {animation.py:366} DEBUG - MovieWriter.grab_frame: Grabbing frame.\n",
      "[2024-01-30 11:17:41,047] {animation.py:366} DEBUG - MovieWriter.grab_frame: Grabbing frame.\n",
      "[2024-01-30 11:17:41,078] {animation.py:366} DEBUG - MovieWriter.grab_frame: Grabbing frame.\n",
      "[2024-01-30 11:17:41,107] {animation.py:366} DEBUG - MovieWriter.grab_frame: Grabbing frame.\n",
      "[2024-01-30 11:17:41,138] {animation.py:366} DEBUG - MovieWriter.grab_frame: Grabbing frame.\n",
      "[2024-01-30 11:17:41,167] {animation.py:366} DEBUG - MovieWriter.grab_frame: Grabbing frame.\n",
      "[2024-01-30 11:17:41,198] {animation.py:366} DEBUG - MovieWriter.grab_frame: Grabbing frame.\n",
      "[2024-01-30 11:17:41,229] {animation.py:366} DEBUG - MovieWriter.grab_frame: Grabbing frame.\n",
      "[2024-01-30 11:17:41,259] {animation.py:366} DEBUG - MovieWriter.grab_frame: Grabbing frame.\n",
      "[2024-01-30 11:17:41,288] {animation.py:366} DEBUG - MovieWriter.grab_frame: Grabbing frame.\n",
      "[2024-01-30 11:17:41,320] {animation.py:366} DEBUG - MovieWriter.grab_frame: Grabbing frame.\n",
      "[2024-01-30 11:17:41,349] {animation.py:366} DEBUG - MovieWriter.grab_frame: Grabbing frame.\n",
      "[2024-01-30 11:17:41,379] {animation.py:366} DEBUG - MovieWriter.grab_frame: Grabbing frame.\n",
      "[2024-01-30 11:17:41,412] {animation.py:366} DEBUG - MovieWriter.grab_frame: Grabbing frame.\n",
      "[2024-01-30 11:17:41,448] {animation.py:366} DEBUG - MovieWriter.grab_frame: Grabbing frame.\n",
      "[2024-01-30 11:17:41,479] {animation.py:366} DEBUG - MovieWriter.grab_frame: Grabbing frame.\n",
      "[2024-01-30 11:17:41,514] {animation.py:366} DEBUG - MovieWriter.grab_frame: Grabbing frame.\n",
      "[2024-01-30 11:17:41,545] {animation.py:366} DEBUG - MovieWriter.grab_frame: Grabbing frame.\n",
      "[2024-01-30 11:17:41,575] {animation.py:366} DEBUG - MovieWriter.grab_frame: Grabbing frame.\n",
      "[2024-01-30 11:17:41,605] {animation.py:366} DEBUG - MovieWriter.grab_frame: Grabbing frame.\n",
      "[2024-01-30 11:17:41,637] {animation.py:366} DEBUG - MovieWriter.grab_frame: Grabbing frame.\n",
      "[2024-01-30 11:17:41,668] {animation.py:366} DEBUG - MovieWriter.grab_frame: Grabbing frame.\n",
      "[2024-01-30 11:17:41,699] {animation.py:366} DEBUG - MovieWriter.grab_frame: Grabbing frame.\n",
      "[2024-01-30 11:17:41,731] {animation.py:366} DEBUG - MovieWriter.grab_frame: Grabbing frame.\n",
      "[2024-01-30 11:17:41,762] {animation.py:366} DEBUG - MovieWriter.grab_frame: Grabbing frame.\n",
      "[2024-01-30 11:17:41,792] {animation.py:366} DEBUG - MovieWriter.grab_frame: Grabbing frame.\n",
      "[2024-01-30 11:17:41,822] {animation.py:366} DEBUG - MovieWriter.grab_frame: Grabbing frame.\n",
      "[2024-01-30 11:17:41,854] {animation.py:366} DEBUG - MovieWriter.grab_frame: Grabbing frame.\n",
      "[2024-01-30 11:17:41,884] {animation.py:366} DEBUG - MovieWriter.grab_frame: Grabbing frame.\n",
      "[2024-01-30 11:17:41,916] {animation.py:366} DEBUG - MovieWriter.grab_frame: Grabbing frame.\n",
      "[2024-01-30 11:17:41,948] {animation.py:366} DEBUG - MovieWriter.grab_frame: Grabbing frame.\n",
      "[2024-01-30 11:17:41,977] {animation.py:366} DEBUG - MovieWriter.grab_frame: Grabbing frame.\n",
      "[2024-01-30 11:17:42,006] {animation.py:366} DEBUG - MovieWriter.grab_frame: Grabbing frame.\n",
      "[2024-01-30 11:17:42,035] {animation.py:366} DEBUG - MovieWriter.grab_frame: Grabbing frame.\n",
      "[2024-01-30 11:17:42,066] {animation.py:366} DEBUG - MovieWriter.grab_frame: Grabbing frame.\n",
      "[2024-01-30 11:17:42,096] {animation.py:366} DEBUG - MovieWriter.grab_frame: Grabbing frame.\n",
      "[2024-01-30 11:17:42,126] {animation.py:366} DEBUG - MovieWriter.grab_frame: Grabbing frame.\n",
      "[2024-01-30 11:17:42,155] {animation.py:366} DEBUG - MovieWriter.grab_frame: Grabbing frame.\n",
      "[2024-01-30 11:17:43,770] {animation.py:356} DEBUG - MovieWriter stderr:\n",
      "ffmpeg version 4.2.2 Copyright (c) 2000-2019 the FFmpeg developers\n",
      "  built with gcc 7.3.0 (crosstool-NG 1.23.0.449-a04d0)\n",
      "  configuration: --prefix=/tmp/build/80754af9/ffmpeg_1587154242452/_h_env_placehold_placehold_placehold_placehold_placehold_placehold_placehold_placehold_placehold_placehold_placehold_placehold_placehold_placehold_placehold_placehold_placehold_placehold_placehold_placehold_placeho --cc=/tmp/build/80754af9/ffmpeg_1587154242452/_build_env/bin/x86_64-conda_cos6-linux-gnu-cc --disable-doc --enable-avresample --enable-gmp --enable-hardcoded-tables --enable-libfreetype --enable-libvpx --enable-pthreads --enable-libopus --enable-postproc --enable-pic --enable-pthreads --enable-shared --enable-static --enable-version3 --enable-zlib --enable-libmp3lame --disable-nonfree --enable-gpl --enable-gnutls --disable-openssl --enable-libopenh264 --enable-libx264\n",
      "  libavutil      56. 31.100 / 56. 31.100\n",
      "  libavcodec     58. 54.100 / 58. 54.100\n",
      "  libavformat    58. 29.100 / 58. 29.100\n",
      "  libavdevice    58.  8.100 / 58.  8.100\n",
      "  libavfilter     7. 57.100 /  7. 57.100\n",
      "  libavresample   4.  0.  0 /  4.  0.  0\n",
      "  libswscale      5.  5.100 /  5.  5.100\n",
      "  libswresample   3.  5.100 /  3.  5.100\n",
      "  libpostproc    55.  5.100 / 55.  5.100\n",
      "Input #0, rawvideo, from 'pipe:':\n",
      "  Duration: N/A, start: 0.000000, bitrate: 456585 kb/s\n",
      "    Stream #0:0: Video: rawvideo (RGBA / 0x41424752), rgba, 1194x956, 456585 kb/s, 12.50 tbr, 12.50 tbn, 12.50 tbc\n",
      "Stream mapping:\n",
      "  Stream #0:0 (rawvideo) -> split\n",
      "  paletteuse -> Stream #0:0 (gif)\n",
      "Output #0, gif, to 'xcat_recon.gif':\n",
      "  Metadata:\n",
      "    encoder         : Lavf58.29.100\n",
      "    Stream #0:0: Video: gif, pal8, 1194x956, q=2-31, 200 kb/s, 12.50 fps, 100 tbn, 12.50 tbc\n",
      "    Metadata:\n",
      "      encoder         : Lavc58.54.100 gif\n",
      "frame=    0 fps=0.0 q=0.0 size=       0kB time=00:00:00.00 bitrate=N/A speed=   0x    \n",
      "frame=    0 fps=0.0 q=0.0 size=       0kB time=00:00:00.00 bitrate=N/A speed=   0x    \n",
      "frame=    0 fps=0.0 q=0.0 size=       0kB time=00:00:00.00 bitrate=N/A speed=   0x    \n",
      "frame=    0 fps=0.0 q=0.0 size=       0kB time=00:00:00.00 bitrate=N/A speed=   0x    \n",
      "frame=    0 fps=0.0 q=0.0 size=       0kB time=00:00:00.00 bitrate=N/A speed=   0x    \n",
      "[Parsed_palettegen_1 @ 0x55b45862abc0] 255(+1) colors generated out of 876 colors; ratio=0.291096\n",
      "[Parsed_palettegen_1 @ 0x55b45862abc0] Dupped color: FFDFEAEA\n",
      "frame=   26 fps=8.5 q=-0.0 size=    1536kB time=00:00:02.01 bitrate=6260.2kbits/s speed=0.653x    \n",
      "frame=   53 fps= 15 q=-0.0 size=    4096kB time=00:00:04.17 bitrate=8046.6kbits/s speed=1.16x    \n",
      "frame=   80 fps= 20 q=-0.0 size=    6656kB time=00:00:06.33 bitrate=8613.9kbits/s speed=1.55x    \n",
      "frame=   85 fps= 20 q=-0.0 Lsize=    6905kB time=00:00:06.73 bitrate=8404.7kbits/s speed=1.61x    \n",
      "video:6905kB audio:0kB subtitle:0kB other streams:0kB global headers:0kB muxing overhead: 0.000283%\n",
      "\n"
     ]
    }
   ],
   "source": [
    "anim = cont.save_animation(\"xcat_recon.gif\", fig, \"axis0\", interval=80)"
   ]
  },
  {
   "cell_type": "code",
   "execution_count": 115,
   "metadata": {},
   "outputs": [],
   "source": [
    "phantom.save_pickle('first_layer_360.pkl')"
   ]
  },
  {
   "cell_type": "markdown",
   "metadata": {},
   "source": [
    "## Now the second layer"
   ]
  },
  {
   "cell_type": "code",
   "execution_count": 125,
   "metadata": {},
   "outputs": [],
   "source": [
    "spectrum_file = '/home/jericho/Downloads/FastMC_Jan_05/FastMC_install/bin/data/120kV_2.5mmAl.dat'\n",
    "s.load(spectrum_file=spectrum_file)\n",
    "s.attenuate(0.08,fc.spectrum.get_mu('CsI'))\n",
    "s.attenuate(0.1,fc.spectrum.get_mu('14'))"
   ]
  },
  {
   "cell_type": "code",
   "execution_count": 126,
   "metadata": {},
   "outputs": [
    {
     "data": {
      "text/plain": [
       "[<matplotlib.lines.Line2D at 0x7ff41532fe90>]"
      ]
     },
     "execution_count": 126,
     "metadata": {},
     "output_type": "execute_result"
    }
   ],
   "source": [
    "plt.figure()\n",
    "plt.plot(s.x, s.y)"
   ]
  },
  {
   "cell_type": "code",
   "execution_count": 132,
   "metadata": {},
   "outputs": [],
   "source": [
    "ggems_scatter_files2 = [x for x in ggems_scatter_files_all if 'flood' not in x and '0_2' in x]\n",
    "ggems_primary_files2 = [x for x in ggems_primary_files_all if 'flood' not in x and '0_2' in x]\n",
    "\n",
    "ggems_scatter_files2.sort()\n",
    "ggems_primary_files2.sort()"
   ]
  },
  {
   "cell_type": "code",
   "execution_count": 128,
   "metadata": {},
   "outputs": [],
   "source": [
    "phantom2 = np.load(pkl_file, allow_pickle=True)\n",
    "phantom2.DSD = 1515\n",
    "\n",
    "# I flip the phantom because fastmc has a bit of a different coordinate system\n",
    "phantom2.phantom = np.flipud(phantom2.phantom)\n",
    "\n",
    "# phantom2.simulation_parameters['angles'] = phantom2.angles\n",
    "\n",
    "# Convert the phantom angles to degrees\n",
    "phantom_angles = phantom2.angles * 180 / np.pi\n",
    "\n",
    "angles = np.linspace(0, np.pi *2, 360, endpoint=False)\n",
    "\n",
    "phantom2.bowtie_file = '/home/jericho/Software/Catphan604_HeadSized/full_fan_1_deg.dat'\n",
    "phantom2.bowtie_interp = 'cubic'"
   ]
  },
  {
   "cell_type": "code",
   "execution_count": 129,
   "metadata": {},
   "outputs": [
    {
     "name": "stdout",
     "output_type": "stream",
     "text": [
      "[2024-01-30 11:25:14,859] {ggems_simulate.py:227} INFO - Initializing filter /home/jericho/Software/Catphan604_HeadSized/full_fan_1_deg.dat\n"
     ]
    },
    {
     "name": "stdout",
     "output_type": "stream",
     "text": [
      "[2024-01-30 11:25:15,104] {ggems_simulate.py:618} INFO - Running Simulations\n",
      "[2024-01-30 11:25:15,105] {ggems_simulate.py:621} INFO -     1.0 mm focal spot added\n",
      "[2024-01-30 11:25:15,105] {ggems_simulate.py:646} INFO -     Simulating 20 keV\n",
      "[2024-01-30 11:25:27,212] {ggems_simulate.py:646} INFO -     Simulating 30 keV\n",
      "[2024-01-30 11:25:39,064] {ggems_simulate.py:646} INFO -     Simulating 40 keV\n",
      "[2024-01-30 11:25:50,742] {ggems_simulate.py:646} INFO -     Simulating 50 keV\n",
      "[2024-01-30 11:26:02,270] {ggems_simulate.py:646} INFO -     Simulating 60 keV\n",
      "[2024-01-30 11:26:16,524] {ggems_simulate.py:646} INFO -     Simulating 70 keV\n",
      "[2024-01-30 11:26:28,115] {ggems_simulate.py:646} INFO -     Simulating 80 keV\n",
      "[2024-01-30 11:26:39,652] {ggems_simulate.py:646} INFO -     Simulating 90 keV\n",
      "[2024-01-30 11:26:51,102] {ggems_simulate.py:646} INFO -     Simulating 100 keV\n",
      "[2024-01-30 11:27:02,732] {ggems_simulate.py:876} INFO - Weighting simulations\n",
      "[2024-01-30 11:27:02,734] {ggems_simulate.py:965} INFO -     No noise was added\n"
     ]
    }
   ],
   "source": [
    "# return the projections\n",
    "# phantom.phantom = np.flipud(phantom.phantom)\n",
    "phantom2.return_projs(det,s,angles,mgy=0,\n",
    "                    ASG=False, scat_on=False,\n",
    "                    det_on=False,\n",
    "                    bowtie=True,\n",
    "                    return_intensity=True)# Get primary fastcat projections"
   ]
  },
  {
   "cell_type": "code",
   "execution_count": 133,
   "metadata": {},
   "outputs": [],
   "source": [
    "phantom2.load_ggems_files(ggems_scatter_files2, ggems_primary_files2, flood_file2,\n",
    "                         average_scatter=True)\n",
    "phantom2.correct_intensity(ml=False)"
   ]
  },
  {
   "cell_type": "code",
   "execution_count": 135,
   "metadata": {},
   "outputs": [],
   "source": [
    "phantom2.sim_angles = phantom_angles\n",
    "phantom2.interpolate_ggems_scatter()\n",
    "phantom2.add_poisson_noise()"
   ]
  },
  {
   "cell_type": "code",
   "execution_count": 137,
   "metadata": {},
   "outputs": [],
   "source": [
    "det = fc.Detector(s,'CsI-784-micrometer')\n",
    "det.add_focal_spot(1.0)\n",
    "\n",
    "phantom2.detector_mtf_convolution(det)"
   ]
  },
  {
   "cell_type": "code",
   "execution_count": 138,
   "metadata": {},
   "outputs": [],
   "source": [
    "phantom2.calc_ggems_projections(scat_on=True)\n",
    "phantom2.reconstruct_ggems(algo='FDK')"
   ]
  },
  {
   "cell_type": "code",
   "execution_count": 96,
   "metadata": {},
   "outputs": [
    {
     "name": "stdout",
     "output_type": "stream",
     "text": [
      "[2024-01-26 11:46:36,350] {colorbar.py:859} DEBUG - locator: <matplotlib.ticker.AutoLocator object at 0x7f25f256e1d0>\n"
     ]
    },
    {
     "data": {
      "text/plain": [
       "(-0.5, 525.5, 525.5, -0.5)"
      ]
     },
     "execution_count": 96,
     "metadata": {},
     "output_type": "execute_result"
    }
   ],
   "source": [
    "fig = plt.figure(figsize=(10,5))\n",
    "hi_res_bowtie_HU = phantom2.img/np.mean(phantom2.img[20:-20,200:-200, 200:-200])\n",
    "hi_res_bowtie_HU = (hi_res_bowtie_HU-1)*1000\n",
    "cont = pli.hyperslicer(hi_res_bowtie_HU, autoscale_cmap=False,cmap='bone', vmin=-400, vmax=400)\n",
    "plt.colorbar()\n",
    "plt.title('High res bowtie [HU]')\n",
    "plt.axis('off')"
   ]
  },
  {
   "cell_type": "code",
   "execution_count": 139,
   "metadata": {},
   "outputs": [
    {
     "name": "stdout",
     "output_type": "stream",
     "text": [
      "[2024-01-30 11:31:50,666] {colorbar.py:859} DEBUG - locator: <matplotlib.ticker.AutoLocator object at 0x7ff415392f90>\n"
     ]
    },
    {
     "data": {
      "text/plain": [
       "(-0.5, 511.5, 511.5, -0.5)"
      ]
     },
     "execution_count": 139,
     "metadata": {},
     "output_type": "execute_result"
    }
   ],
   "source": [
    "fig = plt.figure(figsize=(10,5))\n",
    "plt.subplot(132)\n",
    "\n",
    "hi_res_bowtie_HU = phantom2.img/np.mean(phantom.img[20:-20,200:-200, 200:-200])\n",
    "hi_res_bowtie_HU = (hi_res_bowtie_HU-1)*1000\n",
    "cont = pli.hyperslicer(hi_res_bowtie_HU, autoscale_cmap=False,cmap='bone', vmin=-400, vmax=400,play_buttons=True)#,controls=cc)\n",
    "# plt.colorbar()\n",
    "plt.title('Second Layer')\n",
    "plt.axis('off')\n",
    "plt.subplot(131)\n",
    "first_layer_HU = phantom.img/np.mean(phantom.img[20:-20,200:-200, 200:-200])\n",
    "first_layer_HU = (first_layer_HU-1)*1000\n",
    "cc = pli.hyperslicer(first_layer_HU, autoscale_cmap=False,cmap='bone', vmin=-400, vmax=400,controls=cont)\n",
    "# plt.colorbar()\n",
    "plt.title('First Layer')\n",
    "plt.axis('off')\n",
    "plt.subplot(133)\n",
    "# Plot the difference\n",
    "diff = hi_res_bowtie_HU - first_layer_HU\n",
    "cc = pli.hyperslicer(diff, autoscale_cmap=False,cmap='bwr', vmin=-400, vmax=400,controls=cont)\n",
    "plt.colorbar()\n",
    "plt.title('Difference')\n",
    "plt.tight_layout()\n",
    "plt.axis('off')\n"
   ]
  },
  {
   "cell_type": "code",
   "execution_count": 140,
   "metadata": {},
   "outputs": [
    {
     "name": "stdout",
     "output_type": "stream",
     "text": [
      "[2024-01-30 11:40:50,622] {animation.py:1060} INFO - Animation.save using <class 'matplotlib.animation.FFMpegWriter'>\n",
      "[2024-01-30 11:40:50,623] {animation.py:318} INFO - figure size in inches has been adjusted from 13.73 x 5.09 to 13.72 x 5.08\n",
      "[2024-01-30 11:40:50,624] {animation.py:322} DEBUG - frame size in pixels is 1372 x 508\n",
      "[2024-01-30 11:40:50,624] {animation.py:338} INFO - MovieWriter._run: running command: ffmpeg -f rawvideo -vcodec rawvideo -s 1372x508 -pix_fmt rgba -framerate 12.5 -i pipe: -filter_complex 'split [a][b];[a] palettegen [p];[b][p] paletteuse' -y xcat_recons_2_layer.gif\n",
      "[2024-01-30 11:40:50,627] {animation.py:366} DEBUG - MovieWriter.grab_frame: Grabbing frame.\n",
      "[2024-01-30 11:40:50,717] {animation.py:366} DEBUG - MovieWriter.grab_frame: Grabbing frame.\n",
      "[2024-01-30 11:40:50,803] {animation.py:366} DEBUG - MovieWriter.grab_frame: Grabbing frame.\n",
      "[2024-01-30 11:40:50,891] {animation.py:366} DEBUG - MovieWriter.grab_frame: Grabbing frame.\n",
      "[2024-01-30 11:40:50,977] {animation.py:366} DEBUG - MovieWriter.grab_frame: Grabbing frame.\n",
      "[2024-01-30 11:40:51,065] {animation.py:366} DEBUG - MovieWriter.grab_frame: Grabbing frame.\n",
      "[2024-01-30 11:40:51,152] {animation.py:366} DEBUG - MovieWriter.grab_frame: Grabbing frame.\n",
      "[2024-01-30 11:40:51,231] {animation.py:366} DEBUG - MovieWriter.grab_frame: Grabbing frame.\n",
      "[2024-01-30 11:40:51,291] {animation.py:366} DEBUG - MovieWriter.grab_frame: Grabbing frame.\n",
      "[2024-01-30 11:40:51,352] {animation.py:366} DEBUG - MovieWriter.grab_frame: Grabbing frame.\n",
      "[2024-01-30 11:40:51,413] {animation.py:366} DEBUG - MovieWriter.grab_frame: Grabbing frame.\n",
      "[2024-01-30 11:40:51,474] {animation.py:366} DEBUG - MovieWriter.grab_frame: Grabbing frame.\n",
      "[2024-01-30 11:40:51,534] {animation.py:366} DEBUG - MovieWriter.grab_frame: Grabbing frame.\n",
      "[2024-01-30 11:40:51,599] {animation.py:366} DEBUG - MovieWriter.grab_frame: Grabbing frame.\n",
      "[2024-01-30 11:40:51,661] {animation.py:366} DEBUG - MovieWriter.grab_frame: Grabbing frame.\n",
      "[2024-01-30 11:40:51,723] {animation.py:366} DEBUG - MovieWriter.grab_frame: Grabbing frame.\n",
      "[2024-01-30 11:40:51,784] {animation.py:366} DEBUG - MovieWriter.grab_frame: Grabbing frame.\n",
      "[2024-01-30 11:40:51,847] {animation.py:366} DEBUG - MovieWriter.grab_frame: Grabbing frame.\n",
      "[2024-01-30 11:40:51,906] {animation.py:366} DEBUG - MovieWriter.grab_frame: Grabbing frame.\n",
      "[2024-01-30 11:40:51,970] {animation.py:366} DEBUG - MovieWriter.grab_frame: Grabbing frame.\n",
      "[2024-01-30 11:40:52,032] {animation.py:366} DEBUG - MovieWriter.grab_frame: Grabbing frame.\n",
      "[2024-01-30 11:40:52,092] {animation.py:366} DEBUG - MovieWriter.grab_frame: Grabbing frame.\n",
      "[2024-01-30 11:40:52,155] {animation.py:366} DEBUG - MovieWriter.grab_frame: Grabbing frame.\n",
      "[2024-01-30 11:40:52,215] {animation.py:366} DEBUG - MovieWriter.grab_frame: Grabbing frame.\n",
      "[2024-01-30 11:40:52,276] {animation.py:366} DEBUG - MovieWriter.grab_frame: Grabbing frame.\n",
      "[2024-01-30 11:40:52,336] {animation.py:366} DEBUG - MovieWriter.grab_frame: Grabbing frame.\n",
      "[2024-01-30 11:40:52,396] {animation.py:366} DEBUG - MovieWriter.grab_frame: Grabbing frame.\n",
      "[2024-01-30 11:40:52,457] {animation.py:366} DEBUG - MovieWriter.grab_frame: Grabbing frame.\n",
      "[2024-01-30 11:40:52,516] {animation.py:366} DEBUG - MovieWriter.grab_frame: Grabbing frame.\n",
      "[2024-01-30 11:40:52,575] {animation.py:366} DEBUG - MovieWriter.grab_frame: Grabbing frame.\n",
      "[2024-01-30 11:40:52,636] {animation.py:366} DEBUG - MovieWriter.grab_frame: Grabbing frame.\n",
      "[2024-01-30 11:40:52,697] {animation.py:366} DEBUG - MovieWriter.grab_frame: Grabbing frame.\n",
      "[2024-01-30 11:40:52,756] {animation.py:366} DEBUG - MovieWriter.grab_frame: Grabbing frame.\n",
      "[2024-01-30 11:40:52,817] {animation.py:366} DEBUG - MovieWriter.grab_frame: Grabbing frame.\n",
      "[2024-01-30 11:40:52,876] {animation.py:366} DEBUG - MovieWriter.grab_frame: Grabbing frame.\n",
      "[2024-01-30 11:40:52,937] {animation.py:366} DEBUG - MovieWriter.grab_frame: Grabbing frame.\n",
      "[2024-01-30 11:40:52,999] {animation.py:366} DEBUG - MovieWriter.grab_frame: Grabbing frame.\n",
      "[2024-01-30 11:40:53,061] {animation.py:366} DEBUG - MovieWriter.grab_frame: Grabbing frame.\n",
      "[2024-01-30 11:40:53,122] {animation.py:366} DEBUG - MovieWriter.grab_frame: Grabbing frame.\n",
      "[2024-01-30 11:40:53,188] {animation.py:366} DEBUG - MovieWriter.grab_frame: Grabbing frame.\n",
      "[2024-01-30 11:40:53,252] {animation.py:366} DEBUG - MovieWriter.grab_frame: Grabbing frame.\n",
      "[2024-01-30 11:40:53,318] {animation.py:366} DEBUG - MovieWriter.grab_frame: Grabbing frame.\n",
      "[2024-01-30 11:40:53,382] {animation.py:366} DEBUG - MovieWriter.grab_frame: Grabbing frame.\n",
      "[2024-01-30 11:40:53,445] {animation.py:366} DEBUG - MovieWriter.grab_frame: Grabbing frame.\n",
      "[2024-01-30 11:40:53,506] {animation.py:366} DEBUG - MovieWriter.grab_frame: Grabbing frame.\n",
      "[2024-01-30 11:40:53,568] {animation.py:366} DEBUG - MovieWriter.grab_frame: Grabbing frame.\n",
      "[2024-01-30 11:40:53,647] {animation.py:366} DEBUG - MovieWriter.grab_frame: Grabbing frame.\n",
      "[2024-01-30 11:40:53,711] {animation.py:366} DEBUG - MovieWriter.grab_frame: Grabbing frame.\n",
      "[2024-01-30 11:40:53,775] {animation.py:366} DEBUG - MovieWriter.grab_frame: Grabbing frame.\n",
      "[2024-01-30 11:40:53,837] {animation.py:366} DEBUG - MovieWriter.grab_frame: Grabbing frame.\n",
      "[2024-01-30 11:40:53,899] {animation.py:366} DEBUG - MovieWriter.grab_frame: Grabbing frame.\n",
      "[2024-01-30 11:40:53,964] {animation.py:366} DEBUG - MovieWriter.grab_frame: Grabbing frame.\n",
      "[2024-01-30 11:40:54,025] {animation.py:366} DEBUG - MovieWriter.grab_frame: Grabbing frame.\n",
      "[2024-01-30 11:40:54,087] {animation.py:366} DEBUG - MovieWriter.grab_frame: Grabbing frame.\n",
      "[2024-01-30 11:40:54,150] {animation.py:366} DEBUG - MovieWriter.grab_frame: Grabbing frame.\n",
      "[2024-01-30 11:40:54,214] {animation.py:366} DEBUG - MovieWriter.grab_frame: Grabbing frame.\n",
      "[2024-01-30 11:40:54,276] {animation.py:366} DEBUG - MovieWriter.grab_frame: Grabbing frame.\n",
      "[2024-01-30 11:40:54,336] {animation.py:366} DEBUG - MovieWriter.grab_frame: Grabbing frame.\n",
      "[2024-01-30 11:40:54,395] {animation.py:366} DEBUG - MovieWriter.grab_frame: Grabbing frame.\n",
      "[2024-01-30 11:40:54,455] {animation.py:366} DEBUG - MovieWriter.grab_frame: Grabbing frame.\n",
      "[2024-01-30 11:40:54,515] {animation.py:366} DEBUG - MovieWriter.grab_frame: Grabbing frame.\n",
      "[2024-01-30 11:40:54,575] {animation.py:366} DEBUG - MovieWriter.grab_frame: Grabbing frame.\n",
      "[2024-01-30 11:40:54,634] {animation.py:366} DEBUG - MovieWriter.grab_frame: Grabbing frame.\n",
      "[2024-01-30 11:40:54,694] {animation.py:366} DEBUG - MovieWriter.grab_frame: Grabbing frame.\n",
      "[2024-01-30 11:40:54,754] {animation.py:366} DEBUG - MovieWriter.grab_frame: Grabbing frame.\n",
      "[2024-01-30 11:40:54,817] {animation.py:366} DEBUG - MovieWriter.grab_frame: Grabbing frame.\n",
      "[2024-01-30 11:40:54,877] {animation.py:366} DEBUG - MovieWriter.grab_frame: Grabbing frame.\n",
      "[2024-01-30 11:40:54,937] {animation.py:366} DEBUG - MovieWriter.grab_frame: Grabbing frame.\n",
      "[2024-01-30 11:40:54,997] {animation.py:366} DEBUG - MovieWriter.grab_frame: Grabbing frame.\n",
      "[2024-01-30 11:40:55,058] {animation.py:366} DEBUG - MovieWriter.grab_frame: Grabbing frame.\n",
      "[2024-01-30 11:40:55,119] {animation.py:366} DEBUG - MovieWriter.grab_frame: Grabbing frame.\n",
      "[2024-01-30 11:40:55,180] {animation.py:366} DEBUG - MovieWriter.grab_frame: Grabbing frame.\n",
      "[2024-01-30 11:40:55,238] {animation.py:366} DEBUG - MovieWriter.grab_frame: Grabbing frame.\n",
      "[2024-01-30 11:40:55,298] {animation.py:366} DEBUG - MovieWriter.grab_frame: Grabbing frame.\n",
      "[2024-01-30 11:40:55,357] {animation.py:366} DEBUG - MovieWriter.grab_frame: Grabbing frame.\n",
      "[2024-01-30 11:40:55,419] {animation.py:366} DEBUG - MovieWriter.grab_frame: Grabbing frame.\n",
      "[2024-01-30 11:40:55,481] {animation.py:366} DEBUG - MovieWriter.grab_frame: Grabbing frame.\n",
      "[2024-01-30 11:40:55,544] {animation.py:366} DEBUG - MovieWriter.grab_frame: Grabbing frame.\n",
      "[2024-01-30 11:40:55,608] {animation.py:366} DEBUG - MovieWriter.grab_frame: Grabbing frame.\n",
      "[2024-01-30 11:40:55,668] {animation.py:366} DEBUG - MovieWriter.grab_frame: Grabbing frame.\n",
      "[2024-01-30 11:40:55,727] {animation.py:366} DEBUG - MovieWriter.grab_frame: Grabbing frame.\n",
      "[2024-01-30 11:40:55,790] {animation.py:366} DEBUG - MovieWriter.grab_frame: Grabbing frame.\n",
      "[2024-01-30 11:40:55,848] {animation.py:366} DEBUG - MovieWriter.grab_frame: Grabbing frame.\n",
      "[2024-01-30 11:40:55,910] {animation.py:366} DEBUG - MovieWriter.grab_frame: Grabbing frame.\n",
      "[2024-01-30 11:40:55,971] {animation.py:366} DEBUG - MovieWriter.grab_frame: Grabbing frame.\n",
      "[2024-01-30 11:40:57,149] {animation.py:356} DEBUG - MovieWriter stderr:\n",
      "ffmpeg version 4.2.2 Copyright (c) 2000-2019 the FFmpeg developers\n",
      "  built with gcc 7.3.0 (crosstool-NG 1.23.0.449-a04d0)\n",
      "  configuration: --prefix=/tmp/build/80754af9/ffmpeg_1587154242452/_h_env_placehold_placehold_placehold_placehold_placehold_placehold_placehold_placehold_placehold_placehold_placehold_placehold_placehold_placehold_placehold_placehold_placehold_placehold_placehold_placehold_placeho --cc=/tmp/build/80754af9/ffmpeg_1587154242452/_build_env/bin/x86_64-conda_cos6-linux-gnu-cc --disable-doc --enable-avresample --enable-gmp --enable-hardcoded-tables --enable-libfreetype --enable-libvpx --enable-pthreads --enable-libopus --enable-postproc --enable-pic --enable-pthreads --enable-shared --enable-static --enable-version3 --enable-zlib --enable-libmp3lame --disable-nonfree --enable-gpl --enable-gnutls --disable-openssl --enable-libopenh264 --enable-libx264\n",
      "  libavutil      56. 31.100 / 56. 31.100\n",
      "  libavcodec     58. 54.100 / 58. 54.100\n",
      "  libavformat    58. 29.100 / 58. 29.100\n",
      "  libavdevice    58.  8.100 / 58.  8.100\n",
      "  libavfilter     7. 57.100 /  7. 57.100\n",
      "  libavresample   4.  0.  0 /  4.  0.  0\n",
      "  libswscale      5.  5.100 /  5.  5.100\n",
      "  libswresample   3.  5.100 /  3.  5.100\n",
      "  libpostproc    55.  5.100 / 55.  5.100\n",
      "Input #0, rawvideo, from 'pipe:':\n",
      "  Duration: N/A, start: 0.000000, bitrate: 278790 kb/s\n",
      "    Stream #0:0: Video: rawvideo (RGBA / 0x41424752), rgba, 1372x508, 278790 kb/s, 12.50 tbr, 12.50 tbn, 12.50 tbc\n",
      "Stream mapping:\n",
      "  Stream #0:0 (rawvideo) -> split\n",
      "  paletteuse -> Stream #0:0 (gif)\n",
      "Output #0, gif, to 'xcat_recons_2_layer.gif':\n",
      "  Metadata:\n",
      "    encoder         : Lavf58.29.100\n",
      "    Stream #0:0: Video: gif, pal8, 1372x508, q=2-31, 200 kb/s, 12.50 fps, 100 tbn, 12.50 tbc\n",
      "    Metadata:\n",
      "      encoder         : Lavc58.54.100 gif\n",
      "frame=    0 fps=0.0 q=0.0 size=       0kB time=00:00:00.00 bitrate=N/A speed=   0x    \n",
      "frame=    0 fps=0.0 q=0.0 size=       0kB time=00:00:00.00 bitrate=N/A speed=   0x    \n",
      "frame=    0 fps=0.0 q=0.0 size=       0kB time=00:00:00.00 bitrate=N/A speed=   0x    \n",
      "frame=    0 fps=0.0 q=0.0 size=       0kB time=00:00:00.00 bitrate=N/A speed=   0x    \n",
      "frame=    0 fps=0.0 q=0.0 size=       0kB time=00:00:00.00 bitrate=N/A speed=   0x    \n",
      "frame=    0 fps=0.0 q=0.0 size=       0kB time=00:00:00.00 bitrate=N/A speed=   0x    \n",
      "frame=    0 fps=0.0 q=0.0 size=       0kB time=00:00:00.00 bitrate=N/A speed=   0x    \n",
      "frame=    0 fps=0.0 q=0.0 size=       0kB time=00:00:00.00 bitrate=N/A speed=   0x    \n",
      "frame=    0 fps=0.0 q=0.0 size=       0kB time=00:00:00.00 bitrate=N/A speed=   0x    \n",
      "[Parsed_palettegen_1 @ 0x55684a75abc0] 255(+1) colors generated out of 1038 colors; ratio=0.245665\n",
      "[Parsed_palettegen_1 @ 0x55684a75abc0] Dupped color: FFFF0A0A\n",
      "[Parsed_palettegen_1 @ 0x55684a75abc0] Dupped color: FFFFDADA\n",
      "frame=    2 fps=0.4 q=-0.0 size=      63kB time=00:00:00.09 bitrate=5700.2kbits/s speed=0.0169x    \n",
      "frame=   42 fps=7.2 q=-0.0 size=    4352kB time=00:00:03.29 bitrate=10836.3kbits/s speed=0.564x    \n",
      "frame=   80 fps= 13 q=-0.0 size=    9216kB time=00:00:06.33 bitrate=11926.9kbits/s speed=0.998x    \n",
      "frame=   85 fps= 13 q=-0.0 Lsize=    9702kB time=00:00:06.73 bitrate=11809.1kbits/s speed=1.05x    \n",
      "video:9702kB audio:0kB subtitle:0kB other streams:0kB global headers:0kB muxing overhead: 0.000201%\n",
      "\n"
     ]
    }
   ],
   "source": [
    "anim = cont.save_animation(\"xcat_recons_2_layer.gif\", fig, \"axis0\", interval=80)"
   ]
  },
  {
   "cell_type": "code",
   "execution_count": 128,
   "metadata": {},
   "outputs": [
    {
     "data": {
      "text/plain": [
       "[<matplotlib.lines.Line2D at 0x7f26119eb390>]"
      ]
     },
     "execution_count": 128,
     "metadata": {},
     "output_type": "execute_result"
    }
   ],
   "source": [
    "plt.figure()\n",
    "plt.plot(phantom.weights_fluence)\n",
    "plt.plot(phantom2.weights_fluence)"
   ]
  },
  {
   "cell_type": "code",
   "execution_count": 141,
   "metadata": {},
   "outputs": [],
   "source": [
    "# Save the flood fields, the raw projections, and the scatter all to matlab files \n",
    "\n",
    "# Save the flood fields\n",
    "import scipy.io as sio\n",
    "\n",
    "sio.savemat('flood_field_first_layer_XCAT.mat', {'flood_fields': phantom.flood_field})\n",
    "sio.savemat('flood_field_second_layer_XCAT.mat', {'flood_fields': phantom2.flood_field})\n",
    "\n",
    "# Save the intensity\n",
    "sio.savemat('detector_intensity_first_layer_XCAT.mat', {'intensity': phantom.intensity})\n",
    "sio.savemat('detector_intensity_second_layer_XCAT.mat', {'intensity': phantom2.intensity})\n",
    "\n",
    "# Save the scatter\n",
    "sio.savemat('detector_scatter_intensity_first_layer_XCAT.mat', {'scatter': phantom.interpolated_ggems_scatter})\n",
    "sio.savemat('detector_scatter_intensity_second_layer_XCAT.mat', {'scatter': phantom2.interpolated_ggems_scatter})\n"
   ]
  },
  {
   "cell_type": "code",
   "execution_count": null,
   "metadata": {},
   "outputs": [],
   "source": [
    "sio.savemat('recon_first_layer_XCAT.mat', {'scatter': phantom.img})\n",
    "sio.savemat('recon_second_layer_XCAT.mat', {'scatter': phantom2.img})"
   ]
  },
  {
   "cell_type": "code",
   "execution_count": 130,
   "metadata": {},
   "outputs": [],
   "source": [
    "phantom2.save_pickle('second_layer_360.pkl')\n",
    "phantom.save_pickle('first_layer_360.pkl')"
   ]
  },
  {
   "cell_type": "code",
   "execution_count": null,
   "metadata": {},
   "outputs": [
    {
     "name": "stdout",
     "output_type": "stream",
     "text": [
      "[2024-01-30 10:57:22,622] {colorbar.py:859} DEBUG - locator: <matplotlib.ticker.AutoLocator object at 0x7ff412256dd0>\n"
     ]
    },
    {
     "name": "stderr",
     "output_type": "stream",
     "text": [
      "/tmp/ipykernel_128445/26499556.py:4: RuntimeWarning: divide by zero encountered in divide\n",
      "  plt.imshow(np.flipud(- np.log(phantom.ggems_primary_projections[0]/np.rot90(phantom.ggems_flood)+0.0001)),vmin=0,vmax=4,cmap='turbo')\n",
      "/tmp/ipykernel_128445/26499556.py:4: RuntimeWarning: invalid value encountered in divide\n",
      "  plt.imshow(np.flipud(- np.log(phantom.ggems_primary_projections[0]/np.rot90(phantom.ggems_flood)+0.0001)),vmin=0,vmax=4,cmap='turbo')\n",
      "/tmp/ipykernel_128445/26499556.py:12: RuntimeWarning: divide by zero encountered in divide\n",
      "  plt.imshow(np.flipud(100*(- np.log(phantom.ggems_primary_projections[0]/np.rot90(phantom.ggems_flood)+0.0001)-(- np.log(phantom.intensity[0]/phantom.flood_field)))/\n",
      "/tmp/ipykernel_128445/26499556.py:12: RuntimeWarning: invalid value encountered in divide\n",
      "  plt.imshow(np.flipud(100*(- np.log(phantom.ggems_primary_projections[0]/np.rot90(phantom.ggems_flood)+0.0001)-(- np.log(phantom.intensity[0]/phantom.flood_field)))/\n",
      "/tmp/ipykernel_128445/26499556.py:13: RuntimeWarning: divide by zero encountered in divide\n",
      "  np.nanmax(-np.log(phantom.ggems_primary_projections[0]/np.rot90(phantom.ggems_flood)+0.0001))),vmin=-5,vmax=5,cmap='bwr')\n",
      "/tmp/ipykernel_128445/26499556.py:13: RuntimeWarning: invalid value encountered in divide\n",
      "  np.nanmax(-np.log(phantom.ggems_primary_projections[0]/np.rot90(phantom.ggems_flood)+0.0001))),vmin=-5,vmax=5,cmap='bwr')\n"
     ]
    },
    {
     "data": {
      "text/plain": [
       "<matplotlib.colorbar.Colorbar at 0x7ff3ffde1250>"
      ]
     },
     "metadata": {},
     "output_type": "display_data"
    }
   ],
   "source": [
    "plt.figure()\n",
    "plt.subplot(131)\n",
    "plt.title('GGEMS Projection (log normalized)')\n",
    "plt.imshow(np.flipud(- np.log(phantom.ggems_primary_projections[0]/np.rot90(phantom.ggems_flood)+0.0001)),vmin=0,vmax=4,cmap='turbo')\n",
    "plt.axis('off')\n",
    "plt.subplot(132)\n",
    "plt.title('Fastcat Projection (log normalized)')\n",
    "plt.imshow(np.flipud(- np.log(phantom.intensity[0]/phantom.flood_field)),cmap='turbo',vmin=0,vmax=4)\n",
    "plt.axis('off')\n",
    "plt.subplot(133)\n",
    "plt.title('[%] Difference')\n",
    "plt.imshow(np.flipud(100*(- np.log(phantom.ggems_primary_projections[0]/np.rot90(phantom.ggems_flood)+0.0001)-(- np.log(phantom.intensity[0]/phantom.flood_field)))/\n",
    "                     np.nanmax(-np.log(phantom.ggems_primary_projections[0]/np.rot90(phantom.ggems_flood)+0.0001))),vmin=-5,vmax=5,cmap='bwr')\n",
    "plt.axis('off')\n",
    "plt.colorbar()"
   ]
  },
  {
   "cell_type": "code",
   "execution_count": 142,
   "metadata": {},
   "outputs": [
    {
     "name": "stdout",
     "output_type": "stream",
     "text": [
      "TIGRE parameters\n",
      "-----\n",
      "Geometry parameters\n",
      "Distance from source to detector (DSD) = 1510 mm\n",
      "Distance from source to origin (DSO)= 1000.0 mm\n",
      "-----\n",
      "Detector parameters\n",
      "Number of pixels (nDetector) = [512 512]\n",
      "Size of each pixel (dDetector) = [0.784 0.784] mm\n",
      "Total size of the detector (sDetector) = [401.408 401.408] mm\n",
      "-----\n",
      "Image parameters\n",
      "Number of voxels (nVoxel) = [ 86 512 512]\n",
      "Total size of the image (sVoxel) = [268.75 256.   256.  ] mm\n",
      "Size of each voxel (dVoxel) = [3.125 0.5   0.5  ] mm\n",
      "-----\n",
      "Offset correction parameters\n",
      "Offset of image from origin (offOrigin) = [0 0 0] mm\n",
      "Offset of detector (offDetector) = [0 0] mm\n",
      "-----\n",
      "Auxillary parameters\n",
      "Samples per pixel of forward projection (accuracy) = 0.5\n",
      "-----\n",
      "Rotation of the Detector (rotDetector) = [0 0 0] rad TIGRE parameters\n",
      "-----\n",
      "Geometry parameters\n",
      "Distance from source to detector (DSD) = 1510 mm\n",
      "Distance from source to origin (DSO)= 1000.0 mm\n",
      "-----\n",
      "Detector parameters\n",
      "Number of pixels (nDetector) = [512 512]\n",
      "Size of each pixel (dDetector) = [0.784 0.784] mm\n",
      "Total size of the detector (sDetector) = [401.408 401.408] mm\n",
      "-----\n",
      "Image parameters\n",
      "Number of voxels (nVoxel) = [ 86 512 512]\n",
      "Total size of the image (sVoxel) = [268.75 256.   256.  ] mm\n",
      "Size of each voxel (dVoxel) = [3.125 0.5   0.5  ] mm\n",
      "-----\n",
      "Offset correction parameters\n",
      "Offset of image from origin (offOrigin) = [0 0 0] mm\n",
      "Offset of detector (offDetector) = [0 0] mm\n",
      "-----\n",
      "Auxillary parameters\n",
      "Samples per pixel of forward projection (accuracy) = 0.5\n",
      "-----\n",
      "Rotation of the Detector (rotDetector) = [0 0 0] rad\n"
     ]
    }
   ],
   "source": [
    "print(phantom.geomet, phantom2.geomet)"
   ]
  },
  {
   "cell_type": "code",
   "execution_count": null,
   "metadata": {},
   "outputs": [],
   "source": []
  }
 ],
 "metadata": {
  "kernelspec": {
   "display_name": "tigre_fastcat",
   "language": "python",
   "name": "python3"
  },
  "language_info": {
   "codemirror_mode": {
    "name": "ipython",
    "version": 3
   },
   "file_extension": ".py",
   "mimetype": "text/x-python",
   "name": "python",
   "nbconvert_exporter": "python",
   "pygments_lexer": "ipython3",
   "version": "3.11.5"
  }
 },
 "nbformat": 4,
 "nbformat_minor": 2
}
