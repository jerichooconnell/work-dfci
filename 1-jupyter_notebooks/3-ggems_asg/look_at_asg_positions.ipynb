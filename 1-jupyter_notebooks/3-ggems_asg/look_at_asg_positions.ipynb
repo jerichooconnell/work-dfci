{
 "cells": [
  {
   "cell_type": "markdown",
   "metadata": {},
   "source": [
    "There is a 60 lines/cm, 10:1 grid on top of the carbon fibre cover plate, which is focused to 150\n",
    "cm. The grid transmission is 72% using IEC60627 and is rated to be 3.2 mm Al equivalent. In\n",
    "addition, to the lead lamella (36 microns thick each and the fibre – paper - interspace) the grid\n",
    "has two carbon fibre covers that are each 0.25 mm thick. At 60 lines/cm the lamella period is\n",
    "167 microns and so the interspace distance is (167-36) 131 microns. This yields a lamella height\n",
    "of 1.3 mm (1310 microns). The exact composition of the fibre is unknown, so assume typical\n",
    "paper properties – with a density of 0.7 g/cm3 and a composition of C6H10O5 (cellulose). The\n",
    "grid lamella runs in a single direction – parallel to the long (40 cm) dimension of the grid."
   ]
  },
  {
   "cell_type": "code",
   "execution_count": 3,
   "metadata": {},
   "outputs": [
    {
     "name": "stdout",
     "output_type": "stream",
     "text": [
      "0.00010666666666666668\n"
     ]
    }
   ],
   "source": [
    "%matplotlib qt\n",
    "import numpy as np\n",
    "import matplotlib.pyplot as plt\n",
    "\n",
    "lamella_height = 1.31\n",
    "lamella_period = 0.2\n",
    "lamella_thickness = 0.04\n",
    "lamella_height_adj = 1.6\n",
    "\n",
    "lamella_position = np.linspace(0, 100*lamella_period, 100)\n",
    "\n",
    "angles = np.arctan(lamella_period/1500)\n",
    "\n",
    "delta = np.tan(angles)*lamella_height_adj/2\n",
    "\n",
    "position_plus_delta = lamella_position + delta\n",
    "\n",
    "# plt.plot(lamella_position,'b*')\n",
    "# plt.plot(delta,'r*')\n",
    "print(delta)"
   ]
  },
  {
   "cell_type": "code",
   "execution_count": 1,
   "metadata": {},
   "outputs": [
    {
     "data": {
      "text/plain": [
       "5.333333333333333"
      ]
     },
     "execution_count": 1,
     "metadata": {},
     "output_type": "execute_result"
    }
   ],
   "source": [
    "16/3"
   ]
  },
  {
   "cell_type": "code",
   "execution_count": 4,
   "metadata": {},
   "outputs": [
    {
     "data": {
      "text/plain": [
       "0.039893333333333336"
      ]
     },
     "execution_count": 4,
     "metadata": {},
     "output_type": "execute_result"
    }
   ],
   "source": [
    "0.04 - delta"
   ]
  },
  {
   "cell_type": "code",
   "execution_count": 5,
   "metadata": {},
   "outputs": [
    {
     "data": {
      "text/plain": [
       "0.040106666666666665"
      ]
     },
     "execution_count": 5,
     "metadata": {},
     "output_type": "execute_result"
    }
   ],
   "source": [
    "0.04 + delta"
   ]
  },
  {
   "cell_type": "code",
   "execution_count": null,
   "metadata": {},
   "outputs": [],
   "source": []
  }
 ],
 "metadata": {
  "kernelspec": {
   "display_name": "tigre_fastcat",
   "language": "python",
   "name": "python3"
  },
  "language_info": {
   "codemirror_mode": {
    "name": "ipython",
    "version": 3
   },
   "file_extension": ".py",
   "mimetype": "text/x-python",
   "name": "python",
   "nbconvert_exporter": "python",
   "pygments_lexer": "ipython3",
   "version": "3.11.5"
  }
 },
 "nbformat": 4,
 "nbformat_minor": 2
}
