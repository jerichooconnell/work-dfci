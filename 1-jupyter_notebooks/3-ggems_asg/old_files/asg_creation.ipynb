{
 "cells": [
  {
   "cell_type": "code",
   "execution_count": null,
   "metadata": {},
   "outputs": [],
   "source": [
    "%matplotlib qt\n",
    "\n",
    "import numpy as np\n",
    "import matplotlib.pyplot as plt\n",
    "\n",
    "xvals = np.linspace(-200, 200, 100)\n",
    "yvals = np.ones_like(xvals)\n",
    "# Define the angles\n",
    "theta = np.linspace(-5, 5, 200)\n",
    "\n",
    "# Define the point where the angles enter the bowtie\n",
    "# This is the opposite distance tan(theta) is opposite over adjacent\n",
    "# So the opposite distance is the y value and the adjacent distance is the y value divided by tan(theta)\n",
    "y_dist = 1510 # mm\n",
    "ray_x0 = y_dist * np.tan(np.deg2rad(theta))\n",
    "\n",
    "# Define the bowtie shape\n",
    "bowtie_x = xvals\n",
    "bowtie_y = yvals\n",
    "\n",
    "# plot lines from the origin to ray_x0 values\n",
    "plt.figure()\n",
    "for i in range(len(theta)):\n",
    "    # tan(theta) = op/adj\n",
    "    # plt.plot([0, ray_x0[i]], [0, -y_dist], 'b-')\n",
    "    plt.plot([ray_x0[i], ray_x0[i]+10*np.tan(np.deg2rad(theta[i]))], [-y_dist, -y_dist - 10], 'r-')\n",
    "# Using the above syntax make a box at the center of each ray with an angle defined by theta\n",
    "# The box should be 10 mm long and 0.1 mm wide and write to a file\n",
    "\n",
    "for ii, thet in enumerate(theta):\n",
    "    x0, x1, y0, y1 = ray_x0[ii], ray_x0[ii]+10*np.tan(np.deg2rad(thet)), -y_dist, -y_dist - 10\n",
    "    box = GGEMSBox(10.0, 0.1, 0.1, 'mm')\n",
    "    box.set_position({(x1 - x0)/2}, {(y1 - y0)/2}, 0.0, 'mm')\n",
    "    box.set_rotation(0.0, 0.0, {thet}, 'deg')\n",
    "    box.set_label_value(1)\n",
    "    box.set_material('Pb')\n",
    "    box.initialize()\n",
    "    box.draw()\n",
    "    box.delete()\n",
    "\n"
   ]
  },
  {
   "cell_type": "code",
   "execution_count": 12,
   "metadata": {},
   "outputs": [],
   "source": [
    "# plot lines from the origin to ray_x0 values\n",
    "plt.figure()\n",
    "for i in range(len(theta)):\n",
    "    # tan(theta) = op/adj\n",
    "    plt.plot([0, -intercepts[i][0][0]], [0, intercepts[i][1][0]], 'r-')\n",
    "    plt.plot([0, ray_x0[i]], [0, -y_dist], 'b-')"
   ]
  },
  {
   "cell_type": "code",
   "execution_count": 10,
   "metadata": {},
   "outputs": [
    {
     "ename": "NameError",
     "evalue": "name 'intercepts' is not defined",
     "output_type": "error",
     "traceback": [
      "\u001b[0;31m---------------------------------------------------------------------------\u001b[0m",
      "\u001b[0;31mNameError\u001b[0m                                 Traceback (most recent call last)",
      "Cell \u001b[0;32mIn[10], line 2\u001b[0m\n\u001b[1;32m      1\u001b[0m plt\u001b[38;5;241m.\u001b[39mfigure()\n\u001b[0;32m----> 2\u001b[0m plt\u001b[38;5;241m.\u001b[39mplot(theta, [i[\u001b[38;5;241m1\u001b[39m][\u001b[38;5;241m0\u001b[39m] \u001b[38;5;28;01mfor\u001b[39;00m i \u001b[38;5;129;01min\u001b[39;00m intercepts], \u001b[38;5;124m'\u001b[39m\u001b[38;5;124mr-\u001b[39m\u001b[38;5;124m'\u001b[39m)\n",
      "\u001b[0;31mNameError\u001b[0m: name 'intercepts' is not defined"
     ]
    }
   ],
   "source": [
    "plt.figure()\n",
    "plt.plot(theta, [i[1][0] for i in intercepts], 'r-')"
   ]
  },
  {
   "cell_type": "code",
   "execution_count": 20,
   "metadata": {},
   "outputs": [
    {
     "data": {
      "text/plain": [
       "[<matplotlib.lines.Line2D at 0x7f68af8eb990>]"
      ]
     },
     "execution_count": 20,
     "metadata": {},
     "output_type": "execute_result"
    }
   ],
   "source": [
    "bowtie_thickness = []\n",
    "ray_x0_lens = []\n",
    "intercept_lens = []\n",
    "\n",
    "for i in range(len(theta)):\n",
    "    # Length of the first ray_x0\n",
    "    ray_x0_len = np.sqrt(ray_x0[i]**2 + y_dist**2)\n",
    "    # Length of intercepts in array format\n",
    "    intercept_len = np.sqrt(intercepts[i][0][0]**2 + intercepts[i][1][0]**2)\n",
    "    # bowtie lengths\n",
    "    bowtie_thickness.append(ray_x0_len - intercept_len)\n",
    "    ray_x0_lens.append(ray_x0_len)\n",
    "    intercept_lens.append(intercept_len)\n",
    "\n",
    "# Turn them into arrays and sqeeze them\n",
    "ray_x0_lens = np.array(ray_x0_lens).squeeze()\n",
    "intercept_lens = np.array(intercept_lens).squeeze()\n",
    "\n",
    "\n",
    "plt.figure()\n",
    "plt.plot(-np.array(bowtie_thickness).T)"
   ]
  },
  {
   "cell_type": "code",
   "execution_count": 18,
   "metadata": {},
   "outputs": [
    {
     "data": {
      "text/plain": [
       "[<matplotlib.lines.Line2D at 0x7f68b425ae50>]"
      ]
     },
     "execution_count": 18,
     "metadata": {},
     "output_type": "execute_result"
    }
   ],
   "source": [
    "plt.figure()\n",
    "plt.plot(np.log(-np.array(bowtie_thickness).T))"
   ]
  },
  {
   "cell_type": "code",
   "execution_count": 22,
   "metadata": {},
   "outputs": [],
   "source": [
    "def write_bowtie_lengths_to_file(bowtie_lengths, filename,material, Density, Angles):\n",
    "    spacing = np.mean(np.diff(Angles))\n",
    "    \n",
    "    with open(filename, 'w') as f:\n",
    "        f.write(\"Filter\\n\")\n",
    "        f.write(\"# Name of the material\\n\")\n",
    "        f.write(material + \"\\n\")\n",
    "        f.write(\"# Density of the material (gr/cm^3)\\n\")\n",
    "        f.write(str(Density) + \"\\n\")\n",
    "        f.write(\"# Angular increment (degrees)\\n\")\n",
    "        f.write(str(spacing) + \"\\n\")\n",
    "        f.write(\"# Start angle\\n\")\n",
    "        f.write(str(Angles[0]) + \"\\n\")\n",
    "        f.write(\"# Thickness array (mm)\\n\")\n",
    "        for length in bowtie_lengths:\n",
    "            f.write(str(length) + \"\\n\")\n",
    "\n",
    "# Write the bowtie lengths to a text file\n",
    "write_bowtie_lengths_to_file(-np.array(bowtie_thickness), 'full_fan.dat', 'Al', 2.699, theta)"
   ]
  },
  {
   "cell_type": "code",
   "execution_count": null,
   "metadata": {},
   "outputs": [],
   "source": []
  }
 ],
 "metadata": {
  "kernelspec": {
   "display_name": "Python 3 (ipykernel)",
   "language": "python",
   "name": "python3"
  },
  "language_info": {
   "codemirror_mode": {
    "name": "ipython",
    "version": 3
   },
   "file_extension": ".py",
   "mimetype": "text/x-python",
   "name": "python",
   "nbconvert_exporter": "python",
   "pygments_lexer": "ipython3",
   "version": "3.11.5"
  }
 },
 "nbformat": 4,
 "nbformat_minor": 2
}
