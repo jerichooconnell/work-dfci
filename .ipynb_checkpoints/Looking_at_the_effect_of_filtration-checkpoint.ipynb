{
 "cells": [
  {
   "cell_type": "code",
   "execution_count": 5,
   "id": "fbef55ea",
   "metadata": {
    "collapsed": true
   },
   "outputs": [
    {
     "name": "stdout",
     "output_type": "stream",
     "text": [
      "%pylab is deprecated, use %matplotlib inline and import the required libraries.\n",
      "Populating the interactive namespace from numpy and matplotlib\n"
     ]
    }
   ],
   "source": [
    "%pylab nbagg"
   ]
  },
  {
   "cell_type": "markdown",
   "id": "6dbdbe8a",
   "metadata": {},
   "source": [
    "## Define a function to make the plots"
   ]
  },
  {
   "cell_type": "code",
   "execution_count": 94,
   "id": "4f8de226",
   "metadata": {},
   "outputs": [],
   "source": [
    "def gen_plot(s,lab):\n",
    "    xx, yy = s.get_spectrum()\n",
    "    plt.plot(xx, yy/1000000,label=lab)\n",
    "    plt.xlabel('Energy [keV]')\n",
    "    plt.ylabel('Fluence $[cm^{-1} keV^{-2}]$')\n",
    "    plt.title('Effect of Filtration on the Beam')\n",
    "def gen_plot_norm(s,lab,s1,s2,s2_val,s2_title,info=False):\n",
    "    xx, yy = s.get_spectrum()\n",
    "    s1.plot(xx, yy/np.sum(yy),label=lab)\n",
    "    s1.set_xlabel('Energy [keV]')\n",
    "    s1.set_ylabel('Fluence $[cm^{-1} keV^{-2}]$')\n",
    "    s1.set_title('Effect of Filtration on the Beam')\n",
    "    if info:\n",
    "        print(f'{lab} \\n \\t Mean Energy: {s.get_emean()} keV \\n \\t Fluence {s.get_flu()} photons cm-2')\n",
    "    s2.semilogy(s.get_emean(),s2_val,'*')\n",
    "    s2.set_title(f'{s2_title}')"
   ]
  },
  {
   "cell_type": "markdown",
   "id": "03da7b5a",
   "metadata": {},
   "source": [
    "## Define filtrations "
   ]
  },
  {
   "cell_type": "code",
   "execution_count": 95,
   "id": "0a6c85c4",
   "metadata": {},
   "outputs": [],
   "source": [
    "materials = ['Al','Ti','Water','Cesium Iodide','Sn','Si','Cesium Iodide','Si']\n",
    "thicknesses = [1,1,100,0.6,1,0.1,0.8,0.1]\n",
    "\n",
    "s.get_flu()\n",
    "\n",
    "s = sp.Spek(140,th=14)\n",
    "plt.figure(figsize=[10,6])\n",
    "s1 = plt.subplot(121)\n",
    "s2 = plt.subplot(122)\n",
    "for mat, thick in zip(materials, thicknesses):\n",
    "    \n",
    "    s.filter(mat, thick)\n",
    "    gen_plot_norm(s,f'After {mat}',s1,s2,s.get_flu(),'Fluence',info='True')\n",
    "    \n",
    "s1.legend()"
   ]
  },
  {
   "cell_type": "code",
   "execution_count": 71,
   "id": "bcc85563",
   "metadata": {
    "scrolled": true
   },
   "outputs": [
    {
     "data": {
      "text/plain": [
       "('Si', 0.1)"
      ]
     },
     "execution_count": 71,
     "metadata": {},
     "output_type": "execute_result"
    }
   ],
   "source": [
    "mat, thick"
   ]
  },
  {
   "cell_type": "code",
   "execution_count": 7,
   "id": "0ddbe053",
   "metadata": {},
   "outputs": [],
   "source": []
  },
  {
   "cell_type": "code",
   "execution_count": null,
   "id": "dcc5347c",
   "metadata": {},
   "outputs": [],
   "source": []
  }
 ],
 "metadata": {
  "kernelspec": {
   "display_name": "Python 3 (ipykernel)",
   "language": "python",
   "name": "python3"
  },
  "language_info": {
   "codemirror_mode": {
    "name": "ipython",
    "version": 3
   },
   "file_extension": ".py",
   "mimetype": "text/x-python",
   "name": "python",
   "nbconvert_exporter": "python",
   "pygments_lexer": "ipython3",
   "version": "3.9.18"
  }
 },
 "nbformat": 4,
 "nbformat_minor": 5
}
