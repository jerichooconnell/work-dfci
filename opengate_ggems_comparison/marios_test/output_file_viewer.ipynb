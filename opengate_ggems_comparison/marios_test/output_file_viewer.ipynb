{
 "cells": [
  {
   "cell_type": "code",
   "execution_count": 1,
   "id": "afb85e3d",
   "metadata": {},
   "outputs": [],
   "source": [
    "%matplotlib qt\n",
    "import matplotlib.pyplot as plt \n",
    "import numpy as np\n",
    "import mpl_interactions as pli\n",
    "from read_in_data import load_itk"
   ]
  },
  {
   "cell_type": "markdown",
   "id": "086bf2fe",
   "metadata": {},
   "source": [
    "### Load in the data files"
   ]
  },
  {
   "cell_type": "code",
   "execution_count": 2,
   "id": "024fba09",
   "metadata": {},
   "outputs": [],
   "source": [
    "ggems_image, origin, space = load_itk('out/ggems_dosimetry_no_tle_edep.mhd') # What is this in? - Should be MeV as well according to didier\n",
    "\n",
    "ggems_stats, origin, space = load_itk('out/ggems_dosimetry_no_tle_uncertainty.mhd') # What is this in? - Should be MeV as well according to didier"
   ]
  },
  {
   "cell_type": "markdown",
   "id": "5140919c",
   "metadata": {},
   "source": [
    "### A side by side view (log energy deposition in MeV)"
   ]
  },
  {
   "cell_type": "code",
   "execution_count": 4,
   "id": "d14e93c6",
   "metadata": {},
   "outputs": [],
   "source": [
    "# Define the variables\n",
    "crop = 75\n",
    "\n",
    "a = c = crop\n",
    "b = d = -crop\n",
    "\n",
    "log_ggems = np.log(np.flipud(ggems_image.transpose(2,1,0))[:,a:b,c:d]+1)\n",
    "\n",
    "ggems = np.flipud(ggems_image.transpose(2,1,0))[:,a:b,c:d]\n",
    "\n",
    "stats_ggems = np.flipud(ggems_stats.transpose(2,1,0))[:,a:b,c:d]\n",
    "\n",
    "# Normalize the logarithmic arrays by the mean of the central 4 columns\n",
    "log_ggems_norm = (log_ggems - np.mean(log_ggems[:,24:26,24:26]))/np.std(log_ggems[:,24:26,24:26]) + 1"
   ]
  },
  {
   "cell_type": "markdown",
   "id": "8019aaf7",
   "metadata": {},
   "source": [
    "### Make the logarithmic comparison between gate and ggems "
   ]
  },
  {
   "cell_type": "code",
   "execution_count": 8,
   "id": "5631ba8a",
   "metadata": {
    "slideshow": {
     "slide_type": "slide"
    }
   },
   "outputs": [],
   "source": [
    "\n",
    "fig = plt.figure(figsize=(8,6))\n",
    "# Set the title of the figure\n",
    "# fig.suptitle('GGEMS vs Gate Dose Comparison Normalized on CAX',fontsize=16)\n",
    "\n",
    "controls = pli.hyperslicer(log_ggems_norm.T,cmap='viridis',\n",
    "                           title='GGEMS z= {axis0:.2f} [0.1 mm]',\n",
    "                           vmin=np.percentile(log_ggems_norm,1),vmax=np.percentile(log_ggems_norm,99.9),play_buttons=True)\n",
    "plt.tight_layout()"
   ]
  },
  {
   "cell_type": "markdown",
   "id": "7032945f",
   "metadata": {},
   "source": [
    "### Look at profiles through the thing"
   ]
  },
  {
   "cell_type": "code",
   "execution_count": 10,
   "id": "dd15f9db",
   "metadata": {},
   "outputs": [],
   "source": [
    "ind=20\n",
    "\n",
    "ggem_norm_img = np.log(np.mean(ggems,axis=0)+1)\n",
    "\n",
    "ggem_norm_img /= ggem_norm_img[25,25]\n",
    "\n",
    "fig, axes = pli.heatmap_slicer(\n",
    "    np.arange(ggems.shape[1]),\n",
    "    np.arange(ggems.shape[1]),\n",
    "    (ggem_norm_img),\n",
    "    slices=\"both\",\n",
    "    heatmap_names=(\"ggems\"),\n",
    "    labels=(\"x-pixels\", \"y-pixels\"),\n",
    "    interaction_type=\"move\",\n",
    "    cmap='viridis',\n",
    "    figsize=[10,4],\n",
    ")\n",
    "plt.ylabel('Normalized log(Edep+1)')\n",
    "plt.tight_layout()"
   ]
  }
 ],
 "metadata": {
  "kernelspec": {
   "display_name": "Python 3 (ipykernel)",
   "language": "python",
   "name": "python3"
  },
  "language_info": {
   "codemirror_mode": {
    "name": "ipython",
    "version": 3
   },
   "file_extension": ".py",
   "mimetype": "text/x-python",
   "name": "python",
   "nbconvert_exporter": "python",
   "pygments_lexer": "ipython3",
   "version": "3.11.5"
  }
 },
 "nbformat": 4,
 "nbformat_minor": 5
}
