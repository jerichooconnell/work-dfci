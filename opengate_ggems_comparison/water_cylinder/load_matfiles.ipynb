{
 "cells": [
  {
   "cell_type": "code",
   "execution_count": 11,
   "metadata": {},
   "outputs": [],
   "source": [
    "# Load the matfiles and save them as pickle files\n",
    "\n",
    "import numpy as np\n",
    "import scipy.io as sio\n",
    "import pickle\n",
    "import pandas as pd\n",
    "\n",
    "# Load the matfiles\n",
    "matfiles = ['data/Catphan604_HeadSized/phantomSpecs.mat','data/Catphan604_HeadSized/xraySourceSpecs.mat']"
   ]
  },
  {
   "cell_type": "code",
   "execution_count": 2,
   "metadata": {},
   "outputs": [
    {
     "name": "stdout",
     "output_type": "stream",
     "text": [
      "data/Catphan604_HeadSized/phantomSpecs.mat\n",
      "[('attenuationData', (1, 9), 'struct'), ('phantomRegionLabels', (526, 526, 400), 'double'), ('voxelSize_Millimeters', (1, 3), 'double'), ('__function_workspace__', (1, 31152), 'uint8')]\n",
      "data/Catphan604_HeadSized/xraySourceSpecs.mat\n"
     ]
    },
    {
     "ename": "TypeError",
     "evalue": "'NoneType' object is not iterable",
     "output_type": "error",
     "traceback": [
      "\u001b[0;31m---------------------------------------------------------------------------\u001b[0m",
      "\u001b[0;31mTypeError\u001b[0m                                 Traceback (most recent call last)",
      "\u001b[1;32m/home/jericho/1-Workspace/opengate_ggems_comparison/water_cylinder/load_matfiles.ipynb Cell 2\u001b[0m line \u001b[0;36m6\n\u001b[1;32m      <a href='vscode-notebook-cell:/home/jericho/1-Workspace/opengate_ggems_comparison/water_cylinder/load_matfiles.ipynb#W1sZmlsZQ%3D%3D?line=3'>4</a>\u001b[0m \u001b[39mprint\u001b[39m(matfile)\n\u001b[1;32m      <a href='vscode-notebook-cell:/home/jericho/1-Workspace/opengate_ggems_comparison/water_cylinder/load_matfiles.ipynb#W1sZmlsZQ%3D%3D?line=4'>5</a>\u001b[0m \u001b[39m# print the keys\u001b[39;00m\n\u001b[0;32m----> <a href='vscode-notebook-cell:/home/jericho/1-Workspace/opengate_ggems_comparison/water_cylinder/load_matfiles.ipynb#W1sZmlsZQ%3D%3D?line=5'>6</a>\u001b[0m \u001b[39mprint\u001b[39m(sio\u001b[39m.\u001b[39mwhosmat(matfile))\n",
      "File \u001b[0;32m~/anaconda3/envs/tigre_fastcat/lib/python3.11/site-packages/scipy-1.11.3-py3.11-linux-x86_64.egg/scipy/io/matlab/_mio.py:357\u001b[0m, in \u001b[0;36mwhosmat\u001b[0;34m(file_name, appendmat, **kwargs)\u001b[0m\n\u001b[1;32m    355\u001b[0m \u001b[39mwith\u001b[39;00m _open_file_context(file_name, appendmat) \u001b[39mas\u001b[39;00m f:\n\u001b[1;32m    356\u001b[0m     ML, file_opened \u001b[39m=\u001b[39m mat_reader_factory(f, \u001b[39m*\u001b[39m\u001b[39m*\u001b[39mkwargs)\n\u001b[0;32m--> 357\u001b[0m     variables \u001b[39m=\u001b[39m ML\u001b[39m.\u001b[39mlist_variables()\n\u001b[1;32m    358\u001b[0m \u001b[39mreturn\u001b[39;00m variables\n",
      "File \u001b[0;32m~/anaconda3/envs/tigre_fastcat/lib/python3.11/site-packages/scipy-1.11.3-py3.11-linux-x86_64.egg/scipy/io/matlab/_mio5.py:364\u001b[0m, in \u001b[0;36mMatFile5Reader.list_variables\u001b[0;34m(self)\u001b[0m\n\u001b[1;32m    360\u001b[0m \u001b[39mif\u001b[39;00m name \u001b[39m==\u001b[39m \u001b[39m'\u001b[39m\u001b[39m'\u001b[39m:\n\u001b[1;32m    361\u001b[0m     \u001b[39m# can only be a matlab 7 function workspace\u001b[39;00m\n\u001b[1;32m    362\u001b[0m     name \u001b[39m=\u001b[39m \u001b[39m'\u001b[39m\u001b[39m__function_workspace__\u001b[39m\u001b[39m'\u001b[39m\n\u001b[0;32m--> 364\u001b[0m shape \u001b[39m=\u001b[39m \u001b[39mself\u001b[39m\u001b[39m.\u001b[39m_matrix_reader\u001b[39m.\u001b[39mshape_from_header(hdr)\n\u001b[1;32m    365\u001b[0m \u001b[39mif\u001b[39;00m hdr\u001b[39m.\u001b[39mis_logical:\n\u001b[1;32m    366\u001b[0m     info \u001b[39m=\u001b[39m \u001b[39m'\u001b[39m\u001b[39mlogical\u001b[39m\u001b[39m'\u001b[39m\n",
      "File \u001b[0;32m_mio5_utils.pyx:747\u001b[0m, in \u001b[0;36mscipy.io.matlab._mio5_utils.VarReader5.shape_from_header\u001b[0;34m()\u001b[0m\n",
      "\u001b[0;31mTypeError\u001b[0m: 'NoneType' object is not iterable"
     ]
    }
   ],
   "source": [
    "# Look at what's in the matfiles\n",
    "\n",
    "for matfile in matfiles:\n",
    "    print(matfile)\n",
    "    # print the keys\n",
    "    print(sio.whosmat(matfile))"
   ]
  },
  {
   "cell_type": "code",
   "execution_count": 13,
   "metadata": {},
   "outputs": [],
   "source": [
    "# Save the matfiles as pickle files\n",
    "mats = []\n",
    "for matfile in matfiles:\n",
    "    mats.append(sio.loadmat(matfile,simplify_cells=True,mat_dtype=True))\n",
    "    # pickle.dump(mat, open(matfile[:-4] + '.p', 'wb'))"
   ]
  },
  {
   "cell_type": "code",
   "execution_count": 4,
   "metadata": {},
   "outputs": [],
   "source": [
    "mat = mats[1] #['BowtieSpecs'][0][0][3]"
   ]
  },
  {
   "cell_type": "code",
   "execution_count": 6,
   "metadata": {},
   "outputs": [
    {
     "name": "stdout",
     "output_type": "stream",
     "text": [
      "%pylab is deprecated, use %matplotlib inline and import the required libraries.\n",
      "Populating the interactive namespace from numpy and matplotlib\n"
     ]
    },
    {
     "name": "stderr",
     "output_type": "stream",
     "text": [
      "/home/jericho/anaconda3/envs/tigre_fastcat/lib/python3.11/site-packages/IPython/core/magics/pylab.py:162: UserWarning: pylab import has clobbered these variables: ['mat']\n",
      "`%matplotlib` prevents importing * from pylab and numpy\n",
      "  warn(\"pylab import has clobbered these variables: %s\"  % clobbered +\n"
     ]
    }
   ],
   "source": [
    "%pylab inline\n"
   ]
  },
  {
   "cell_type": "code",
   "execution_count": null,
   "metadata": {},
   "outputs": [],
   "source": [
    "\n",
    "plt.figure()\n",
    "plt.plot(mats[1]['BowtieSpecs'][0][0][2].T,mats[1]['BowtieSpecs'][0][0][3].T)\n",
    "\n",
    "plt.figure()\n",
    "plt.plot(mats[1]['BowtieSpecs'][0][0][2].T,mats[1]['BowtieSpecs'][0][0][3].T)"
   ]
  },
  {
   "cell_type": "code",
   "execution_count": 7,
   "metadata": {},
   "outputs": [
    {
     "ename": "KeyError",
     "evalue": "'phantomSpecs'",
     "output_type": "error",
     "traceback": [
      "\u001b[0;31m---------------------------------------------------------------------------\u001b[0m",
      "\u001b[0;31mKeyError\u001b[0m                                  Traceback (most recent call last)",
      "\u001b[1;32m/home/jericho/1-Workspace/opengate_ggems_comparison/water_cylinder/load_matfiles.ipynb Cell 7\u001b[0m line \u001b[0;36m2\n\u001b[1;32m      <a href='vscode-notebook-cell:/home/jericho/1-Workspace/opengate_ggems_comparison/water_cylinder/load_matfiles.ipynb#W5sZmlsZQ%3D%3D?line=0'>1</a>\u001b[0m plt\u001b[39m.\u001b[39mfigure()\n\u001b[0;32m----> <a href='vscode-notebook-cell:/home/jericho/1-Workspace/opengate_ggems_comparison/water_cylinder/load_matfiles.ipynb#W5sZmlsZQ%3D%3D?line=1'>2</a>\u001b[0m plt\u001b[39m.\u001b[39mplot(mats[\u001b[39m0\u001b[39m][\u001b[39m'\u001b[39m\u001b[39mphantomSpecs\u001b[39m\u001b[39m'\u001b[39m][\u001b[39m0\u001b[39m][\u001b[39m0\u001b[39m][\u001b[39m2\u001b[39m]\u001b[39m.\u001b[39mT,mats[\u001b[39m0\u001b[39m][\u001b[39m'\u001b[39m\u001b[39mphantomSpecs\u001b[39m\u001b[39m'\u001b[39m][\u001b[39m0\u001b[39m][\u001b[39m0\u001b[39m][\u001b[39m3\u001b[39m]\u001b[39m.\u001b[39mT)\n",
      "\u001b[0;31mKeyError\u001b[0m: 'phantomSpecs'"
     ]
    },
    {
     "data": {
      "text/plain": [
       "<Figure size 640x480 with 0 Axes>"
      ]
     },
     "metadata": {},
     "output_type": "display_data"
    }
   ],
   "source": [
    "plt.figure()\n",
    "plt.plot(mats[0][]"
   ]
  },
  {
   "cell_type": "code",
   "execution_count": 15,
   "metadata": {},
   "outputs": [],
   "source": [
    "att_data = pd.DataFrame(mats[0]['attenuationData'])"
   ]
  },
  {
   "cell_type": "code",
   "execution_count": null,
   "metadata": {},
   "outputs": [],
   "source": []
  }
 ],
 "metadata": {
  "kernelspec": {
   "display_name": "tigre_fastcat",
   "language": "python",
   "name": "python3"
  },
  "language_info": {
   "codemirror_mode": {
    "name": "ipython",
    "version": 3
   },
   "file_extension": ".py",
   "mimetype": "text/x-python",
   "name": "python",
   "nbconvert_exporter": "python",
   "pygments_lexer": "ipython3",
   "version": "3.11.5"
  }
 },
 "nbformat": 4,
 "nbformat_minor": 2
}
