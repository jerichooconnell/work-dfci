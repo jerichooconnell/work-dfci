{
 "cells": [
  {
   "cell_type": "code",
   "execution_count": 5,
   "metadata": {},
   "outputs": [
    {
     "name": "stdout",
     "output_type": "stream",
     "text": [
      "[2023-11-30 12:01:14,418] {pyplot.py:414} DEBUG - Loaded backend QtAgg version 5.15.7.\n",
      "%pylab is deprecated, use %matplotlib inline and import the required libraries.\n",
      "Populating the interactive namespace from numpy and matplotlib\n"
     ]
    },
    {
     "name": "stderr",
     "output_type": "stream",
     "text": [
      "/home/jericho/anaconda3/envs/tigre_fastcat/lib/python3.11/site-packages/IPython/core/magics/pylab.py:162: UserWarning: pylab import has clobbered these variables: ['f', 'det']\n",
      "`%matplotlib` prevents importing * from pylab and numpy\n",
      "  warn(\"pylab import has clobbered these variables: %s\"  % clobbered +\n"
     ]
    }
   ],
   "source": [
    "%pylab qt"
   ]
  },
  {
   "cell_type": "code",
   "execution_count": 6,
   "metadata": {},
   "outputs": [],
   "source": [
    "from skimage.restoration import denoise_tv_chambolle"
   ]
  },
  {
   "cell_type": "code",
   "execution_count": 7,
   "metadata": {},
   "outputs": [
    {
     "name": "stdout",
     "output_type": "stream",
     "text": [
      "Done loading simulation parameters from /home/jericho/1-Workspace/opengate_ggems_comparison/fastcat_scatter_test/test/ggems_1e03_121kVp.pkl\n",
      "[2023-11-30 12:01:30,210] {simulate.py:476} INFO -     Interp scatter 512 to 512 pixels\n",
      "[2023-11-30 12:01:30,211] {simulate.py:476} INFO -     Interp scatter 512 to 512 pixels\n",
      "[2023-11-30 12:01:31,051] {simulate.py:579} INFO - Running Simulations\n",
      "[2023-11-30 12:01:31,052] {simulate.py:606} INFO -     Simulating 10 keV\n",
      "[2023-11-30 12:01:31,452] {simulate.py:606} INFO -     Simulating 20 keV\n",
      "[2023-11-30 12:01:31,856] {simulate.py:606} INFO -     Simulating 30 keV\n",
      "[2023-11-30 12:01:32,257] {simulate.py:606} INFO -     Simulating 40 keV\n",
      "[2023-11-30 12:01:32,652] {simulate.py:606} INFO -     Simulating 50 keV\n",
      "[2023-11-30 12:01:33,039] {simulate.py:606} INFO -     Simulating 60 keV\n",
      "[2023-11-30 12:01:33,439] {simulate.py:606} INFO -     Simulating 70 keV\n",
      "[2023-11-30 12:01:33,839] {simulate.py:606} INFO -     Simulating 80 keV\n",
      "[2023-11-30 12:01:34,250] {simulate.py:606} INFO -     Simulating 90 keV\n",
      "[2023-11-30 12:01:34,650] {simulate.py:606} INFO -     Simulating 100 keV\n",
      "[2023-11-30 12:01:35,050] {simulate.py:821} INFO - Weighting simulations\n",
      "[2023-11-30 12:01:35,051] {simulate.py:904} INFO -     No noise was added\n"
     ]
    }
   ],
   "source": [
    "# %%\n",
    "# Test the fastcat mhd file reader from fastcat.utils\n",
    "import numpy as np\n",
    "import fastcat as fc\n",
    "import pickle \n",
    "#%%\n",
    "pickle_file = '/home/jericho/1-Workspace/opengate_ggems_comparison/fastcat_scatter_test/test/ggems_1e03_121kVp.pkl'\n",
    "\n",
    "# Load the fastcat simulation from the pickle file\n",
    "with open(pickle_file, 'rb') as f:\n",
    "    phantom = pickle.load(f)\n",
    "    print('Done loading simulation parameters from ' + pickle_file)\n",
    "\n",
    "# Get the simulation parameters\n",
    "simulation_parameters = phantom.simulation_parameters\n",
    "detector_material = simulation_parameters['detector_material']\n",
    "spectrum = simulation_parameters['spectrum']\n",
    "\n",
    "# Load the spectrum as a fastcat spectrum object\n",
    "s = fc.Spectrum()\n",
    "s.load(spectrum_file=spectrum)\n",
    "\n",
    "det = fc.Detector(s,'CsI-784-micrometer')\n",
    "angles = np.linspace(0,np.pi*2,2,endpoint=False) \n",
    "\n",
    "# return the projections\n",
    "phantom.return_projs(det,s,angles,mgy=0, \n",
    "                    ASG=False, scat_on=False,\n",
    "                    det_on=False,\n",
    "                    filter_on=False,\n",
    "                    return_intensity=True)\n"
   ]
  },
  {
   "cell_type": "code",
   "execution_count": 8,
   "metadata": {},
   "outputs": [
    {
     "data": {
      "text/plain": [
       "[<matplotlib.lines.Line2D at 0x7f11ebc35350>]"
      ]
     },
     "execution_count": 8,
     "metadata": {},
     "output_type": "execute_result"
    }
   ],
   "source": [
    "\n",
    "# kv_max = spectrum.x.max()\n",
    "\n",
    "# %%\n",
    "# Read in the first mhd file from the ggems_scatter simulation\n",
    "mhd_file = '/home/jericho/1-Workspace/opengate_ggems_comparison/fastcat_scatter_test/test/out/ggems_1e09_121kVp_0000.mhd'\n",
    "mhd_scatter_file = '/home/jericho/1-Workspace/opengate_ggems_comparison/fastcat_scatter_test/test/out/ggems_1e09_121kVp_0000-scatter.mhd'\n",
    "\n",
    "fc_projection = phantom.intensity[0]\n",
    "\n",
    "# image1_path = '/home/jericho/1-Workspace/opengate_ggems_comparison/catphan/out/ggems_1e09_121kVp_edepTrue_edep.mhd'\n",
    "# fc_projection = fc.utils.read_mhd(mhd_file)\n",
    "\n",
    "# ggems_primary = np.fliplr(image1)\n",
    "# Read the mhd file from data\n",
    "ggems_projection = fc.utils.read_mhd2(mhd_file)\n",
    "ggems_projection_scatter = fc.utils.read_mhd2(mhd_scatter_file)\n",
    "\n",
    "ggems_primary = ggems_projection - ggems_projection_scatter\n",
    "\n",
    "# Crop the ggems and fastcat projection\n",
    "edge = 1\n",
    "ggems_primary = ggems_primary[:-edge,:]\n",
    "fc_projection = fc_projection[:-edge,:]\n",
    "\n",
    "# define the standard scaler function\n",
    "def standard_scaler_ref(x, edge):\n",
    "    return (x - x[edge:-edge,edge:-edge].mean()) / x[edge:-edge,edge:-edge].std(), x[edge:-edge,edge:-edge].mean(), x[edge:-edge,edge:-edge].std()\n",
    "\n",
    "def rescale(x_new, mean, std, edge=10):\n",
    "    # x_new = (x - x[edge:-edge,edge:-edge].mean()) / x[edge:-edge,edge:-edge].std()\n",
    "    return x_new * std + mean\n",
    "\n",
    "\n",
    "fc_projection, fc_mean, fc_std = standard_scaler_ref(fc_projection,edge=30)\n",
    "ggems_rescale, ggems_mean, ggems_std = standard_scaler_ref(ggems_primary,edge=30)\n",
    "\n",
    "phantom.fc_parameters = {}\n",
    "phantom.fc_parameters['fc_mean'] = fc_mean\n",
    "phantom.fc_parameters['fc_std'] = fc_std\n",
    "phantom.fc_parameters['ggems_mean'] = ggems_mean\n",
    "phantom.fc_parameters['ggems_std'] = ggems_std\n",
    "\n",
    "# Rescale the fastcat projection to match the ggems projection\n",
    "fc_projection = rescale(fc_projection, ggems_mean, ggems_std)\n",
    "\n",
    "# Make a plot of the fc_projection and the ggems_primary projection\n",
    "import matplotlib.pyplot as plt\n",
    "plt.figure()\n",
    "plt.plot(np.mean(fc_projection,axis=0))\n",
    "plt.plot(np.mean(ggems_primary,axis=0))"
   ]
  },
  {
   "cell_type": "code",
   "execution_count": 10,
   "metadata": {},
   "outputs": [],
   "source": [
    "import mpl_interactions as pli"
   ]
  },
  {
   "cell_type": "code",
   "execution_count": 12,
   "metadata": {},
   "outputs": [],
   "source": [
    "# Now lets use these as a normalization factor for fastcat\n",
    "import glob\n",
    "# And lets interpolate the ggems scatter and denoise it as well\n",
    "from scipy.interpolate import interpn\n",
    "\n",
    "# Load all of the scatter files\n",
    "ggems_scatter_files = glob.glob('/home/jericho/1-Workspace/opengate_ggems_comparison/fastcat_scatter_test/test/out/ggems_1e09_121kVp_*-scatter.mhd')\n",
    "ggems_scatter_files.sort()\n",
    "\n",
    "# Load the first scatter file\n",
    "ggems_scatter = fc.utils.read_mhd2(ggems_scatter_files[0])\n",
    "\n",
    "# Create an array to store the scatter projections\n",
    "ggems_scatter_projections = np.zeros((len(ggems_scatter_files), ggems_scatter.shape[0], ggems_scatter.shape[1]))\n",
    "\n",
    "# Loop through the scatter files and store them in the array\n",
    "for i, file in enumerate(ggems_scatter_files):\n",
    "    ggems_scatter = fc.utils.read_mhd2(file)\n",
    "    ggems_scatter_projections[i,:,:] = ggems_scatter\n",
    "\n",
    "# Visualize using hyperslicer\n",
    "plt.figure()\n",
    "controls = pli.hyperslicer(ggems_scatter_projections, axis=0,autoscale_cmap=False)\n",
    "# denoise the ggems scatter\n"
   ]
  },
  {
   "cell_type": "code",
   "execution_count": 13,
   "metadata": {},
   "outputs": [
    {
     "data": {
      "text/plain": [
       "<matplotlib.image.AxesImage at 0x7f11c6a67c50>"
      ]
     },
     "execution_count": 13,
     "metadata": {},
     "output_type": "execute_result"
    }
   ],
   "source": [
    "plt.figure()\n",
    "plt.imshow(np.mean(ggems_scatter_projections,axis=0))"
   ]
  },
  {
   "cell_type": "code",
   "execution_count": 14,
   "metadata": {},
   "outputs": [
    {
     "ename": "KeyboardInterrupt",
     "evalue": "",
     "output_type": "error",
     "traceback": [
      "\u001b[0;31m---------------------------------------------------------------------------\u001b[0m",
      "\u001b[0;31mKeyboardInterrupt\u001b[0m                         Traceback (most recent call last)",
      "\u001b[1;32m/home/jericho/1-Workspace/opengate_ggems_comparison/fastcat_scatter_test/test.ipynb Cell 8\u001b[0m line \u001b[0;36m4\n\u001b[1;32m      <a href='vscode-notebook-cell:/home/jericho/1-Workspace/opengate_ggems_comparison/fastcat_scatter_test/test.ipynb#W6sZmlsZQ%3D%3D?line=0'>1</a>\u001b[0m denoised \u001b[39m=\u001b[39m np\u001b[39m.\u001b[39mzeros_like(ggems_scatter_projections)\n\u001b[1;32m      <a href='vscode-notebook-cell:/home/jericho/1-Workspace/opengate_ggems_comparison/fastcat_scatter_test/test.ipynb#W6sZmlsZQ%3D%3D?line=2'>3</a>\u001b[0m \u001b[39mfor\u001b[39;00m ii, image \u001b[39min\u001b[39;00m \u001b[39menumerate\u001b[39m(ggems_scatter_projections):\n\u001b[0;32m----> <a href='vscode-notebook-cell:/home/jericho/1-Workspace/opengate_ggems_comparison/fastcat_scatter_test/test.ipynb#W6sZmlsZQ%3D%3D?line=3'>4</a>\u001b[0m     denoised[ii,:,:] \u001b[39m=\u001b[39m denoise_tv_chambolle(image, weight\u001b[39m=\u001b[39m\u001b[39m4\u001b[39m, eps\u001b[39m=\u001b[39m\u001b[39m1e-5\u001b[39m, max_num_iter\u001b[39m=\u001b[39m\u001b[39m200\u001b[39m)\n",
      "File \u001b[0;32m~/anaconda3/envs/tigre_fastcat/lib/python3.11/site-packages/skimage/restoration/_denoise.py:562\u001b[0m, in \u001b[0;36mdenoise_tv_chambolle\u001b[0;34m(image, weight, eps, max_num_iter, channel_axis)\u001b[0m\n\u001b[1;32m    559\u001b[0m         out[_at(c)] \u001b[39m=\u001b[39m _denoise_tv_chambolle_nd(image[_at(c)], weight, eps,\n\u001b[1;32m    560\u001b[0m                                                max_num_iter)\n\u001b[1;32m    561\u001b[0m \u001b[39melse\u001b[39;00m:\n\u001b[0;32m--> 562\u001b[0m     out \u001b[39m=\u001b[39m _denoise_tv_chambolle_nd(image, weight, eps, max_num_iter)\n\u001b[1;32m    563\u001b[0m \u001b[39mreturn\u001b[39;00m out\n",
      "File \u001b[0;32m~/anaconda3/envs/tigre_fastcat/lib/python3.11/site-packages/skimage/restoration/_denoise.py:430\u001b[0m, in \u001b[0;36m_denoise_tv_chambolle_nd\u001b[0;34m(image, weight, eps, max_num_iter)\u001b[0m\n\u001b[1;32m    427\u001b[0m     slices_g[ax\u001b[39m+\u001b[39m\u001b[39m1\u001b[39m] \u001b[39m=\u001b[39m \u001b[39mslice\u001b[39m(\u001b[39mNone\u001b[39;00m)\n\u001b[1;32m    429\u001b[0m norm \u001b[39m=\u001b[39m np\u001b[39m.\u001b[39msqrt((g \u001b[39m*\u001b[39m\u001b[39m*\u001b[39m \u001b[39m2\u001b[39m)\u001b[39m.\u001b[39msum(axis\u001b[39m=\u001b[39m\u001b[39m0\u001b[39m))[np\u001b[39m.\u001b[39mnewaxis, \u001b[39m.\u001b[39m\u001b[39m.\u001b[39m\u001b[39m.\u001b[39m]\n\u001b[0;32m--> 430\u001b[0m E \u001b[39m+\u001b[39m\u001b[39m=\u001b[39m weight \u001b[39m*\u001b[39m norm\u001b[39m.\u001b[39msum()\n\u001b[1;32m    431\u001b[0m tau \u001b[39m=\u001b[39m \u001b[39m1.\u001b[39m \u001b[39m/\u001b[39m (\u001b[39m2.\u001b[39m\u001b[39m*\u001b[39mndim)\n\u001b[1;32m    432\u001b[0m norm \u001b[39m*\u001b[39m\u001b[39m=\u001b[39m tau \u001b[39m/\u001b[39m weight\n",
      "File \u001b[0;32m~/anaconda3/envs/tigre_fastcat/lib/python3.11/site-packages/numpy/core/_methods.py:47\u001b[0m, in \u001b[0;36m_sum\u001b[0;34m(a, axis, dtype, out, keepdims, initial, where)\u001b[0m\n\u001b[1;32m     43\u001b[0m \u001b[39mdef\u001b[39;00m \u001b[39m_amin\u001b[39m(a, axis\u001b[39m=\u001b[39m\u001b[39mNone\u001b[39;00m, out\u001b[39m=\u001b[39m\u001b[39mNone\u001b[39;00m, keepdims\u001b[39m=\u001b[39m\u001b[39mFalse\u001b[39;00m,\n\u001b[1;32m     44\u001b[0m           initial\u001b[39m=\u001b[39m_NoValue, where\u001b[39m=\u001b[39m\u001b[39mTrue\u001b[39;00m):\n\u001b[1;32m     45\u001b[0m     \u001b[39mreturn\u001b[39;00m umr_minimum(a, axis, \u001b[39mNone\u001b[39;00m, out, keepdims, initial, where)\n\u001b[0;32m---> 47\u001b[0m \u001b[39mdef\u001b[39;00m \u001b[39m_sum\u001b[39m(a, axis\u001b[39m=\u001b[39m\u001b[39mNone\u001b[39;00m, dtype\u001b[39m=\u001b[39m\u001b[39mNone\u001b[39;00m, out\u001b[39m=\u001b[39m\u001b[39mNone\u001b[39;00m, keepdims\u001b[39m=\u001b[39m\u001b[39mFalse\u001b[39;00m,\n\u001b[1;32m     48\u001b[0m          initial\u001b[39m=\u001b[39m_NoValue, where\u001b[39m=\u001b[39m\u001b[39mTrue\u001b[39;00m):\n\u001b[1;32m     49\u001b[0m     \u001b[39mreturn\u001b[39;00m umr_sum(a, axis, dtype, out, keepdims, initial, where)\n\u001b[1;32m     51\u001b[0m \u001b[39mdef\u001b[39;00m \u001b[39m_prod\u001b[39m(a, axis\u001b[39m=\u001b[39m\u001b[39mNone\u001b[39;00m, dtype\u001b[39m=\u001b[39m\u001b[39mNone\u001b[39;00m, out\u001b[39m=\u001b[39m\u001b[39mNone\u001b[39;00m, keepdims\u001b[39m=\u001b[39m\u001b[39mFalse\u001b[39;00m,\n\u001b[1;32m     52\u001b[0m           initial\u001b[39m=\u001b[39m_NoValue, where\u001b[39m=\u001b[39m\u001b[39mTrue\u001b[39;00m):\n",
      "\u001b[0;31mKeyboardInterrupt\u001b[0m: "
     ]
    }
   ],
   "source": [
    "denoised = np.zeros_like(ggems_scatter_projections)\n",
    "\n",
    "for ii, image in enumerate(ggems_scatter_projections):\n",
    "    denoised[ii,:,:] = denoise_tv_chambolle(image, weight=4, eps=1e-5, max_num_iter=200)\n"
   ]
  },
  {
   "cell_type": "code",
   "execution_count": 43,
   "metadata": {},
   "outputs": [
    {
     "data": {
      "text/plain": [
       "<matplotlib.image.AxesImage at 0x7fb15d482810>"
      ]
     },
     "execution_count": 43,
     "metadata": {},
     "output_type": "execute_result"
    }
   ],
   "source": [
    "from skimage.restoration import denoise_tv_chambolle, denoise_tv_bregman\n",
    "\n",
    "# Try a bunch of different weights\n",
    "std_devs = []\n",
    "hq_im = np.mean(ggems_scatter_projections,axis=0)\n",
    "weights = np.linspace(0.1,4,20)\n",
    "for weight in weights:\n",
    "\n",
    "    denoised = denoise_tv_chambolle(image, weight=weight, max_num_iter=200)\n",
    "    # append the rmse of the denoised image compared to the high quality image\n",
    "    std_devs.append(np.sqrt(np.mean((denoised - hq_im)**2)))\n",
    "\n",
    "plt.figure()\n",
    "plt.plot(weights,std_devs)\n",
    "\n",
    "# Could I do the same thing but also check what eps is best?\n",
    "# Try a bunch of different weights\n",
    "std_devs = []\n",
    "hq_im = np.mean(ggems_scatter_projections,axis=0)\n",
    "weights = np.linspace(0.1,4,10)\n",
    "epsilons = np.linspace(1e-4,1e-2,10)\n",
    "for ii, weight in enumerate(weights):\n",
    "    std_devs.append([])\n",
    "    for eps in epsilons:\n",
    "        denoised = denoise_tv_bregman(image, weight=weight, eps=eps, max_num_iter=200)\n",
    "        # append the rmse of the denoised image compared to the high quality image\n",
    "        std_devs[ii].append(np.sqrt(np.mean((denoised - hq_im)**2)))\n",
    "\n",
    "plt.figure()\n",
    "plt.imshow(std_devs)"
   ]
  },
  {
   "cell_type": "code",
   "execution_count": 33,
   "metadata": {},
   "outputs": [],
   "source": [
    "# Now lets try the same thing with gaussian denoising\n",
    "from skimage.restoration import denoise_nl_means, estimate_sigma\n",
    "\n",
    "# Try a bunch of different weights\n",
    "std_devs = []\n",
    "hq_im = np.mean(ggems_scatter_projections,axis=0)\n",
    "weights = np.linspace(0.1,4,20)\n",
    "# epsilons = np.linspace(1e-5,1e-3,20)\n",
    "for ii, weight in enumerate(weights):\n",
    "\n",
    "    denoised = denoise_nl_means(image, patch_size=5, patch_distance=3, h=weight*estimate_sigma(image), fast_mode=True)\n",
    "    # append the rmse of the denoised image compared to the high quality image\n",
    "    std_devs.append(np.sqrt(np.mean((denoised - hq_im)**2)))"
   ]
  },
  {
   "cell_type": "code",
   "execution_count": 35,
   "metadata": {},
   "outputs": [
    {
     "data": {
      "text/plain": [
       "<matplotlib.image.AxesImage at 0x7fb18d76e310>"
      ]
     },
     "execution_count": 35,
     "metadata": {},
     "output_type": "execute_result"
    }
   ],
   "source": [
    "plt.figure()\n",
    "plt.imshow(denoised)"
   ]
  },
  {
   "cell_type": "code",
   "execution_count": 29,
   "metadata": {},
   "outputs": [
    {
     "ename": "AttributeError",
     "evalue": "'Controls' object has no attribute 'vbox'",
     "output_type": "error",
     "traceback": [
      "\u001b[0;31m---------------------------------------------------------------------------\u001b[0m",
      "\u001b[0;31mAttributeError\u001b[0m                            Traceback (most recent call last)",
      "File \u001b[0;32m~/anaconda3/envs/tigre_fastcat/lib/python3.11/site-packages/IPython/core/formatters.py:922\u001b[0m, in \u001b[0;36mIPythonDisplayFormatter.__call__\u001b[0;34m(self, obj)\u001b[0m\n\u001b[1;32m    920\u001b[0m method \u001b[39m=\u001b[39m get_real_method(obj, \u001b[39mself\u001b[39m\u001b[39m.\u001b[39mprint_method)\n\u001b[1;32m    921\u001b[0m \u001b[39mif\u001b[39;00m method \u001b[39mis\u001b[39;00m \u001b[39mnot\u001b[39;00m \u001b[39mNone\u001b[39;00m:\n\u001b[0;32m--> 922\u001b[0m     method()\n\u001b[1;32m    923\u001b[0m     \u001b[39mreturn\u001b[39;00m \u001b[39mTrue\u001b[39;00m\n",
      "File \u001b[0;32m~/anaconda3/envs/tigre_fastcat/lib/python3.11/site-packages/mpl_interactions/controller.py:349\u001b[0m, in \u001b[0;36mControls._ipython_display_\u001b[0;34m(self)\u001b[0m\n\u001b[1;32m    348\u001b[0m \u001b[39mdef\u001b[39;00m \u001b[39m_ipython_display_\u001b[39m(\u001b[39mself\u001b[39m):\n\u001b[0;32m--> 349\u001b[0m     ipy_display(\u001b[39mself\u001b[39m\u001b[39m.\u001b[39mvbox)\n",
      "\u001b[0;31mAttributeError\u001b[0m: 'Controls' object has no attribute 'vbox'"
     ]
    },
    {
     "data": {
      "text/plain": [
       "<mpl_interactions.controller.Controls at 0x7fb1b00d8490>"
      ]
     },
     "execution_count": 29,
     "metadata": {},
     "output_type": "execute_result"
    }
   ],
   "source": [
    "plt.figure()\n",
    "pli.hyperslicer(denoised, axis=0,autoscale_cmap=False)"
   ]
  },
  {
   "cell_type": "code",
   "execution_count": 41,
   "metadata": {},
   "outputs": [],
   "source": [
    "import numpy as np\n",
    "from matplotlib import pyplot as plt\n",
    "\n",
    "from skimage.data import chelsea\n",
    "from skimage.restoration import calibrate_denoiser, denoise_wavelet\n",
    "\n",
    "from skimage.util import img_as_float, random_noise\n",
    "from functools import partial\n",
    "\n",
    "# rescale_sigma=True required to silence deprecation warnings\n",
    "_denoise_wavelet = partial(denoise_wavelet, rescale_sigma=True)\n",
    "\n",
    "noisy = img_as_float(image)\n",
    "sigma = 0.3\n",
    "# noisy = random_noise(image, var=sigma ** 2)\n",
    "\n",
    "weights = np.linspace(0.1,4,10)\n",
    "epsilons = np.linspace(1e-4,1e-2,10)\n",
    "\n",
    "# Parameters to test when calibrating the denoising algorithm\n",
    "parameter_ranges = {'sigma': np.arange(0.1, 0.3, 0.02),\n",
    "                    'wavelet': ['db1', 'db2'],\n",
    "                    'convert2ycbcr': [ False]}\n",
    "\n",
    "# Denoised image using default parameters of `denoise_wavelet`\n",
    "default_output = denoise_wavelet(noisy, rescale_sigma=False)\n",
    "\n",
    "# Calibrate denoiser\n",
    "calibrated_denoiser = calibrate_denoiser(noisy,\n",
    "                                         _denoise_wavelet,\n",
    "                                         denoise_parameters=parameter_ranges)\n",
    "\n",
    "# Denoised image using calibrated denoiser\n",
    "calibrated_output = calibrated_denoiser(noisy)\n",
    "\n",
    "fig, axes = plt.subplots(1, 3, sharex=True, sharey=True, figsize=(15, 5))\n",
    "\n",
    "for ax, img, title in zip(\n",
    "        axes,\n",
    "        [noisy, default_output, calibrated_output],\n",
    "        ['Noisy Image', 'Denoised (Default)', 'Denoised (Calibrated)']\n",
    "):\n",
    "    ax.imshow(img)\n",
    "    ax.set_title(title)\n",
    "    ax.set_yticks([])\n",
    "    ax.set_xticks([])\n",
    "\n",
    "plt.show()"
   ]
  },
  {
   "cell_type": "code",
   "execution_count": 40,
   "metadata": {},
   "outputs": [
    {
     "data": {
      "text/plain": [
       "<matplotlib.image.AxesImage at 0x7fb15de1bd10>"
      ]
     },
     "execution_count": 40,
     "metadata": {},
     "output_type": "execute_result"
    }
   ],
   "source": [
    "plt.figure()\n",
    "plt.imshow(noisy)"
   ]
  },
  {
   "cell_type": "code",
   "execution_count": 64,
   "metadata": {},
   "outputs": [
    {
     "name": "stdout",
     "output_type": "stream",
     "text": [
      "Minimum self-supervised loss TV: 21.2743\n"
     ]
    },
    {
     "ename": "ValueError",
     "evalue": "image_true has intensity values outside the range expected for its data type. Please manually specify the data_range.",
     "output_type": "error",
     "traceback": [
      "\u001b[0;31m---------------------------------------------------------------------------\u001b[0m",
      "\u001b[0;31mValueError\u001b[0m                                Traceback (most recent call last)",
      "\u001b[1;32m/home/jericho/1-Workspace/opengate_ggems_comparison/fastcat_scatter_test/test.ipynb Cell 14\u001b[0m line \u001b[0;36m3\n\u001b[1;32m     <a href='vscode-notebook-cell:/home/jericho/1-Workspace/opengate_ggems_comparison/fastcat_scatter_test/test.ipynb#X16sZmlsZQ%3D%3D?line=31'>32</a>\u001b[0m denoised_calibrated_tv \u001b[39m=\u001b[39m _invariant_denoise(noisy, denoise_tv_chambolle,\n\u001b[1;32m     <a href='vscode-notebook-cell:/home/jericho/1-Workspace/opengate_ggems_comparison/fastcat_scatter_test/test.ipynb#X16sZmlsZQ%3D%3D?line=32'>33</a>\u001b[0m                                             denoiser_kwargs\u001b[39m=\u001b[39mbest_parameters_tv)\n\u001b[1;32m     <a href='vscode-notebook-cell:/home/jericho/1-Workspace/opengate_ggems_comparison/fastcat_scatter_test/test.ipynb#X16sZmlsZQ%3D%3D?line=33'>34</a>\u001b[0m denoised_default_tv \u001b[39m=\u001b[39m denoise_tv_chambolle(noisy, \u001b[39m*\u001b[39m\u001b[39m*\u001b[39mbest_parameters_tv)\n\u001b[0;32m---> <a href='vscode-notebook-cell:/home/jericho/1-Workspace/opengate_ggems_comparison/fastcat_scatter_test/test.ipynb#X16sZmlsZQ%3D%3D?line=35'>36</a>\u001b[0m psnr_calibrated_tv \u001b[39m=\u001b[39m psnr(image, denoised_calibrated_tv)\n\u001b[1;32m     <a href='vscode-notebook-cell:/home/jericho/1-Workspace/opengate_ggems_comparison/fastcat_scatter_test/test.ipynb#X16sZmlsZQ%3D%3D?line=36'>37</a>\u001b[0m psnr_default_tv \u001b[39m=\u001b[39m psnr(image, denoised_default_tv)\n\u001b[1;32m     <a href='vscode-notebook-cell:/home/jericho/1-Workspace/opengate_ggems_comparison/fastcat_scatter_test/test.ipynb#X16sZmlsZQ%3D%3D?line=38'>39</a>\u001b[0m parameter_ranges_wavelet \u001b[39m=\u001b[39m {\u001b[39m'\u001b[39m\u001b[39msigma\u001b[39m\u001b[39m'\u001b[39m: np\u001b[39m.\u001b[39marange(\u001b[39m0.01\u001b[39m, \u001b[39m0.3\u001b[39m, \u001b[39m0.03\u001b[39m)}\n",
      "File \u001b[0;32m~/anaconda3/envs/tigre_fastcat/lib/python3.11/site-packages/skimage/metrics/simple_metrics.py:151\u001b[0m, in \u001b[0;36mpeak_signal_noise_ratio\u001b[0;34m(image_true, image_test, data_range)\u001b[0m\n\u001b[1;32m    149\u001b[0m true_min, true_max \u001b[39m=\u001b[39m np\u001b[39m.\u001b[39mmin(image_true), np\u001b[39m.\u001b[39mmax(image_true)\n\u001b[1;32m    150\u001b[0m \u001b[39mif\u001b[39;00m true_max \u001b[39m>\u001b[39m dmax \u001b[39mor\u001b[39;00m true_min \u001b[39m<\u001b[39m dmin:\n\u001b[0;32m--> 151\u001b[0m     \u001b[39mraise\u001b[39;00m \u001b[39mValueError\u001b[39;00m(\n\u001b[1;32m    152\u001b[0m         \u001b[39m\"\u001b[39m\u001b[39mimage_true has intensity values outside the range expected \u001b[39m\u001b[39m\"\u001b[39m\n\u001b[1;32m    153\u001b[0m         \u001b[39m\"\u001b[39m\u001b[39mfor its data type. Please manually specify the data_range.\u001b[39m\u001b[39m\"\u001b[39m)\n\u001b[1;32m    154\u001b[0m \u001b[39mif\u001b[39;00m true_min \u001b[39m>\u001b[39m\u001b[39m=\u001b[39m \u001b[39m0\u001b[39m:\n\u001b[1;32m    155\u001b[0m     \u001b[39m# most common case (255 for uint8, 1 for float)\u001b[39;00m\n\u001b[1;32m    156\u001b[0m     data_range \u001b[39m=\u001b[39m dmax\n",
      "\u001b[0;31mValueError\u001b[0m: image_true has intensity values outside the range expected for its data type. Please manually specify the data_range."
     ]
    }
   ],
   "source": [
    "import numpy as np\n",
    "from matplotlib import pyplot as plt\n",
    "from matplotlib import gridspec\n",
    "\n",
    "from skimage.data import chelsea, hubble_deep_field\n",
    "from skimage.metrics import mean_squared_error as mse\n",
    "from skimage.metrics import peak_signal_noise_ratio as psnr\n",
    "from skimage.restoration import (calibrate_denoiser,\n",
    "                                 denoise_wavelet,\n",
    "                                 denoise_tv_chambolle, denoise_nl_means,\n",
    "                                 estimate_sigma)\n",
    "from skimage.util import img_as_float, random_noise\n",
    "from skimage.color import rgb2gray\n",
    "from functools import partial\n",
    "\n",
    "\n",
    "from skimage.restoration.j_invariant import _invariant_denoise\n",
    "\n",
    "image = hq_im\n",
    "sigma = 0.4\n",
    "noisy = ggems_scatter_projections[0] #random_noise(image, mode='speckle', var=sigma ** 2)\n",
    "\n",
    "parameter_ranges_tv = {'weight': np.arange(0.01, 0.3, 0.02)}\n",
    "_, (parameters_tested_tv, losses_tv) = calibrate_denoiser(\n",
    "                                    noisy,\n",
    "                                    denoise_tv_chambolle,\n",
    "                                    denoise_parameters=parameter_ranges_tv,\n",
    "                                    extra_output=True)\n",
    "print(f'Minimum self-supervised loss TV: {np.min(losses_tv):.4f}')\n",
    "\n",
    "best_parameters_tv = parameters_tested_tv[np.argmin(losses_tv)]\n",
    "denoised_calibrated_tv = _invariant_denoise(noisy, denoise_tv_chambolle,\n",
    "                                            denoiser_kwargs=best_parameters_tv)\n",
    "denoised_default_tv = denoise_tv_chambolle(noisy, **best_parameters_tv)\n",
    "\n",
    "psnr_calibrated_tv = psnr(image, denoised_calibrated_tv)\n",
    "psnr_default_tv = psnr(image, denoised_default_tv)\n",
    "\n",
    "parameter_ranges_wavelet = {'sigma': np.arange(0.01, 0.3, 0.03)}\n",
    "_, (parameters_tested_wavelet, losses_wavelet) = calibrate_denoiser(\n",
    "                                                noisy,\n",
    "                                                _denoise_wavelet,\n",
    "                                                parameter_ranges_wavelet,\n",
    "                                                extra_output=True)\n",
    "print(f'Minimum self-supervised loss wavelet: {np.min(losses_wavelet):.4f}')\n",
    "\n",
    "best_parameters_wavelet = parameters_tested_wavelet[np.argmin(losses_wavelet)]\n",
    "denoised_calibrated_wavelet = _invariant_denoise(\n",
    "        noisy, _denoise_wavelet,\n",
    "        denoiser_kwargs=best_parameters_wavelet)\n",
    "denoised_default_wavelet = _denoise_wavelet(noisy, **best_parameters_wavelet)\n",
    "\n",
    "psnr_calibrated_wavelet = psnr(image, denoised_calibrated_wavelet,data_range=10)\n",
    "psnr_default_wavelet = psnr(image, denoised_default_wavelet,data_range=10)\n",
    "\n",
    "sigma_est = estimate_sigma(noisy)\n",
    "\n",
    "parameter_ranges_nl = {'sigma': np.arange(0.6, 1.4, 0.2) * sigma_est,\n",
    "                       'h': np.arange(0.6, 1.2, 0.2) * sigma_est}\n",
    "\n",
    "parameter_ranges_nl = {'sigma': np.arange(0.01, 0.3, 0.03)}\n",
    "_, (parameters_tested_nl, losses_nl) = calibrate_denoiser(noisy,\n",
    "                                                        denoise_nl_means,\n",
    "                                                        parameter_ranges_nl,\n",
    "                                                        extra_output=True)\n",
    "print(f'Minimum self-supervised loss NL means: {np.min(losses_nl):.4f}')\n",
    "\n",
    "best_parameters_nl = parameters_tested_nl[np.argmin(losses_nl)]\n",
    "denoised_calibrated_nl = _invariant_denoise(noisy, denoise_nl_means,\n",
    "                                            denoiser_kwargs=best_parameters_nl)\n",
    "denoised_default_nl = denoise_nl_means(noisy, **best_parameters_nl)\n",
    "\n",
    "psnr_calibrated_nl = psnr(image, denoised_calibrated_nl)\n",
    "psnr_default_nl = psnr(image, denoised_default_nl)\n",
    "\n",
    "print('                       PSNR')\n",
    "print(f'NL means (Default)   : {psnr_default_nl:.1f}')\n",
    "print(f'NL means (Calibrated): {psnr_calibrated_nl:.1f}')\n",
    "print(f'Wavelet  (Default)   : {psnr_default_wavelet:.1f}')\n",
    "print(f'Wavelet  (Calibrated): {psnr_calibrated_wavelet:.1f}')\n",
    "print(f'TV norm  (Default)   : {psnr_default_tv:.1f}')\n",
    "print(f'TV norm  (Calibrated): {psnr_calibrated_tv:.1f}')\n",
    "\n",
    "plt.subplots(figsize=(10, 12))\n",
    "plt.imshow(noisy, cmap='Greys_r')\n",
    "plt.xticks([])\n",
    "plt.yticks([])\n",
    "plt.title('Noisy Image')\n",
    "\n",
    "def get_inset(x):\n",
    "    return x[0:100, -140:]\n",
    "\n",
    "fig, axes = plt.subplots(ncols=3, nrows=2, figsize=(15, 8))\n",
    "\n",
    "for ax in axes.ravel():\n",
    "    ax.set_xticks([])\n",
    "    ax.set_yticks([])\n",
    "\n",
    "axes[0, 0].imshow(get_inset(denoised_default_nl), cmap='Greys_r')\n",
    "axes[0, 0].set_title('NL Means Default')\n",
    "axes[1, 0].imshow(get_inset(denoised_calibrated_nl), cmap='Greys_r')\n",
    "axes[1, 0].set_title('NL Means Calibrated')\n",
    "axes[0, 1].imshow(get_inset(denoised_default_wavelet), cmap='Greys_r')\n",
    "axes[0, 1].set_title('Wavelet Default')\n",
    "axes[1, 1].imshow(get_inset(denoised_calibrated_wavelet), cmap='Greys_r')\n",
    "axes[1, 1].set_title('Wavelet Calibrated')\n",
    "axes[0, 2].imshow(get_inset(denoised_default_tv), cmap='Greys_r')\n",
    "axes[0, 2].set_title('TV Norm Default')\n",
    "axes[1, 2].imshow(get_inset(denoised_calibrated_tv), cmap='Greys_r')\n",
    "axes[1, 2].set_title('TV Norm Calibrated')\n",
    "\n",
    "for spine in axes[1, 2].spines.values():\n",
    "    spine.set_edgecolor('red')\n",
    "    spine.set_linewidth(5)\n",
    "\n",
    "plt.show()\n"
   ]
  },
  {
   "cell_type": "code",
   "execution_count": 62,
   "metadata": {},
   "outputs": [
    {
     "data": {
      "text/plain": [
       "-6.321150954965626"
      ]
     },
     "execution_count": 62,
     "metadata": {},
     "output_type": "execute_result"
    }
   ],
   "source": [
    "psnr(image, denoised_calibrated_tv, data_range=1)                      "
   ]
  },
  {
   "cell_type": "code",
   "execution_count": 66,
   "metadata": {},
   "outputs": [
    {
     "data": {
      "text/plain": [
       "(array([4.0000e+00, 0.0000e+00, 1.2000e+01, 0.0000e+00, 0.0000e+00,\n",
       "        4.6000e+01, 0.0000e+00, 1.5500e+02, 0.0000e+00, 0.0000e+00,\n",
       "        4.6200e+02, 0.0000e+00, 0.0000e+00, 1.0610e+03, 0.0000e+00,\n",
       "        2.0670e+03, 0.0000e+00, 0.0000e+00, 3.8220e+03, 0.0000e+00,\n",
       "        0.0000e+00, 6.5250e+03, 0.0000e+00, 9.7310e+03, 0.0000e+00,\n",
       "        0.0000e+00, 1.3581e+04, 0.0000e+00, 1.7317e+04, 0.0000e+00,\n",
       "        0.0000e+00, 2.0932e+04, 0.0000e+00, 0.0000e+00, 2.3384e+04,\n",
       "        0.0000e+00, 2.4687e+04, 0.0000e+00, 0.0000e+00, 2.4799e+04,\n",
       "        0.0000e+00, 0.0000e+00, 2.3248e+04, 0.0000e+00, 2.0496e+04,\n",
       "        0.0000e+00, 0.0000e+00, 1.7812e+04, 0.0000e+00, 0.0000e+00,\n",
       "        1.4655e+04, 0.0000e+00, 1.1340e+04, 0.0000e+00, 0.0000e+00,\n",
       "        8.3090e+03, 0.0000e+00, 6.0590e+03, 0.0000e+00, 0.0000e+00,\n",
       "        4.1810e+03, 0.0000e+00, 0.0000e+00, 2.7890e+03, 0.0000e+00,\n",
       "        1.8770e+03, 0.0000e+00, 0.0000e+00, 1.1570e+03, 0.0000e+00,\n",
       "        0.0000e+00, 7.0200e+02, 0.0000e+00, 4.0900e+02, 0.0000e+00,\n",
       "        0.0000e+00, 2.5200e+02, 0.0000e+00, 1.4000e+02, 0.0000e+00,\n",
       "        0.0000e+00, 6.1000e+01, 0.0000e+00, 0.0000e+00, 4.1000e+01,\n",
       "        0.0000e+00, 1.3000e+01, 0.0000e+00, 0.0000e+00, 1.1000e+01,\n",
       "        0.0000e+00, 0.0000e+00, 3.0000e+00, 0.0000e+00, 3.0000e+00,\n",
       "        0.0000e+00, 0.0000e+00, 0.0000e+00, 0.0000e+00, 1.0000e+00]),\n",
       " array([ 2.  ,  2.38,  2.76,  3.14,  3.52,  3.9 ,  4.28,  4.66,  5.04,\n",
       "         5.42,  5.8 ,  6.18,  6.56,  6.94,  7.32,  7.7 ,  8.08,  8.46,\n",
       "         8.84,  9.22,  9.6 ,  9.98, 10.36, 10.74, 11.12, 11.5 , 11.88,\n",
       "        12.26, 12.64, 13.02, 13.4 , 13.78, 14.16, 14.54, 14.92, 15.3 ,\n",
       "        15.68, 16.06, 16.44, 16.82, 17.2 , 17.58, 17.96, 18.34, 18.72,\n",
       "        19.1 , 19.48, 19.86, 20.24, 20.62, 21.  , 21.38, 21.76, 22.14,\n",
       "        22.52, 22.9 , 23.28, 23.66, 24.04, 24.42, 24.8 , 25.18, 25.56,\n",
       "        25.94, 26.32, 26.7 , 27.08, 27.46, 27.84, 28.22, 28.6 , 28.98,\n",
       "        29.36, 29.74, 30.12, 30.5 , 30.88, 31.26, 31.64, 32.02, 32.4 ,\n",
       "        32.78, 33.16, 33.54, 33.92, 34.3 , 34.68, 35.06, 35.44, 35.82,\n",
       "        36.2 , 36.58, 36.96, 37.34, 37.72, 38.1 , 38.48, 38.86, 39.24,\n",
       "        39.62, 40.  ]),\n",
       " <BarContainer object of 100 artists>)"
      ]
     },
     "execution_count": 66,
     "metadata": {},
     "output_type": "execute_result"
    }
   ],
   "source": [
    "plt.figure()\n",
    "plt.hist(ggems_scatter_projections[0].ravel(),bins=100)"
   ]
  },
  {
   "cell_type": "code",
   "execution_count": null,
   "metadata": {},
   "outputs": [],
   "source": []
  }
 ],
 "metadata": {
  "kernelspec": {
   "display_name": "tigre_fastcat",
   "language": "python",
   "name": "python3"
  },
  "language_info": {
   "codemirror_mode": {
    "name": "ipython",
    "version": 3
   },
   "file_extension": ".py",
   "mimetype": "text/x-python",
   "name": "python",
   "nbconvert_exporter": "python",
   "pygments_lexer": "ipython3",
   "version": "3.11.5"
  }
 },
 "nbformat": 4,
 "nbformat_minor": 2
}
