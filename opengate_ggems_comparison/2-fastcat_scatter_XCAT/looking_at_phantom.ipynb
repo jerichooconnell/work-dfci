{
 "cells": [
  {
   "cell_type": "code",
   "execution_count": 1,
   "metadata": {},
   "outputs": [],
   "source": [
    "%matplotlib qt\n",
    "\n",
    "import numpy as np\n",
    "import matplotlib.pyplot as plt\n",
    "import mpl_interactions as pli"
   ]
  },
  {
   "cell_type": "code",
   "execution_count": 4,
   "metadata": {},
   "outputs": [],
   "source": [
    "import fastcat as fc\n",
    "\n",
    "# Load the phantom from a pickle file using numpy\n",
    "phantom = np.load('test/ggems_1e09_121kVp.pkl',allow_pickle=True)"
   ]
  },
  {
   "cell_type": "code",
   "execution_count": 6,
   "metadata": {},
   "outputs": [
    {
     "name": "stdout",
     "output_type": "stream",
     "text": [
      "['G4_LUNG_LD_ICRP' 'G4_ADIPOSE_TISSUE_ICRP' 'YELLOW_MARROW_ICRP' 'water'\n",
      " 'RED_MARROW_ICRP' 'INTESTINE_ICRP' 'LYMPH_ICRP' 'PANCREAS_ICRP'\n",
      " 'G4_BRAIN_ICRP' 'G4_EYE_LENS_ICRP' 'G4_TESTIS_ICRP'\n",
      " 'G4_MUSCLE_SKELETAL_ICRP' 'HEART_ICRP' 'SPLEEN_ICRP' 'OVARY_ICRP'\n",
      " 'BLADDER_ICRP' 'LIVER_ICRP' 'SPLEEN_ICRP' 'G4_BLOOD_ICRP' 'G4_SKIN_ICRP'\n",
      " 'THYROID_ICRP' 'CARTILAGE_ICRP' 'C4_Vertebra_ICRP' 'G4_BLOOD_ICRP'\n",
      " 'G4_BONE_CORTICAL_ICRP' 'RIB_BONE_ICRP']\n"
     ]
    }
   ],
   "source": [
    "plt.figure()\n",
    "controls = pli.hyperslicer(phantom.phantom,cmap = 'jet')\n",
    "print(phantom.phan_map)"
   ]
  }
 ],
 "metadata": {
  "kernelspec": {
   "display_name": "tigre_fastcat",
   "language": "python",
   "name": "python3"
  },
  "language_info": {
   "codemirror_mode": {
    "name": "ipython",
    "version": 3
   },
   "file_extension": ".py",
   "mimetype": "text/x-python",
   "name": "python",
   "nbconvert_exporter": "python",
   "pygments_lexer": "ipython3",
   "version": "3.11.5"
  }
 },
 "nbformat": 4,
 "nbformat_minor": 2
}
