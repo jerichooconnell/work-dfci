{
 "cells": [
  {
   "cell_type": "code",
   "execution_count": 4,
   "metadata": {},
   "outputs": [
    {
     "name": "stdout",
     "output_type": "stream",
     "text": [
      "[2023-12-07 14:23:13,652] {pyplot.py:414} DEBUG - Loaded backend QtAgg version 5.15.7.\n",
      "%pylab is deprecated, use %matplotlib inline and import the required libraries.\n",
      "Populating the interactive namespace from numpy and matplotlib\n",
      "The autoreload extension is already loaded. To reload it, use:\n",
      "  %reload_ext autoreload\n"
     ]
    }
   ],
   "source": [
    "%pylab qt\n",
    "%load_ext autoreload\n",
    "%autoreload 2"
   ]
  },
  {
   "cell_type": "code",
   "execution_count": 5,
   "metadata": {},
   "outputs": [],
   "source": [
    "# Loop through the ggems mhd files and save them to an array\n",
    "import glob\n",
    "import fastcat as fc\n",
    "import numpy as np\n",
    "import matplotlib.pyplot as plt\n",
    "import mpl_interactions as pli\n",
    "from mpl_interactions import ipyplot as iplt\n",
    "# Zoom the ggems projections\n",
    "from scipy.ndimage import zoom\n",
    "\n",
    "ggems_scatter_files = glob.glob(\n",
    "    '/home/jericho/1-Workspace/opengate_ggems_comparison/2-fastcat_scatter_XCAT/test/out/ggems_3e09_121kVp_*scatter.mhd'\n",
    ")\n",
    "ggems_primary_files = glob.glob(\n",
    "    '/home/jericho/1-Workspace/opengate_ggems_comparison/2-fastcat_scatter_XCAT/test/out/ggems_3e09_121kVp_*[!scatter].mhd'\n",
    ")\n",
    "\n",
    "ggems_scatter_files.sort()\n",
    "ggems_primary_files.sort()\n",
    "\n",
    "ggems_primary_projections = []\n",
    "ggems_scatter_projections = []\n",
    "\n",
    "for ggems_scatter_file, ggems_primary_file in zip(ggems_scatter_files, ggems_primary_files):\n",
    "    ggems_prmiary, b, c = fc.utils.read_mhd(ggems_primary_file)\n",
    "    ggems_scatter, b, c = fc.utils.read_mhd(ggems_scatter_file)\n",
    "\n",
    "    ggems_primary_projections.append(ggems_prmiary.squeeze())\n",
    "    ggems_scatter_projections.append(ggems_scatter.squeeze())\n",
    "\n",
    "# Load the pickled phantom\n",
    "pkl_file = '/home/jericho/1-Workspace/opengate_ggems_comparison/2-fastcat_scatter_XCAT/test/ggems_1e03_121kVp.pkl'\n",
    "phantom = np.load(pkl_file, allow_pickle=True)\n",
    "\n",
    "# Convert the phantom angles to degrees\n",
    "phantom_angles = phantom.angles * 180 / np.pi\n",
    "\n",
    "# Define the denoising functions\n",
    "def downsize_block(image, block_size):\n",
    "    image_size = image.shape[0]\n",
    "    block_size = int(block_size)\n",
    "    downsize = image_size//block_size\n",
    "    image = image[:downsize*block_size, :downsize*block_size]\n",
    "    image = image.reshape(downsize, block_size, downsize,\n",
    "                          block_size).mean(axis=(1, 3))\n",
    "    return image\n",
    "\n",
    "def denoise_projections(projections):\n",
    "    projections_zoomed = []\n",
    "\n",
    "    for projection in projections:\n",
    "        projection_zoomed_downsized = downsize_block(projection, 64)\n",
    "        projection_zoomed = zoom(\n",
    "            projection_zoomed_downsized, 64, order=4, mode='nearest')\n",
    "        # Adjust the mean of the zoomed image to match the original\n",
    "        projection_zoomed = projection_zoomed * \\\n",
    "            np.mean(projection) / np.mean(projection_zoomed)\n",
    "        projections_zoomed.append(projection_zoomed)\n",
    "    \n",
    "    return projections_zoomed\n",
    "\n",
    "# zoom the scatter projections using the zoom fromfunction\n",
    "ggems_scatter_denoised = denoise_projections(ggems_scatter_projections)"
   ]
  },
  {
   "cell_type": "code",
   "execution_count": 18,
   "metadata": {},
   "outputs": [
    {
     "name": "stdout",
     "output_type": "stream",
     "text": [
      "[2023-12-07 15:14:11,908] {ggems_simulate.py:479} INFO -     Interp scatter 512 to 512 pixels\n",
      "[2023-12-07 15:14:11,908] {ggems_simulate.py:479} INFO -     Interp scatter 512 to 512 pixels\n",
      "[2023-12-07 15:14:12,090] {ggems_simulate.py:582} INFO - Running Simulations\n",
      "[2023-12-07 15:14:12,091] {ggems_simulate.py:609} INFO -     Simulating 10 keV\n",
      "[2023-12-07 15:14:14,906] {ggems_simulate.py:609} INFO -     Simulating 20 keV\n",
      "[2023-12-07 15:14:18,133] {ggems_simulate.py:609} INFO -     Simulating 30 keV\n",
      "[2023-12-07 15:14:21,341] {ggems_simulate.py:609} INFO -     Simulating 40 keV\n",
      "[2023-12-07 15:14:24,690] {ggems_simulate.py:609} INFO -     Simulating 50 keV\n",
      "[2023-12-07 15:14:28,197] {ggems_simulate.py:609} INFO -     Simulating 60 keV\n",
      "[2023-12-07 15:14:31,817] {ggems_simulate.py:609} INFO -     Simulating 70 keV\n",
      "[2023-12-07 15:14:35,469] {ggems_simulate.py:609} INFO -     Simulating 80 keV\n",
      "[2023-12-07 15:14:39,021] {ggems_simulate.py:609} INFO -     Simulating 90 keV\n",
      "[2023-12-07 15:14:42,576] {ggems_simulate.py:609} INFO -     Simulating 100 keV\n",
      "[2023-12-07 15:14:46,199] {ggems_simulate.py:824} INFO - Weighting simulations\n",
      "[2023-12-07 15:14:46,200] {ggems_simulate.py:907} INFO -     No noise was added\n"
     ]
    },
    {
     "ename": "TypeError",
     "evalue": "Phantom.return_projs() missing 3 required positional arguments: 'kernel', 'spectra', and 'angles'",
     "output_type": "error",
     "traceback": [
      "\u001b[0;31m---------------------------------------------------------------------------\u001b[0m",
      "\u001b[0;31mTypeError\u001b[0m                                 Traceback (most recent call last)",
      "\u001b[1;32m/home/jericho/1-Workspace/fastcat_ggems/ggems_scatter_interpolate.ipynb Cell 3\u001b[0m line \u001b[0;36m2\n\u001b[1;32m     <a href='vscode-notebook-cell:/home/jericho/1-Workspace/fastcat_ggems/ggems_scatter_interpolate.ipynb#X24sZmlsZQ%3D%3D?line=12'>13</a>\u001b[0m \u001b[39m# return the projections\u001b[39;00m\n\u001b[1;32m     <a href='vscode-notebook-cell:/home/jericho/1-Workspace/fastcat_ggems/ggems_scatter_interpolate.ipynb#X24sZmlsZQ%3D%3D?line=13'>14</a>\u001b[0m phantom\u001b[39m.\u001b[39mreturn_projs(det,s,angles,mgy\u001b[39m=\u001b[39m\u001b[39m0\u001b[39m, \n\u001b[1;32m     <a href='vscode-notebook-cell:/home/jericho/1-Workspace/fastcat_ggems/ggems_scatter_interpolate.ipynb#X24sZmlsZQ%3D%3D?line=14'>15</a>\u001b[0m                     ASG\u001b[39m=\u001b[39m\u001b[39mFalse\u001b[39;00m, scat_on\u001b[39m=\u001b[39m\u001b[39mFalse\u001b[39;00m,\n\u001b[1;32m     <a href='vscode-notebook-cell:/home/jericho/1-Workspace/fastcat_ggems/ggems_scatter_interpolate.ipynb#X24sZmlsZQ%3D%3D?line=15'>16</a>\u001b[0m                     det_on\u001b[39m=\u001b[39m\u001b[39mFalse\u001b[39;00m,\n\u001b[1;32m     <a href='vscode-notebook-cell:/home/jericho/1-Workspace/fastcat_ggems/ggems_scatter_interpolate.ipynb#X24sZmlsZQ%3D%3D?line=16'>17</a>\u001b[0m                     filter_on\u001b[39m=\u001b[39m\u001b[39mFalse\u001b[39;00m,\n\u001b[1;32m     <a href='vscode-notebook-cell:/home/jericho/1-Workspace/fastcat_ggems/ggems_scatter_interpolate.ipynb#X24sZmlsZQ%3D%3D?line=17'>18</a>\u001b[0m                     return_intensity\u001b[39m=\u001b[39m\u001b[39mTrue\u001b[39;00m)\u001b[39m# Get primary fastcat projections\u001b[39;00m\n\u001b[0;32m---> <a href='vscode-notebook-cell:/home/jericho/1-Workspace/fastcat_ggems/ggems_scatter_interpolate.ipynb#X24sZmlsZQ%3D%3D?line=19'>20</a>\u001b[0m phantom\u001b[39m.\u001b[39mreturn_projs()\n",
      "\u001b[0;31mTypeError\u001b[0m: Phantom.return_projs() missing 3 required positional arguments: 'kernel', 'spectra', and 'angles'"
     ]
    }
   ],
   "source": [
    "# Get the simulation parameters\n",
    "simulation_parameters = phantom.simulation_parameters\n",
    "detector_material = simulation_parameters['detector_material']\n",
    "spectrum = simulation_parameters['spectrum']\n",
    "\n",
    "# Load the spectrum as a fastcat spectrum object\n",
    "s = fc.Spectrum()\n",
    "s.load(spectrum_file=spectrum)\n",
    "\n",
    "det = fc.Detector(s,'CsI-784-micrometer')\n",
    "angles = phantom.angles\n",
    "\n",
    "# return the projections\n",
    "phantom.return_projs(det,s,angles,mgy=0, \n",
    "                    ASG=False, scat_on=False,\n",
    "                    det_on=False,\n",
    "                    filter_on=False,\n",
    "                    return_intensity=True)# Get primary fastcat projections"
   ]
  },
  {
   "cell_type": "code",
   "execution_count": 29,
   "metadata": {},
   "outputs": [],
   "source": [
    "# plt.figure()\n",
    "# pli.hyperslicer(phantom.intensity, axis=0, cmap='gray')\n",
    "\n",
    "ggems_primary_only = np.array(ggems_primary_projections) - np.array(ggems_scatter_projections)\n",
    "# Set the mean and standard deviation of the ggems primary only projections to match the fastcat projections\n",
    "def normalize_mean_and_std(array1,array2):\n",
    "    array1 = array1 - np.mean(array1)\n",
    "    array1 = array1 * np.std(array2) / np.std(array1)\n",
    "    array1 = array1 + np.mean(array2)\n",
    "    return array1\n",
    "\n",
    "phantom_projections = normalize_mean_and_std(phantom.intensity, ggems_primary_only)"
   ]
  },
  {
   "cell_type": "code",
   "execution_count": 30,
   "metadata": {},
   "outputs": [
    {
     "name": "stdout",
     "output_type": "stream",
     "text": [
      "[2023-12-07 15:45:37,273] {colorbar.py:859} DEBUG - locator: <matplotlib.ticker.AutoLocator object at 0x7f3c20b28d90>\n"
     ]
    }
   ],
   "source": [
    "# Downsize the perc_diff using the downsize_block function\n",
    "perc_diff = (np.array(ggems_scatter_denoised)-np.array(ggems_scatter_projections))/np.max(ggems_scatter_projections)*100\n",
    "perc_diff_small = []\n",
    "for i in range(len(perc_diff)):\n",
    "    perc_diff_small.append(downsize_block(perc_diff[i], 16))\n",
    "\n",
    "# Plot the ggems projections\n",
    "fig, (axes) = plt.subplots(ncols=2, nrows=3, figsize=(5.8,10))\n",
    "\n",
    "# Plot the denoised ggems projections\n",
    "controls = pli.hyperslicer(np.array(ggems_scatter_denoised),\n",
    "                           ax=axes[1][0], cmap='jet',vmax=np.percentile(np.array(ggems_scatter_denoised),99),\n",
    "                           vmin=np.percentile(np.array(ggems_scatter_denoised),1))\n",
    "axes[1][0].set_title('Denoised GGEMS scatter')\n",
    "\n",
    "ggems_primary_only = np.array(ggems_primary_projections) - np.array(ggems_scatter_projections)\n",
    "# Plot the ggems projections\n",
    "c2 = pli.hyperslicer(np.array(ggems_primary_only), ax=axes[0][1], cmap='gray',controls=controls,\n",
    "                     vmax=np.percentile(np.array(ggems_primary_only),99),\n",
    "                     vmin=np.percentile(np.array(ggems_primary_only),1))\n",
    "axes[0][1].set_title('GGEMS Primary')\n",
    "\n",
    "# Plot the phantom phantom_projections\n",
    "c1 = pli.hyperslicer(np.array(phantom_projections)[-1::-1], ax=axes[1][1], cmap='gray',controls=controls,\n",
    "                     vmax=np.percentile(np.array(phantom_projections),99),\n",
    "                     vmin=np.percentile(np.array(phantom_projections),1))\n",
    "axes[1][1].set_title('Phantom Primary')\n",
    "\n",
    "# Plot the difference between the ggems and phantom projections\n",
    "perc_diff_primary = (np.array(ggems_primary_only)-np.array(phantom_projections[-1::-1]))/np.max(phantom_projections)*100\n",
    "\n",
    "c4 = pli.hyperslicer(np.array(perc_diff_primary), ax=axes[2][1], cmap='bwr',controls=controls,\n",
    "                        vmax=5,vmin=-5)\n",
    "axes[2][1].set_title('Percentage Difference [%]')\n",
    "\n",
    "# Plot the ggems projections\n",
    "c2 = pli.hyperslicer(np.array(ggems_scatter_projections), ax=axes[0][0], cmap='jet',controls=controls,\n",
    "                     vmax=np.percentile(np.array(ggems_scatter_projections),99),\n",
    "                     vmin=np.percentile(np.array(ggems_scatter_projections),1))\n",
    "axes[0][0].set_title('GGEMS Scatter')\n",
    "\n",
    "# Plot the ggems primary projections\n",
    "c3 = pli.hyperslicer(np.array(perc_diff_small),ax=axes[2][0], cmap='bwr',vmax=5,vmin=-5,controls=controls)\n",
    "plt.colorbar(label='Percentage Difference [%]')\n",
    "plt.tight_layout()\n",
    "# Turn off the axes\n",
    "for ax in axes.flatten():\n",
    "    ax.axis('off')\n",
    "# Define a function that given an angle and radius returns x and y coordinates\n",
    "# def f(axis0,radius=220,offset=0,x0=256,y0=256,na=90):\n",
    "#     angle = np.deg2rad(axis0*360/na)\n",
    "#     x = radius * np.cos(angle+offset) + x0\n",
    "#     y = radius * np.sin(angle+offset) + y0\n",
    "#     return np.array([[x,y],[x,y],[x,y]])\n",
    "\n",
    "# iplt.plot(f, ax=axes[4], a=(0.1,10), b=(0.1,10), parametric=True,ylim=[0,1],xlim=[1,na],play_buttons=True)\n",
    "# plt.imshow(phantom.phantom[50, :, :], cmap='gray')\n",
    "# iplt.scatter(f, ax=axes[3][0], controls=controls,play_buttons=True,c='r',marker='>',parametric=True,)\n",
    "\n",
    "# Add a label in the image saying source position\n",
    "# axes[3].text(50, 50, 'Source Position', color='r', fontsize=12)\n"
   ]
  },
  {
   "cell_type": "code",
   "execution_count": 60,
   "metadata": {},
   "outputs": [
    {
     "name": "stdout",
     "output_type": "stream",
     "text": [
      "\u001b[0;31mSignature:\u001b[0m\n",
      "\u001b[0miplt\u001b[0m\u001b[0;34m.\u001b[0m\u001b[0mscatter\u001b[0m\u001b[0;34m(\u001b[0m\u001b[0;34m\u001b[0m\n",
      "\u001b[0;34m\u001b[0m    \u001b[0mx\u001b[0m\u001b[0;34m,\u001b[0m\u001b[0;34m\u001b[0m\n",
      "\u001b[0;34m\u001b[0m    \u001b[0my\u001b[0m\u001b[0;34m=\u001b[0m\u001b[0;32mNone\u001b[0m\u001b[0;34m,\u001b[0m\u001b[0;34m\u001b[0m\n",
      "\u001b[0;34m\u001b[0m    \u001b[0ms\u001b[0m\u001b[0;34m=\u001b[0m\u001b[0;32mNone\u001b[0m\u001b[0;34m,\u001b[0m\u001b[0;34m\u001b[0m\n",
      "\u001b[0;34m\u001b[0m    \u001b[0mc\u001b[0m\u001b[0;34m=\u001b[0m\u001b[0;32mNone\u001b[0m\u001b[0;34m,\u001b[0m\u001b[0;34m\u001b[0m\n",
      "\u001b[0;34m\u001b[0m    \u001b[0mvmin\u001b[0m\u001b[0;34m=\u001b[0m\u001b[0;32mNone\u001b[0m\u001b[0;34m,\u001b[0m\u001b[0;34m\u001b[0m\n",
      "\u001b[0;34m\u001b[0m    \u001b[0mvmax\u001b[0m\u001b[0;34m=\u001b[0m\u001b[0;32mNone\u001b[0m\u001b[0;34m,\u001b[0m\u001b[0;34m\u001b[0m\n",
      "\u001b[0;34m\u001b[0m    \u001b[0mvmin_vmax\u001b[0m\u001b[0;34m=\u001b[0m\u001b[0;32mNone\u001b[0m\u001b[0;34m,\u001b[0m\u001b[0;34m\u001b[0m\n",
      "\u001b[0;34m\u001b[0m    \u001b[0malpha\u001b[0m\u001b[0;34m=\u001b[0m\u001b[0;32mNone\u001b[0m\u001b[0;34m,\u001b[0m\u001b[0;34m\u001b[0m\n",
      "\u001b[0;34m\u001b[0m    \u001b[0mmarker\u001b[0m\u001b[0;34m=\u001b[0m\u001b[0;32mNone\u001b[0m\u001b[0;34m,\u001b[0m\u001b[0;34m\u001b[0m\n",
      "\u001b[0;34m\u001b[0m    \u001b[0medgecolors\u001b[0m\u001b[0;34m=\u001b[0m\u001b[0;32mNone\u001b[0m\u001b[0;34m,\u001b[0m\u001b[0;34m\u001b[0m\n",
      "\u001b[0;34m\u001b[0m    \u001b[0mfacecolors\u001b[0m\u001b[0;34m=\u001b[0m\u001b[0;32mNone\u001b[0m\u001b[0;34m,\u001b[0m\u001b[0;34m\u001b[0m\n",
      "\u001b[0;34m\u001b[0m    \u001b[0mlabel\u001b[0m\u001b[0;34m=\u001b[0m\u001b[0;32mNone\u001b[0m\u001b[0;34m,\u001b[0m\u001b[0;34m\u001b[0m\n",
      "\u001b[0;34m\u001b[0m    \u001b[0mparametric\u001b[0m\u001b[0;34m=\u001b[0m\u001b[0;32mFalse\u001b[0m\u001b[0;34m,\u001b[0m\u001b[0;34m\u001b[0m\n",
      "\u001b[0;34m\u001b[0m    \u001b[0max\u001b[0m\u001b[0;34m=\u001b[0m\u001b[0;32mNone\u001b[0m\u001b[0;34m,\u001b[0m\u001b[0;34m\u001b[0m\n",
      "\u001b[0;34m\u001b[0m    \u001b[0mslider_formats\u001b[0m\u001b[0;34m=\u001b[0m\u001b[0;32mNone\u001b[0m\u001b[0;34m,\u001b[0m\u001b[0;34m\u001b[0m\n",
      "\u001b[0;34m\u001b[0m    \u001b[0mxlim\u001b[0m\u001b[0;34m=\u001b[0m\u001b[0;34m'stretch'\u001b[0m\u001b[0;34m,\u001b[0m\u001b[0;34m\u001b[0m\n",
      "\u001b[0;34m\u001b[0m    \u001b[0mylim\u001b[0m\u001b[0;34m=\u001b[0m\u001b[0;34m'stretch'\u001b[0m\u001b[0;34m,\u001b[0m\u001b[0;34m\u001b[0m\n",
      "\u001b[0;34m\u001b[0m    \u001b[0mforce_ipywidgets\u001b[0m\u001b[0;34m=\u001b[0m\u001b[0;32mFalse\u001b[0m\u001b[0;34m,\u001b[0m\u001b[0;34m\u001b[0m\n",
      "\u001b[0;34m\u001b[0m    \u001b[0mplay_buttons\u001b[0m\u001b[0;34m=\u001b[0m\u001b[0;32mFalse\u001b[0m\u001b[0;34m,\u001b[0m\u001b[0;34m\u001b[0m\n",
      "\u001b[0;34m\u001b[0m    \u001b[0mcontrols\u001b[0m\u001b[0;34m=\u001b[0m\u001b[0;32mNone\u001b[0m\u001b[0;34m,\u001b[0m\u001b[0;34m\u001b[0m\n",
      "\u001b[0;34m\u001b[0m    \u001b[0mdisplay_controls\u001b[0m\u001b[0;34m=\u001b[0m\u001b[0;32mTrue\u001b[0m\u001b[0;34m,\u001b[0m\u001b[0;34m\u001b[0m\n",
      "\u001b[0;34m\u001b[0m    \u001b[0;34m**\u001b[0m\u001b[0mkwargs\u001b[0m\u001b[0;34m,\u001b[0m\u001b[0;34m\u001b[0m\n",
      "\u001b[0;34m\u001b[0m\u001b[0;34m)\u001b[0m\u001b[0;34m\u001b[0m\u001b[0;34m\u001b[0m\u001b[0m\n",
      "\u001b[0;31mDocstring:\u001b[0m\n",
      "Control a scatter plot using widgets.\n",
      "\n",
      "Parameters\n",
      "----------\n",
      "x, y : function or float or array-like\n",
      "    shape (n, ) for array-like. Functions must return the correct shape as well. If y is None\n",
      "    then parametric must be True and the function for x must return x, y\n",
      "c : array-like or list of colors or color or Callable\n",
      "    Valid input to plt.scatter or a function\n",
      "s : float, array-like, function, or index controls object\n",
      "    valid input to plt.scatter, or a function\n",
      "vmin, vmax : float, callable, shorthand for slider or indexed controls\n",
      "    The vmin, vmax values for the colormap. Can accept a float for a fixed value,\n",
      "    or any slider shorthand to control with a slider, or an indexed controls\n",
      "    object to use an existing slider, or an arbitrary function of the other\n",
      "    parameters.\n",
      "vmin_vmax : tuple of float\n",
      "    Used to generate a range slider for vmin and vmax. Should be given in range slider\n",
      "    notation: `(\"r\", 0, 1)`.\n",
      "alpha : float or Callable, optional\n",
      "    Affects all scatter points. This will compound with any alpha introduced by\n",
      "    the ``c`` argument\n",
      "marker : MarkerStyle, or Callable, optional\n",
      "    The marker style or a function returning marker styles.\n",
      "edgecolors : callable or valid argument to scatter\n",
      "    passed through to scatter.\n",
      "facecolors : callable or valid argument to scatter\n",
      "    Valid input to plt.scatter, or a function\n",
      "label : string\n",
      "    Passed through to Matplotlib\n",
      "parametric : boolean\n",
      "    If True then the function expects to have only received a value for y and that that function\n",
      "    will return an array for both x and y, or will return an array with shape (N, 2)\n",
      "ax : matplotlib axis, optional\n",
      "    The axis on which to plot. If none the current axis will be used.\n",
      "slider_formats : None, string, or dict\n",
      "    If None a default value of decimal points will be used. Uses the new {} style formatting\n",
      "xlim : string or tuple of floats, optional\n",
      "    If a tuple it will be passed to ax.set_xlim. Other options are:\n",
      "    'auto': rescale the x axis for every redraw\n",
      "    'stretch': only ever expand the xlims.\n",
      "ylim : string or tuple of floats, optional\n",
      "    If a tuple it will be passed to ax.set_ylim. Other options are same as xlim\n",
      "force_ipywidgets : boolean\n",
      "    If True ipywidgets will always be used, even if not using the ipympl backend.\n",
      "    If False the function will try to detect if it is ok to use ipywidgets\n",
      "    If ipywidgets are not used the function will fall back on matplotlib widgets\n",
      "play_buttons : bool or str or dict, optional\n",
      "    Whether to attach an ipywidgets.Play widget to any sliders that get created.\n",
      "    If a boolean it will apply to all kwargs, if a dictionary you choose which sliders you\n",
      "    want to attach play buttons too.\n",
      "\n",
      "    - None: no sliders\n",
      "    - True: sliders on the lft\n",
      "    - False: no sliders\n",
      "    - 'left': sliders on the left\n",
      "    - 'right': sliders on the right\n",
      "controls : mpl_interactions.controller.Controls\n",
      "    An existing controls object if you want to tie multiple plot elements to the same set of\n",
      "    controls\n",
      "display_controls : boolean\n",
      "    Whether the controls should display on creation. Ignored if controls is specified.\n",
      "**kwargs:\n",
      "    Interpreted as widgets and remainder are passed through to `ax.scatter`.\n",
      "\n",
      "Returns\n",
      "-------\n",
      "controls\n",
      "\u001b[0;31mFile:\u001b[0m      ~/anaconda3/envs/tigre_fastcat/lib/python3.11/site-packages/mpl_interactions/pyplot.py\n",
      "\u001b[0;31mType:\u001b[0m      function"
     ]
    }
   ],
   "source": [
    "iplt.scatter?"
   ]
  },
  {
   "cell_type": "code",
   "execution_count": null,
   "metadata": {},
   "outputs": [],
   "source": []
  },
  {
   "cell_type": "code",
   "execution_count": 102,
   "metadata": {},
   "outputs": [
    {
     "data": {
      "text/plain": [
       "(<Figure size 1800x900 with 4 Axes>,\n",
       " array([<Axes: title={'center': 'heatmap_0'}, xlabel='X', ylabel='Y'>,\n",
       "        <Axes: title={'center': 'heatmap_1'}, xlabel='X'>,\n",
       "        <Axes: title={'center': 'Horizontal'}>,\n",
       "        <Axes: title={'center': 'Vertical'}>], dtype=object))"
      ]
     },
     "execution_count": 102,
     "metadata": {},
     "output_type": "execute_result"
    }
   ],
   "source": [
    "mean_projection = np.mean(np.array(ggems_projections), axis=0)\n",
    "mean_projection_zoom = zoom(downsize_block(\n",
    "    mean_projection, 64), 64, order=5, mode='nearest')\n",
    "\n",
    "pli.heatmap_slicer(np.arange(0, mean_projection.shape[0]),\n",
    "                   np.arange(0, mean_projection.shape[1]),\n",
    "                   (mean_projection, mean_projection_zoom),\n",
    "                   cmap='jet',\n",
    "                   slices='both')"
   ]
  },
  {
   "cell_type": "code",
   "execution_count": 101,
   "metadata": {},
   "outputs": [],
   "source": [
    "# Do the same thing but for RectBivariateSpline\n",
    "from scipy.interpolate import RectBivariateSpline\n",
    "import numpy as np\n",
    "\n",
    "ggems_projections_downsized_spline = []\n",
    "for ggems_projection in ggems_projections_downsized:\n",
    "    # Initialize the spline\n",
    "    spline = RectBivariateSpline(np.arange(ggems_projection.shape[0]), np.arange(\n",
    "        ggems_projection.shape[1]), ggems_projection, kx=4, ky=4, s=2)\n",
    "    # Evaluate the spline on a finer grid\n",
    "    x_fine, y_fine = np.meshgrid(np.linspace(0, ggems_projection.shape[0], ggems_projection.shape[0]*4), np.linspace(\n",
    "        0, ggems_projection.shape[1], ggems_projection.shape[1]*4))\n",
    "    z_fine = spline.ev(x_fine, y_fine)\n",
    "\n",
    "    ggems_projections_downsized_spline.append(z_fine)\n",
    "\n",
    "# Plot the ggems projections\n",
    "plt.figure()\n",
    "controls = pli.hyperslicer(\n",
    "    np.array(ggems_projections_downsized_spline), cmap='jet')"
   ]
  },
  {
   "cell_type": "code",
   "execution_count": 43,
   "metadata": {},
   "outputs": [
    {
     "name": "stdout",
     "output_type": "stream",
     "text": [
      "\u001b[0;31mInit signature:\u001b[0m\n",
      "\u001b[0mRectBivariateSpline\u001b[0m\u001b[0;34m(\u001b[0m\u001b[0;34m\u001b[0m\n",
      "\u001b[0;34m\u001b[0m    \u001b[0mx\u001b[0m\u001b[0;34m,\u001b[0m\u001b[0;34m\u001b[0m\n",
      "\u001b[0;34m\u001b[0m    \u001b[0my\u001b[0m\u001b[0;34m,\u001b[0m\u001b[0;34m\u001b[0m\n",
      "\u001b[0;34m\u001b[0m    \u001b[0mz\u001b[0m\u001b[0;34m,\u001b[0m\u001b[0;34m\u001b[0m\n",
      "\u001b[0;34m\u001b[0m    \u001b[0mbbox\u001b[0m\u001b[0;34m=\u001b[0m\u001b[0;34m[\u001b[0m\u001b[0;32mNone\u001b[0m\u001b[0;34m,\u001b[0m \u001b[0;32mNone\u001b[0m\u001b[0;34m,\u001b[0m \u001b[0;32mNone\u001b[0m\u001b[0;34m,\u001b[0m \u001b[0;32mNone\u001b[0m\u001b[0;34m]\u001b[0m\u001b[0;34m,\u001b[0m\u001b[0;34m\u001b[0m\n",
      "\u001b[0;34m\u001b[0m    \u001b[0mkx\u001b[0m\u001b[0;34m=\u001b[0m\u001b[0;36m3\u001b[0m\u001b[0;34m,\u001b[0m\u001b[0;34m\u001b[0m\n",
      "\u001b[0;34m\u001b[0m    \u001b[0mky\u001b[0m\u001b[0;34m=\u001b[0m\u001b[0;36m3\u001b[0m\u001b[0;34m,\u001b[0m\u001b[0;34m\u001b[0m\n",
      "\u001b[0;34m\u001b[0m    \u001b[0ms\u001b[0m\u001b[0;34m=\u001b[0m\u001b[0;36m0\u001b[0m\u001b[0;34m,\u001b[0m\u001b[0;34m\u001b[0m\n",
      "\u001b[0;34m\u001b[0m\u001b[0;34m)\u001b[0m\u001b[0;34m\u001b[0m\u001b[0;34m\u001b[0m\u001b[0m\n",
      "\u001b[0;31mDocstring:\u001b[0m     \n",
      "Bivariate spline approximation over a rectangular mesh.\n",
      "\n",
      "Can be used for both smoothing and interpolating data.\n",
      "\n",
      "Parameters\n",
      "----------\n",
      "x,y : array_like\n",
      "    1-D arrays of coordinates in strictly ascending order.\n",
      "    Evaluated points outside the data range will be extrapolated.\n",
      "z : array_like\n",
      "    2-D array of data with shape (x.size,y.size).\n",
      "bbox : array_like, optional\n",
      "    Sequence of length 4 specifying the boundary of the rectangular\n",
      "    approximation domain, which means the start and end spline knots of\n",
      "    each dimension are set by these values. By default,\n",
      "    ``bbox=[min(x), max(x), min(y), max(y)]``.\n",
      "kx, ky : ints, optional\n",
      "    Degrees of the bivariate spline. Default is 3.\n",
      "s : float, optional\n",
      "    Positive smoothing factor defined for estimation condition:\n",
      "    ``sum((z[i]-f(x[i], y[i]))**2, axis=0) <= s`` where f is a spline\n",
      "    function. Default is ``s=0``, which is for interpolation.\n",
      "\n",
      "See Also\n",
      "--------\n",
      "BivariateSpline :\n",
      "    a base class for bivariate splines.\n",
      "UnivariateSpline :\n",
      "    a smooth univariate spline to fit a given set of data points.\n",
      "SmoothBivariateSpline :\n",
      "    a smoothing bivariate spline through the given points\n",
      "LSQBivariateSpline :\n",
      "    a bivariate spline using weighted least-squares fitting\n",
      "RectSphereBivariateSpline :\n",
      "    a bivariate spline over a rectangular mesh on a sphere\n",
      "SmoothSphereBivariateSpline :\n",
      "    a smoothing bivariate spline in spherical coordinates\n",
      "LSQSphereBivariateSpline :\n",
      "    a bivariate spline in spherical coordinates using weighted\n",
      "    least-squares fitting\n",
      "bisplrep :\n",
      "    a function to find a bivariate B-spline representation of a surface\n",
      "bisplev :\n",
      "    a function to evaluate a bivariate B-spline and its derivatives\n",
      "\n",
      "Notes\n",
      "-----\n",
      "\n",
      "If the input data is such that input dimensions have incommensurate\n",
      "units and differ by many orders of magnitude, the interpolant may have\n",
      "numerical artifacts. Consider rescaling the data before interpolating.\n",
      "\u001b[0;31mFile:\u001b[0m           ~/anaconda3/envs/tigre_fastcat/lib/python3.11/site-packages/scipy/interpolate/_fitpack2.py\n",
      "\u001b[0;31mType:\u001b[0m           type\n",
      "\u001b[0;31mSubclasses:\u001b[0m     "
     ]
    }
   ],
   "source": []
  },
  {
   "cell_type": "code",
   "execution_count": 81,
   "metadata": {},
   "outputs": [],
   "source": [
    "phantom = np.load(\n",
    "    '/home/jericho/Software/fastcat/fastcat/data/phantoms/ct_scan_head_mandible_large.npy')"
   ]
  },
  {
   "cell_type": "code",
   "execution_count": 84,
   "metadata": {},
   "outputs": [],
   "source": [
    "plt.figure()\n",
    "contr = pli.hyperslicer(phantom)"
   ]
  },
  {
   "cell_type": "code",
   "execution_count": 85,
   "metadata": {},
   "outputs": [],
   "source": [
    "# load a binary file to an array\n",
    "import numpy as np\n",
    "\n",
    "phantom = np.load()"
   ]
  },
  {
   "cell_type": "code",
   "execution_count": 86,
   "metadata": {},
   "outputs": [
    {
     "ename": "AttributeError",
     "evalue": "'Controls' object has no attribute 'vbox'",
     "output_type": "error",
     "traceback": [
      "\u001b[0;31m---------------------------------------------------------------------------\u001b[0m",
      "\u001b[0;31mAttributeError\u001b[0m                            Traceback (most recent call last)",
      "File \u001b[0;32m~/anaconda3/envs/tigre_fastcat/lib/python3.11/site-packages/IPython/core/formatters.py:922\u001b[0m, in \u001b[0;36mIPythonDisplayFormatter.__call__\u001b[0;34m(self, obj)\u001b[0m\n\u001b[1;32m    920\u001b[0m method \u001b[39m=\u001b[39m get_real_method(obj, \u001b[39mself\u001b[39m\u001b[39m.\u001b[39mprint_method)\n\u001b[1;32m    921\u001b[0m \u001b[39mif\u001b[39;00m method \u001b[39mis\u001b[39;00m \u001b[39mnot\u001b[39;00m \u001b[39mNone\u001b[39;00m:\n\u001b[0;32m--> 922\u001b[0m     method()\n\u001b[1;32m    923\u001b[0m     \u001b[39mreturn\u001b[39;00m \u001b[39mTrue\u001b[39;00m\n",
      "File \u001b[0;32m~/anaconda3/envs/tigre_fastcat/lib/python3.11/site-packages/mpl_interactions/controller.py:349\u001b[0m, in \u001b[0;36mControls._ipython_display_\u001b[0;34m(self)\u001b[0m\n\u001b[1;32m    348\u001b[0m \u001b[39mdef\u001b[39;00m \u001b[39m_ipython_display_\u001b[39m(\u001b[39mself\u001b[39m):\n\u001b[0;32m--> 349\u001b[0m     ipy_display(\u001b[39mself\u001b[39m\u001b[39m.\u001b[39mvbox)\n",
      "\u001b[0;31mAttributeError\u001b[0m: 'Controls' object has no attribute 'vbox'"
     ]
    },
    {
     "data": {
      "text/plain": [
       "<mpl_interactions.controller.Controls at 0x7fa601d8e790>"
      ]
     },
     "execution_count": 86,
     "metadata": {},
     "output_type": "execute_result"
    }
   ],
   "source": [
    "plt.figure()\n",
    "pli.hyperslicer(phantom.phantom)"
   ]
  },
  {
   "cell_type": "code",
   "execution_count": null,
   "metadata": {},
   "outputs": [],
   "source": []
  }
 ],
 "metadata": {
  "kernelspec": {
   "display_name": "tigre_fastcat",
   "language": "python",
   "name": "python3"
  },
  "language_info": {
   "codemirror_mode": {
    "name": "ipython",
    "version": 3
   },
   "file_extension": ".py",
   "mimetype": "text/x-python",
   "name": "python",
   "nbconvert_exporter": "python",
   "pygments_lexer": "ipython3",
   "version": "3.11.5"
  }
 },
 "nbformat": 4,
 "nbformat_minor": 2
}
