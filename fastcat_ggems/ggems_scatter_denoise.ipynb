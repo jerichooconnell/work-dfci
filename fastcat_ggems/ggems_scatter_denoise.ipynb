{
 "cells": [
  {
   "cell_type": "code",
   "execution_count": 1,
   "metadata": {},
   "outputs": [
    {
     "name": "stdout",
     "output_type": "stream",
     "text": [
      "%pylab is deprecated, use %matplotlib inline and import the required libraries.\n",
      "Populating the interactive namespace from numpy and matplotlib\n"
     ]
    }
   ],
   "source": [
    "%pylab qt\n",
    "%load_ext autoreload\n",
    "%autoreload 2"
   ]
  },
  {
   "cell_type": "code",
   "execution_count": 10,
   "metadata": {},
   "outputs": [],
   "source": [
    "# Loop through the ggems mhd files and save them to an array\n",
    "import glob\n",
    "import fastcat as fc\n",
    "import mpl_interactions as pli\n",
    "\n",
    "ggems_mhd_files = glob.glob(\n",
    "    '/home/jericho/1-Workspace/opengate_ggems_comparison/2-fastcat_scatter_XCAT/test/out/ggems_3e09_121kVp_*scatter.mhd'\n",
    "    )\n",
    "\n",
    "ggems_mhd_files.sort()\n",
    "ggems_projections = []\n",
    "\n",
    "for ggems_mhd_file in ggems_mhd_files:\n",
    "    ggems_projection, b, c = fc.utils.read_mhd(ggems_mhd_file)\n",
    "    ggems_projections.append(ggems_projection.squeeze())"
   ]
  },
  {
   "cell_type": "code",
   "execution_count": 11,
   "metadata": {},
   "outputs": [],
   "source": [
    "# Plot the ggems projections\n",
    "plt.figure()\n",
    "controls = pli.hyperslicer(np.array(ggems_projections), cmap='jet',vmax=np.percentile(np.array(ggems_projections),99),vmin=np.percentile(np.array(ggems_projections),1))"
   ]
  },
  {
   "cell_type": "code",
   "execution_count": 12,
   "metadata": {},
   "outputs": [],
   "source": [
    "def downsize_block(image,block_size):\n",
    "    image_size = image.shape[0]\n",
    "    block_size = int(block_size)\n",
    "    downsize = image_size//block_size\n",
    "    image = image[:downsize*block_size,:downsize*block_size]\n",
    "    image = image.reshape(downsize,block_size,downsize,block_size).mean(axis=(1,3))\n",
    "    return image"
   ]
  },
  {
   "cell_type": "code",
   "execution_count": 13,
   "metadata": {},
   "outputs": [
    {
     "ename": "AttributeError",
     "evalue": "'Controls' object has no attribute 'vbox'",
     "output_type": "error",
     "traceback": [
      "\u001b[0;31m---------------------------------------------------------------------------\u001b[0m",
      "\u001b[0;31mAttributeError\u001b[0m                            Traceback (most recent call last)",
      "File \u001b[0;32m~/anaconda3/envs/tigre_fastcat/lib/python3.11/site-packages/IPython/core/formatters.py:922\u001b[0m, in \u001b[0;36mIPythonDisplayFormatter.__call__\u001b[0;34m(self, obj)\u001b[0m\n\u001b[1;32m    920\u001b[0m method \u001b[39m=\u001b[39m get_real_method(obj, \u001b[39mself\u001b[39m\u001b[39m.\u001b[39mprint_method)\n\u001b[1;32m    921\u001b[0m \u001b[39mif\u001b[39;00m method \u001b[39mis\u001b[39;00m \u001b[39mnot\u001b[39;00m \u001b[39mNone\u001b[39;00m:\n\u001b[0;32m--> 922\u001b[0m     method()\n\u001b[1;32m    923\u001b[0m     \u001b[39mreturn\u001b[39;00m \u001b[39mTrue\u001b[39;00m\n",
      "File \u001b[0;32m~/anaconda3/envs/tigre_fastcat/lib/python3.11/site-packages/mpl_interactions/controller.py:349\u001b[0m, in \u001b[0;36mControls._ipython_display_\u001b[0;34m(self)\u001b[0m\n\u001b[1;32m    348\u001b[0m \u001b[39mdef\u001b[39;00m \u001b[39m_ipython_display_\u001b[39m(\u001b[39mself\u001b[39m):\n\u001b[0;32m--> 349\u001b[0m     ipy_display(\u001b[39mself\u001b[39m\u001b[39m.\u001b[39mvbox)\n",
      "\u001b[0;31mAttributeError\u001b[0m: 'Controls' object has no attribute 'vbox'"
     ]
    },
    {
     "data": {
      "text/plain": [
       "<mpl_interactions.controller.Controls at 0x7f0ba9bd8190>"
      ]
     },
     "execution_count": 13,
     "metadata": {},
     "output_type": "execute_result"
    }
   ],
   "source": [
    "# Zoom the ggems projections\n",
    "from scipy.ndimage import zoom\n",
    "\n",
    "ggems_projections_zoomed = []\n",
    "\n",
    "for ggems_projection in ggems_projections:\n",
    "    ggems_projection_zoomed_downsized = downsize_block(ggems_projection, 64)\n",
    "    ggems_projection_zoomed = zoom(ggems_projection_zoomed_downsized, 64, order=4, mode='nearest')\n",
    "    ggems_projections_zoomed.append(ggems_projection_zoomed)\n",
    "\n",
    "# Plot the ggems projections\n",
    "plt.figure(figsize=[9,3])\n",
    "plt.subplot(131)\n",
    "controls = pli.hyperslicer(np.array(ggems_projections_zoomed), cmap='jet',vmax=np.percentile(np.array(ggems_projections_zoomed),99),vmin=np.percentile(np.array(ggems_projections_zoomed),1))\n",
    "plt.subplot(132)\n",
    "c2 = pli.hyperslicer(np.array(ggems_projections), cmap='jet',controls=controls,vmax=np.percentile(np.array(ggems_projections_zoomed),99),vmin=np.percentile(np.array(ggems_projections_zoomed),1))\n",
    "plt.subplot(133)\n",
    "# plot the percentage difference from the max of the non-zoomed image\n",
    "perc_diff = (np.array(ggems_projections_zoomed)-np.array(ggems_projections))/np.max(ggems_projections)*100\n",
    "pli.hyperslicer(perc_diff, cmap='bwr',vmax=10,vmin=-10,controls=controls)"
   ]
  },
  {
   "cell_type": "code",
   "execution_count": 102,
   "metadata": {},
   "outputs": [
    {
     "data": {
      "text/plain": [
       "(<Figure size 1800x900 with 4 Axes>,\n",
       " array([<Axes: title={'center': 'heatmap_0'}, xlabel='X', ylabel='Y'>,\n",
       "        <Axes: title={'center': 'heatmap_1'}, xlabel='X'>,\n",
       "        <Axes: title={'center': 'Horizontal'}>,\n",
       "        <Axes: title={'center': 'Vertical'}>], dtype=object))"
      ]
     },
     "execution_count": 102,
     "metadata": {},
     "output_type": "execute_result"
    }
   ],
   "source": [
    "mean_projection = np.mean(np.array(ggems_projections), axis=0)\n",
    "mean_projection_zoom = zoom(downsize_block(mean_projection, 64),64,order=5,mode='nearest')\n",
    "\n",
    "pli.heatmap_slicer(np.arange(0,mean_projection.shape[0]),\n",
    "                   np.arange(0,mean_projection.shape[1]),\n",
    "                   (mean_projection,mean_projection_zoom),\n",
    "                   cmap='jet',\n",
    "                   slices='both')"
   ]
  },
  {
   "cell_type": "code",
   "execution_count": 101,
   "metadata": {},
   "outputs": [],
   "source": [
    "# Do the same thing but for RectBivariateSpline\n",
    "from scipy.interpolate import RectBivariateSpline\n",
    "import numpy as np\n",
    "\n",
    "ggems_projections_downsized_spline = []\n",
    "for ggems_projection in ggems_projections_downsized:\n",
    "    # Initialize the spline\n",
    "    spline = RectBivariateSpline(np.arange(ggems_projection.shape[0]),np.arange(ggems_projection.shape[1]),ggems_projection,kx=4,ky=4,s=2)\n",
    "    # Evaluate the spline on a finer grid\n",
    "    x_fine, y_fine = np.meshgrid(np.linspace(0, ggems_projection.shape[0], ggems_projection.shape[0]*4), np.linspace(0, ggems_projection.shape[1], ggems_projection.shape[1]*4))\n",
    "    z_fine = spline.ev(x_fine, y_fine)\n",
    "\n",
    "    ggems_projections_downsized_spline.append(z_fine)\n",
    "\n",
    "# Plot the ggems projections\n",
    "plt.figure()\n",
    "controls = pli.hyperslicer(np.array(ggems_projections_downsized_spline), cmap='jet')"
   ]
  },
  {
   "cell_type": "code",
   "execution_count": 43,
   "metadata": {},
   "outputs": [
    {
     "name": "stdout",
     "output_type": "stream",
     "text": [
      "\u001b[0;31mInit signature:\u001b[0m\n",
      "\u001b[0mRectBivariateSpline\u001b[0m\u001b[0;34m(\u001b[0m\u001b[0;34m\u001b[0m\n",
      "\u001b[0;34m\u001b[0m    \u001b[0mx\u001b[0m\u001b[0;34m,\u001b[0m\u001b[0;34m\u001b[0m\n",
      "\u001b[0;34m\u001b[0m    \u001b[0my\u001b[0m\u001b[0;34m,\u001b[0m\u001b[0;34m\u001b[0m\n",
      "\u001b[0;34m\u001b[0m    \u001b[0mz\u001b[0m\u001b[0;34m,\u001b[0m\u001b[0;34m\u001b[0m\n",
      "\u001b[0;34m\u001b[0m    \u001b[0mbbox\u001b[0m\u001b[0;34m=\u001b[0m\u001b[0;34m[\u001b[0m\u001b[0;32mNone\u001b[0m\u001b[0;34m,\u001b[0m \u001b[0;32mNone\u001b[0m\u001b[0;34m,\u001b[0m \u001b[0;32mNone\u001b[0m\u001b[0;34m,\u001b[0m \u001b[0;32mNone\u001b[0m\u001b[0;34m]\u001b[0m\u001b[0;34m,\u001b[0m\u001b[0;34m\u001b[0m\n",
      "\u001b[0;34m\u001b[0m    \u001b[0mkx\u001b[0m\u001b[0;34m=\u001b[0m\u001b[0;36m3\u001b[0m\u001b[0;34m,\u001b[0m\u001b[0;34m\u001b[0m\n",
      "\u001b[0;34m\u001b[0m    \u001b[0mky\u001b[0m\u001b[0;34m=\u001b[0m\u001b[0;36m3\u001b[0m\u001b[0;34m,\u001b[0m\u001b[0;34m\u001b[0m\n",
      "\u001b[0;34m\u001b[0m    \u001b[0ms\u001b[0m\u001b[0;34m=\u001b[0m\u001b[0;36m0\u001b[0m\u001b[0;34m,\u001b[0m\u001b[0;34m\u001b[0m\n",
      "\u001b[0;34m\u001b[0m\u001b[0;34m)\u001b[0m\u001b[0;34m\u001b[0m\u001b[0;34m\u001b[0m\u001b[0m\n",
      "\u001b[0;31mDocstring:\u001b[0m     \n",
      "Bivariate spline approximation over a rectangular mesh.\n",
      "\n",
      "Can be used for both smoothing and interpolating data.\n",
      "\n",
      "Parameters\n",
      "----------\n",
      "x,y : array_like\n",
      "    1-D arrays of coordinates in strictly ascending order.\n",
      "    Evaluated points outside the data range will be extrapolated.\n",
      "z : array_like\n",
      "    2-D array of data with shape (x.size,y.size).\n",
      "bbox : array_like, optional\n",
      "    Sequence of length 4 specifying the boundary of the rectangular\n",
      "    approximation domain, which means the start and end spline knots of\n",
      "    each dimension are set by these values. By default,\n",
      "    ``bbox=[min(x), max(x), min(y), max(y)]``.\n",
      "kx, ky : ints, optional\n",
      "    Degrees of the bivariate spline. Default is 3.\n",
      "s : float, optional\n",
      "    Positive smoothing factor defined for estimation condition:\n",
      "    ``sum((z[i]-f(x[i], y[i]))**2, axis=0) <= s`` where f is a spline\n",
      "    function. Default is ``s=0``, which is for interpolation.\n",
      "\n",
      "See Also\n",
      "--------\n",
      "BivariateSpline :\n",
      "    a base class for bivariate splines.\n",
      "UnivariateSpline :\n",
      "    a smooth univariate spline to fit a given set of data points.\n",
      "SmoothBivariateSpline :\n",
      "    a smoothing bivariate spline through the given points\n",
      "LSQBivariateSpline :\n",
      "    a bivariate spline using weighted least-squares fitting\n",
      "RectSphereBivariateSpline :\n",
      "    a bivariate spline over a rectangular mesh on a sphere\n",
      "SmoothSphereBivariateSpline :\n",
      "    a smoothing bivariate spline in spherical coordinates\n",
      "LSQSphereBivariateSpline :\n",
      "    a bivariate spline in spherical coordinates using weighted\n",
      "    least-squares fitting\n",
      "bisplrep :\n",
      "    a function to find a bivariate B-spline representation of a surface\n",
      "bisplev :\n",
      "    a function to evaluate a bivariate B-spline and its derivatives\n",
      "\n",
      "Notes\n",
      "-----\n",
      "\n",
      "If the input data is such that input dimensions have incommensurate\n",
      "units and differ by many orders of magnitude, the interpolant may have\n",
      "numerical artifacts. Consider rescaling the data before interpolating.\n",
      "\u001b[0;31mFile:\u001b[0m           ~/anaconda3/envs/tigre_fastcat/lib/python3.11/site-packages/scipy/interpolate/_fitpack2.py\n",
      "\u001b[0;31mType:\u001b[0m           type\n",
      "\u001b[0;31mSubclasses:\u001b[0m     "
     ]
    }
   ],
   "source": []
  },
  {
   "cell_type": "code",
   "execution_count": 81,
   "metadata": {},
   "outputs": [],
   "source": [
    "phantom = np.load('/home/jericho/Software/fastcat/fastcat/data/phantoms/ct_scan_head_mandible_large.npy')"
   ]
  },
  {
   "cell_type": "code",
   "execution_count": 84,
   "metadata": {},
   "outputs": [],
   "source": [
    "plt.figure()\n",
    "contr = pli.hyperslicer(phantom)"
   ]
  },
  {
   "cell_type": "code",
   "execution_count": 85,
   "metadata": {},
   "outputs": [],
   "source": [
    "# load a binary file to an array\n",
    "import numpy as np\n",
    "\n",
    "phantom = np.load()"
   ]
  },
  {
   "cell_type": "code",
   "execution_count": 86,
   "metadata": {},
   "outputs": [
    {
     "ename": "AttributeError",
     "evalue": "'Controls' object has no attribute 'vbox'",
     "output_type": "error",
     "traceback": [
      "\u001b[0;31m---------------------------------------------------------------------------\u001b[0m",
      "\u001b[0;31mAttributeError\u001b[0m                            Traceback (most recent call last)",
      "File \u001b[0;32m~/anaconda3/envs/tigre_fastcat/lib/python3.11/site-packages/IPython/core/formatters.py:922\u001b[0m, in \u001b[0;36mIPythonDisplayFormatter.__call__\u001b[0;34m(self, obj)\u001b[0m\n\u001b[1;32m    920\u001b[0m method \u001b[39m=\u001b[39m get_real_method(obj, \u001b[39mself\u001b[39m\u001b[39m.\u001b[39mprint_method)\n\u001b[1;32m    921\u001b[0m \u001b[39mif\u001b[39;00m method \u001b[39mis\u001b[39;00m \u001b[39mnot\u001b[39;00m \u001b[39mNone\u001b[39;00m:\n\u001b[0;32m--> 922\u001b[0m     method()\n\u001b[1;32m    923\u001b[0m     \u001b[39mreturn\u001b[39;00m \u001b[39mTrue\u001b[39;00m\n",
      "File \u001b[0;32m~/anaconda3/envs/tigre_fastcat/lib/python3.11/site-packages/mpl_interactions/controller.py:349\u001b[0m, in \u001b[0;36mControls._ipython_display_\u001b[0;34m(self)\u001b[0m\n\u001b[1;32m    348\u001b[0m \u001b[39mdef\u001b[39;00m \u001b[39m_ipython_display_\u001b[39m(\u001b[39mself\u001b[39m):\n\u001b[0;32m--> 349\u001b[0m     ipy_display(\u001b[39mself\u001b[39m\u001b[39m.\u001b[39mvbox)\n",
      "\u001b[0;31mAttributeError\u001b[0m: 'Controls' object has no attribute 'vbox'"
     ]
    },
    {
     "data": {
      "text/plain": [
       "<mpl_interactions.controller.Controls at 0x7fa601d8e790>"
      ]
     },
     "execution_count": 86,
     "metadata": {},
     "output_type": "execute_result"
    }
   ],
   "source": [
    "plt.figure()\n",
    "pli.hyperslicer(phantom.phantom)"
   ]
  },
  {
   "cell_type": "code",
   "execution_count": null,
   "metadata": {},
   "outputs": [],
   "source": []
  }
 ],
 "metadata": {
  "kernelspec": {
   "display_name": "tigre_fastcat",
   "language": "python",
   "name": "python3"
  },
  "language_info": {
   "codemirror_mode": {
    "name": "ipython",
    "version": 3
   },
   "file_extension": ".py",
   "mimetype": "text/x-python",
   "name": "python",
   "nbconvert_exporter": "python",
   "pygments_lexer": "ipython3",
   "version": "3.11.5"
  }
 },
 "nbformat": 4,
 "nbformat_minor": 2
}
