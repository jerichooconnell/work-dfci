{
 "cells": [
  {
   "cell_type": "code",
   "execution_count": 1,
   "metadata": {},
   "outputs": [
    {
     "name": "stdout",
     "output_type": "stream",
     "text": [
      "%pylab is deprecated, use %matplotlib inline and import the required libraries.\n",
      "Populating the interactive namespace from numpy and matplotlib\n"
     ]
    }
   ],
   "source": [
    "%pylab qt"
   ]
  },
  {
   "cell_type": "code",
   "execution_count": 2,
   "metadata": {},
   "outputs": [],
   "source": [
    "import topas2numpy as t2np\n",
    "import numpy as np\n",
    "import mpl_interactions as pli"
   ]
  },
  {
   "cell_type": "code",
   "execution_count": 13,
   "metadata": {},
   "outputs": [
    {
     "data": {
      "text/plain": [
       "<matplotlib.legend.Legend at 0x7fafbc08c690>"
      ]
     },
     "execution_count": 13,
     "metadata": {},
     "output_type": "execute_result"
    }
   ],
   "source": [
    "\n",
    "from topas2numpy import BinnedResult\n",
    "primary = BinnedResult('primary_only.csv')\n",
    "secondary = BinnedResult('primary.csv')\n",
    "# y = BinnedResult('secondary.csv')\n",
    "\n",
    "# from topas2numpy import BinnedResult\n",
    "# x = BinnedResult('primary.bin')\n",
    "# y = BinnedResult('secondary.bin')\n",
    "\n",
    "plt.figure()\n",
    "plt.plot(np.sum(primary.data['Sum'],axis=(0,1)),  label='primary')\n",
    "plt.plot(np.sum(secondary.data['Sum'],axis=(0,1)), label='secondary')\n",
    "plt.legend()"
   ]
  },
  {
   "cell_type": "code",
   "execution_count": 20,
   "metadata": {},
   "outputs": [
    {
     "data": {
      "text/plain": [
       "Text(0.5, 0, 'Crystal depth (mm)')"
      ]
     },
     "execution_count": 20,
     "metadata": {},
     "output_type": "execute_result"
    }
   ],
   "source": [
    "\n",
    "from topas2numpy import BinnedResult\n",
    "primary = BinnedResult('primary_only.csv')\n",
    "secondary = BinnedResult('primary.csv')\n",
    "# y = BinnedResult('secondary.csv')\n",
    "\n",
    "# from topas2numpy import BinnedResult\n",
    "# x = BinnedResult('primary.bin')\n",
    "# y = BinnedResult('secondary.bin')\n",
    "\n",
    "# Plotting the same as above but this time normalizing both primary and secondary\n",
    "\n",
    "xx = np.linspace(0,2,200)\n",
    "\n",
    "plt.figure()\n",
    "plt.semilogx(xx,(np.sum(primary.data['Sum'],axis=(0,1))/np.sum(primary.data['Sum']))[-1::-1],  label='primary')\n",
    "plt.semilogx(xx,(np.sum(secondary.data['Sum'],axis=(0,1))/np.sum(secondary.data['Sum']))[-1::-1], label='secondary')\n",
    "plt.legend()\n",
    "\n",
    "plt.ylabel('Normalized Energy Deposition (a.u.)')\n",
    "plt.xlabel('Crystal depth (mm)')"
   ]
  },
  {
   "cell_type": "code",
   "execution_count": 36,
   "metadata": {},
   "outputs": [
    {
     "data": {
      "text/plain": [
       "[<matplotlib.lines.Line2D at 0x7fafb60d4790>]"
      ]
     },
     "execution_count": 36,
     "metadata": {},
     "output_type": "execute_result"
    }
   ],
   "source": [
    "plt.figure()\n",
    "plt.plot(np.sum(primary,axis=(0,1)),  label='primary')"
   ]
  },
  {
   "cell_type": "code",
   "execution_count": 44,
   "metadata": {},
   "outputs": [],
   "source": [
    "plt.figure()\n",
    "c = pli.hyperslicer(primary)"
   ]
  },
  {
   "cell_type": "code",
   "execution_count": 127,
   "metadata": {},
   "outputs": [],
   "source": [
    "primary = np.loadtxt('primary_only.csv',delimiter=',')\n",
    "secondary = np.loadtxt('primary.csv',delimiter=',')\n",
    "primary = primary.reshape(10,10,200,103)\n",
    "secondary = secondary.reshape(10,10,200,103)"
   ]
  },
  {
   "cell_type": "code",
   "execution_count": 128,
   "metadata": {},
   "outputs": [],
   "source": [
    "import matplotlib.pyplot as plt"
   ]
  },
  {
   "cell_type": "code",
   "execution_count": 129,
   "metadata": {},
   "outputs": [
    {
     "name": "stderr",
     "output_type": "stream",
     "text": [
      "/tmp/ipykernel_4946/3713051473.py:18: UserWarning: The following kwargs were not used by contour: 'label'\n",
      "  plt.contourf(np.sum(primary,axis=(0,1)), 400, label='primary',cmap='jet',extent=[0,120,0,2])\n"
     ]
    },
    {
     "data": {
      "text/plain": [
       "<matplotlib.contour.QuadContourSet at 0x7fafa62d48d0>"
      ]
     },
     "execution_count": 129,
     "metadata": {},
     "output_type": "execute_result"
    }
   ],
   "source": [
    "# plt.figure()\n",
    "# plt.subplot(121)\n",
    "# plt.imshow(np.sum(primary,axis=(0,1)),  label='primary',cmap='jet',extent=[0,120,0,2])\n",
    "# plt.title('Primary Energy Deposition')\n",
    "# plt.xlabel('Crystal Depth (mm)')\n",
    "# plt.ylabel('Energy keV')\n",
    "# plt.axis('equal')\n",
    "# plt.subplot(122)\n",
    "# plt.axis('equal')\n",
    "# plt.imshow(np.sum(secondary,axis=(0,1)),  label='primary',cmap='jet',extent=[0,120,0,2])\n",
    "# plt.title('Secondary Energy Deposition')\n",
    "# plt.xlabel('Crystal Depth (mm)')\n",
    "# plt.ylabel('Energy keV')\n",
    "\n",
    "# Plot the sum of the primary in the first two axes with axis values from 0 to 120 in 103 steps and 0 to 2 in 200 steps\n",
    "plt.figure()\n",
    "plt.subplot(121)\n",
    "plt.contourf(np.sum(primary,axis=(0,1)), 400, label='primary',cmap='jet',extent=[0,120,0,2])"
   ]
  },
  {
   "cell_type": "code",
   "execution_count": 4,
   "metadata": {},
   "outputs": [],
   "source": [
    "!export LD_PRELOAD=/usr/lib/x86_64-linux-gnu/libstdc++.so.6:${LD_PRELOAD}"
   ]
  },
  {
   "cell_type": "code",
   "execution_count": 204,
   "metadata": {},
   "outputs": [
    {
     "name": "stderr",
     "output_type": "stream",
     "text": [
      "/tmp/ipykernel_4946/4056689440.py:3: UserWarning: The following kwargs were not used by contour: 'label'\n",
      "  plt.contourf(np.flipud(np.log(np.sum(primary,axis=(0,1))+1)), 400, label='primary',cmap='jet',extent=[0,120,0,2])\n",
      "/tmp/ipykernel_4946/4056689440.py:10: UserWarning: The following kwargs were not used by contour: 'label'\n",
      "  plt.contourf(np.flipud(np.log(np.sum(secondary,axis=(0,1))+1)), 400, label='primary',cmap='jet',extent=[0,120,0,2])\n"
     ]
    }
   ],
   "source": [
    "plt.figure(figsize=[10,5])\n",
    "plt.subplot(121)\n",
    "plt.contourf(np.flipud(np.log(np.sum(primary,axis=(0,1))+1)), 400, label='primary',cmap='jet',extent=[0,120,0,2])\n",
    "plt.title('Log(Primary Energy Deposition)')\n",
    "plt.ylabel('Crystal Depth (mm)')\n",
    "plt.xlabel('Energy keV')\n",
    "plt.colorbar(label='Log Energy Deposition')\n",
    "\n",
    "plt.subplot(122)\n",
    "plt.contourf(np.flipud(np.log(np.sum(secondary,axis=(0,1))+1)), 400, label='primary',cmap='jet',extent=[0,120,0,2])\n",
    "plt.title('Log(Scatter Energy Deposition)')\n",
    "# plt.ylabel('Crystal Depth (mm)')\n",
    "plt.xlabel('Energy keV')\n",
    "plt.colorbar()\n",
    "plt.tight_layout()"
   ]
  },
  {
   "cell_type": "code",
   "execution_count": 205,
   "metadata": {},
   "outputs": [
    {
     "data": {
      "text/plain": [
       "[<matplotlib.lines.Line2D at 0x7faf968ac990>]"
      ]
     },
     "execution_count": 205,
     "metadata": {},
     "output_type": "execute_result"
    }
   ],
   "source": [
    "plt.figure()\n",
    "# Make a histogram along the first axis of the x.data['Sum'] array\n",
    "# and plot it as a function of the bin centers\n",
    "plt.plot(np.sum(x.data['Sum'], axis=(0,1)))"
   ]
  },
  {
   "cell_type": "code",
   "execution_count": 206,
   "metadata": {},
   "outputs": [
    {
     "name": "stderr",
     "output_type": "stream",
     "text": [
      "/tmp/ipykernel_4946/3386795715.py:22: RuntimeWarning: invalid value encountered in scalar divide\n",
      "  spr_first = np.sum(secondary_image[:i, 1:-2]) / \\\n",
      "/tmp/ipykernel_4946/3386795715.py:5: RuntimeWarning: divide by zero encountered in scalar divide\n",
      "  return np.abs(data1 - data2)/(1/(data3.sum()) + 1/(data4.sum()))**0.5\n"
     ]
    }
   ],
   "source": [
    "# Loop over the first axis of the summed (1,2) data and calculate the contrast to noise ratio\n",
    "# for each energy bin\n",
    "\n",
    "def contrast_to_noise(data1, data2, data3, data4):\n",
    "    return np.abs(data1 - data2)/(1/(data3.sum()) + 1/(data4.sum()))**0.5\n",
    "\n",
    "\n",
    "# Define the primary and secondary arrays\n",
    "primary_image = np.sum(primary, axis=(0, 1))\n",
    "secondary_image = np.sum(secondary, axis=(0, 1))\n",
    "\n",
    "# Loop over the first axis of the summed (1,2) data and calculate the contrast to noise ratio\n",
    "# for each energy bin\n",
    "contrast_to_noise_list = []\n",
    "spr_firsts = []\n",
    "spr_seconds = []\n",
    "\n",
    "for i in range(primary_image.shape[0]):\n",
    "    first_layer = (primary_image[:i, 1:-2] + secondary_image[:i, 1:-2])\n",
    "    second_layer = (primary_image[i:, 1:-2] + secondary_image[i:, 1:-2])\n",
    "\n",
    "    spr_first = np.sum(secondary_image[:i, 1:-2]) / \\\n",
    "        np.sum(primary_image[:i, 1:-2])\n",
    "    spr_second = np.sum(secondary_image[i:, 1:-2])/ \\\n",
    "        np.sum(primary_image[i:, 1:-2])\n",
    "\n",
    "    contrast_to_noise_list.append(contrast_to_noise(\n",
    "        spr_first,spr_second , first_layer, second_layer))\n",
    "    spr_firsts.append(spr_first)\n",
    "    spr_seconds.append(spr_second)\n",
    "\n",
    "xx = np.linspace(0,2,200)\n",
    "plt.figure()\n",
    "plt.subplot(121)\n",
    "plt.plot(xx,contrast_to_noise_list[-1::-1])\n",
    "# Add a vertical red line at the maximum and label it with its value\n",
    "plt.axvline(np.nanargmax(contrast_to_noise_list[-1::-1])*0.01, color='red')\n",
    "plt.text(np.nanargmax(contrast_to_noise_list[-1::-1])*0.01, 0.5, str(np.nanargmax(contrast_to_noise_list[-1::-1])*0.01) + ' mm', color='red')\n",
    "plt.xlabel('First Layer Thickness (mm)')\n",
    "plt.ylabel('Contrast to Noise Ratio')\n",
    "plt.title('SPR Contrast to Noise Ratio vs Layer Thickness')\n",
    "plt.subplot(122)\n",
    "plt.plot(xx,spr_firsts[-1::-1],label='Second Layer')\n",
    "plt.plot(xx,spr_seconds[-1::-1],label='First Layer')\n",
    "plt.plot(xx,np.abs(np.array(spr_seconds[-1::-1]) - np.array(spr_firsts[-1::-1])),label='Abs diff')\n",
    "plt.xlabel('First Layer Thickness (mm)')\n",
    "plt.ylabel('Scatter to Primary Ratio')\n",
    "plt.title('Scatter to Primary Ratio vs Layer Thickness')\n",
    "plt.legend()\n",
    "plt.tight_layout()"
   ]
  },
  {
   "cell_type": "code",
   "execution_count": 211,
   "metadata": {},
   "outputs": [
    {
     "name": "stderr",
     "output_type": "stream",
     "text": [
      "/tmp/ipykernel_4946/4187589785.py:23: RuntimeWarning: invalid value encountered in scalar divide\n",
      "  spr_first = np.sum(secondary_image[:i, 1:-2]) / \\\n",
      "/tmp/ipykernel_4946/4187589785.py:5: RuntimeWarning: Mean of empty slice.\n",
      "  return np.abs(data1.mean() - data2.mean())/(1/(data3.sum()) + 1/(data4.sum()))**0.5\n",
      "/tmp/ipykernel_4946/4187589785.py:5: RuntimeWarning: divide by zero encountered in scalar divide\n",
      "  return np.abs(data1.mean() - data2.mean())/(1/(data3.sum()) + 1/(data4.sum()))**0.5\n"
     ]
    }
   ],
   "source": [
    "# Loop over the first axis of the summed (1,2) data and calculate the contrast to noise ratio\n",
    "# for each energy bin\n",
    "\n",
    "def contrast_to_noise(data1, data2, data3, data4):\n",
    "    return np.abs(data1.mean() - data2.mean())/(1/(data3.sum()) + 1/(data4.sum()))**0.5\n",
    "\n",
    "\n",
    "# Define the primary and secondary arrays\n",
    "primary_image = np.sum(primary, axis=(0, 1))\n",
    "secondary_image = np.sum(secondary, axis=(0, 1))\n",
    "\n",
    "# Loop over the first axis of the summed (1,2) data and calculate the contrast to noise ratio\n",
    "# for each energy bin\n",
    "contrast_to_noise_list = []\n",
    "spr_firsts = []\n",
    "spr_seconds = []\n",
    "\n",
    "for i in range(primary_image.shape[0]):\n",
    "    \n",
    "    first_layer = (primary_image[:i, 1:-2] + secondary_image[:i, 1:-2])\n",
    "    second_layer = (primary_image[i:, 1:-2] + secondary_image[i:, 1:-2])\n",
    "\n",
    "    spr_first = np.sum(secondary_image[:i, 1:-2]) / \\\n",
    "        np.sum(primary_image[:i, 1:-2])\n",
    "    \n",
    "    spr_second = np.sum(secondary_image[i:, 1:-2])/ \\\n",
    "        np.sum(primary_image[i:, 1:-2])\n",
    "\n",
    "    contrast_to_noise_list.append(contrast_to_noise(\n",
    "        first_layer, second_layer, first_layer, second_layer))\n",
    "    \n",
    "    spr_firsts.append(np.mean(first_layer))\n",
    "    spr_seconds.append(np.mean(second_layer))\n",
    "\n",
    "\n",
    "xx = np.linspace(0,2,200)\n",
    "plt.figure()\n",
    "plt.subplot(121)\n",
    "plt.plot(xx,contrast_to_noise_list[-1::-1])\n",
    "# Add a vertical red line at the maximum and label it with its value\n",
    "plt.axvline(np.nanargmax(contrast_to_noise_list[-1::-1])*0.01, color='red')\n",
    "plt.text(np.nanargmax(contrast_to_noise_list[-1::-1])*0.01, 0.5, str(np.nanargmax(contrast_to_noise_list[-1::-1])*0.01) + ' mm', color='red')\n",
    "plt.xlabel('First Layer Thickness (mm)')\n",
    "plt.ylabel('Contrast to Noise Ratio')\n",
    "plt.title('CNR vs Layer Thickness')\n",
    "plt.subplot(122)\n",
    "plt.plot(xx,spr_firsts[-1::-1],label='Second Layer')\n",
    "plt.plot(xx,spr_seconds[-1::-1],label='First Layer')\n",
    "plt.plot(xx,np.abs(np.array(spr_seconds[-1::-1]) - np.array(spr_firsts[-1::-1])),label='Abs diff')\n",
    "plt.xlabel('First Layer Thickness (mm)')\n",
    "plt.ylabel('Mean Energy Deposition [MeV]')\n",
    "plt.title('Mean Energy Deposition $\\mu$ vs Layer Thickness')\n",
    "plt.legend()\n",
    "plt.tight_layout()"
   ]
  },
  {
   "cell_type": "code",
   "execution_count": 176,
   "metadata": {},
   "outputs": [
    {
     "data": {
      "text/plain": [
       "nan"
      ]
     },
     "execution_count": 176,
     "metadata": {},
     "output_type": "execute_result"
    }
   ],
   "source": [
    "np.max(contrast_to_noise_list[-1::-1])"
   ]
  },
  {
   "cell_type": "code",
   "execution_count": 197,
   "metadata": {},
   "outputs": [
    {
     "name": "stderr",
     "output_type": "stream",
     "text": [
      "/tmp/ipykernel_4946/132701224.py:31: RuntimeWarning: invalid value encountered in scalar divide\n",
      "  spr_first = np.sum(secondary_image[:i, 1:-2]) / \\\n",
      "/tmp/ipykernel_4946/132701224.py:5: RuntimeWarning: Mean of empty slice.\n",
      "  one = np.abs(data1.mean() - data2.mean())/(1/(data1.sum()) + 1/(data2.sum()))**0.5\n",
      "/tmp/ipykernel_4946/132701224.py:5: RuntimeWarning: divide by zero encountered in scalar divide\n",
      "  one = np.abs(data1.mean() - data2.mean())/(1/(data1.sum()) + 1/(data2.sum()))**0.5\n",
      "/tmp/ipykernel_4946/132701224.py:6: RuntimeWarning: Mean of empty slice.\n",
      "  two = np.abs(data1.mean() - data3.mean())/(1/(data1.sum()) + 1/(data3.sum()))**0.5\n",
      "/tmp/ipykernel_4946/132701224.py:6: RuntimeWarning: divide by zero encountered in scalar divide\n",
      "  two = np.abs(data1.mean() - data3.mean())/(1/(data1.sum()) + 1/(data3.sum()))**0.5\n"
     ]
    },
    {
     "data": {
      "text/plain": [
       "[<matplotlib.lines.Line2D at 0x7faf9c7c1590>]"
      ]
     },
     "execution_count": 197,
     "metadata": {},
     "output_type": "execute_result"
    }
   ],
   "source": [
    "# Loop over the first axis of the summed (1,2) data and calculate the contrast to noise ratio\n",
    "# for each energy bin\n",
    "\n",
    "def contrast_to_noise_3(data1, data2, data3):\n",
    "    one = np.abs(data1.mean() - data2.mean())/(1/(data1.sum()) + 1/(data2.sum()))**0.5\n",
    "    two = np.abs(data1.mean() - data3.mean())/(1/(data1.sum()) + 1/(data3.sum()))**0.5\n",
    "    three = np.abs(data2.mean() - data3.mean())/(1/(data2.sum()) + 1/(data3.sum()))**0.5\n",
    "\n",
    "    max_contrast = np.max([one,two,three])\n",
    "    return np.sum([one,two,three])/max_contrast\n",
    "\n",
    "\n",
    "# Define the primary and secondary arrays\n",
    "primary_image = np.sum(primary, axis=(0, 1))\n",
    "secondary_image = np.sum(secondary, axis=(0, 1))\n",
    "\n",
    "# Loop over the first axis of the summed (1,2) data and calculate the contrast to noise ratio\n",
    "# for each energy bin\n",
    "# initialize arrays to hold the contrast to noise ratio and the secondary to primary ratio\n",
    "contrast_to_noise_array = np.zeros((primary_image.shape[0],primary_image.shape[0]))\n",
    "spr_firsts = np.zeros((primary_image.shape[0],primary_image.shape[0]))\n",
    "spr_seconds = np.zeros((primary_image.shape[0],primary_image.shape[0]))\n",
    "spr_thirds = np.zeros((primary_image.shape[0],primary_image.shape[0]))\n",
    "\n",
    "for i in range(primary_image.shape[0]):\n",
    "    for j in range(i+1,primary_image.shape[0]):\n",
    "        first_layer = (primary_image[:i, 1:-2] + secondary_image[:i, 1:-2])\n",
    "        second_layer = (primary_image[i:j, 1:-2] + secondary_image[i:j, 1:-2])\n",
    "        third_layer = (primary_image[j:, 1:-2] + secondary_image[j:, 1:-2])\n",
    "\n",
    "        spr_first = np.sum(secondary_image[:i, 1:-2]) / \\\n",
    "            np.sum(primary_image[:i, 1:-2])\n",
    "        spr_second = np.sum(secondary_image[i:j, 1:-2])/ \\\n",
    "            np.sum(primary_image[i:j, 1:-2])\n",
    "        spr_third = np.sum(secondary_image[j:, 1:-2])/ \\\n",
    "            np.sum(primary_image[j:, 1:-2])\n",
    "\n",
    "        contrast_to_noise_array[i,j] = contrast_to_noise_3(\n",
    "            first_layer, second_layer, third_layer)\n",
    "        contrast_to_noise_array[j,i] = contrast_to_noise_array[i,j]\n",
    "        spr_firsts[i,j] = spr_first\n",
    "        spr_seconds[i,j] = spr_second\n",
    "        spr_thirds[i,j] = spr_third\n",
    "        # indeces.append([i,j])\n",
    "\n",
    "plt.figure()\n",
    "plt.subplot(121)\n",
    "plt.imshow(contrast_to_noise_array)\n",
    "plt.xlabel('Energy Bin')\n",
    "plt.ylabel('Contrast to Noise Ratio')\n",
    "plt.title('Contrast to Noise Ratio vs Layer Thickness')\n",
    "# Plot a star where the maximum contrast to noise ratio is\n",
    "plt.plot(np.nanargmax(contrast_to_noise_array)/contrast_to_noise_array.shape[0]-1,\n",
    "         np.nanargmax(contrast_to_noise_array)%contrast_to_noise_array.shape[0],'*',color='r')\n",
    "# plt.subplot(122)\n",
    "# plt.imshow(spr_firsts[-1::-1],label='Second Layer')\n",
    "# plt.plot(spr_seconds[-1::-1],label='First Layer')\n",
    "# plt.plot(spr_thirds[-1::-1],label='Third Layer')\n",
    "# plt.xlabel('Layer Thickness (10 microns)')\n",
    "# plt.ylabel('Secondary to Primary Ratio')\n",
    "# plt.title('Secondary to Primary Ratio vs Layer Thickness')\n",
    "# plt.legend()\n",
    "# plt.tight_layout()"
   ]
  },
  {
   "cell_type": "code",
   "execution_count": null,
   "metadata": {},
   "outputs": [],
   "source": []
  }
 ],
 "metadata": {
  "kernelspec": {
   "display_name": "tigre_fastcat",
   "language": "python",
   "name": "python3"
  },
  "language_info": {
   "codemirror_mode": {
    "name": "ipython",
    "version": 3
   },
   "file_extension": ".py",
   "mimetype": "text/x-python",
   "name": "python",
   "nbconvert_exporter": "python",
   "pygments_lexer": "ipython3",
   "version": "3.11.5"
  }
 },
 "nbformat": 4,
 "nbformat_minor": 2
}
